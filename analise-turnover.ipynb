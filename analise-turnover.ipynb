{
 "cells": [
  {
   "cell_type": "markdown",
   "metadata": {},
   "source": [
    "# Dicionário de dados:\n",
    "\n",
    "| Variável | Descrição |\n",
    "| --- | --- |\n",
    "| ID | Matrícula do funcionário |\n",
    "| Funcionário_deixou_a_empresa | Marcação sem funcionário deixou a empresa recentemente |\n",
    "| Idade | Idade do funcionário |\n",
    "| Frequência de Viagens | Frequência de viagens a trabalho do funcionário |\n",
    "| Distância_do_trabalho | Distância em Km até o trabalho |\n",
    "| Formação | Nível de formação |\n",
    "| E-Sat | Satisfação com o clima organizacional |\n",
    "| Gênero | Gênero do funcionário |\n",
    "| Estado_Civil | Estado civil do funcionário |\n",
    "| Salário | Salário mensal |\n",
    "| Qte_Empresas_Trabalhadas | Quantidade de empresas que o funcionário já trabalhou |\n",
    "| Faz_hora_extras? | Se funcionário costuma fazer hora extra |\n",
    "| Perc_de_aumento | Percentual de aumento de salário de 2018 a 2019 |\n",
    "| Qte_ações_da_empresa | Qte de lotes de ações da empresa que o funcionário possui |\n",
    "| Tempo_de_carreira | Tempo em anos que o funcionário tem de carreira |\n",
    "| Horas_de_treinamento | Qte de horas de treinamento que o funcionário teve no ano passado |\n",
    "| Equilibrio_de_Vida | Nota que o funcionário deu para seu equilibrio entre vida pessoal e profissional |\n",
    "| Tempo_de_empresa | Tempo em anos que o funcionário trabalha na empresa |\n",
    "| Anos_no_mesmo_cargo | Qte de tempo em anos que o funcionário atua no mesmo cargo |\n",
    "| Anos_desde_a_ultima_promocao | Qte de tempo em anos que o funcionário teve a última promoção |\n",
    "| Anos_com_o_mesmo_chefe | Qte de tempo em anos que o funcionário responde para o mesmo chefe |\n"
   ]
  },
  {
   "cell_type": "code",
   "execution_count": 47,
   "metadata": {},
   "outputs": [],
   "source": [
    "# importando as bibliotecas necessárias\n",
    "import pandas as pd\n",
    "import numpy as np"
   ]
  },
  {
   "cell_type": "code",
   "execution_count": 48,
   "metadata": {},
   "outputs": [],
   "source": [
    "# carregando os dados de turnover com 1 linha de cabeçalho\n",
    "df = pd.read_excel(\"Base_RH.xlsx\", sheet_name=\"Base\")"
   ]
  },
  {
   "cell_type": "code",
   "execution_count": 49,
   "metadata": {},
   "outputs": [
    {
     "data": {
      "text/html": [
       "<div>\n",
       "<style scoped>\n",
       "    .dataframe tbody tr th:only-of-type {\n",
       "        vertical-align: middle;\n",
       "    }\n",
       "\n",
       "    .dataframe tbody tr th {\n",
       "        vertical-align: top;\n",
       "    }\n",
       "\n",
       "    .dataframe thead th {\n",
       "        text-align: right;\n",
       "    }\n",
       "</style>\n",
       "<table border=\"1\" class=\"dataframe\">\n",
       "  <thead>\n",
       "    <tr style=\"text-align: right;\">\n",
       "      <th></th>\n",
       "      <th>ID</th>\n",
       "      <th>Funcionário_deixou_a_empresa</th>\n",
       "      <th>Idade</th>\n",
       "      <th>Frequência de Viagens</th>\n",
       "      <th>Distância_do_trabalho</th>\n",
       "      <th>Formação</th>\n",
       "      <th>E-Sat</th>\n",
       "      <th>Gênero</th>\n",
       "      <th>Estado_Civil</th>\n",
       "      <th>Salário</th>\n",
       "      <th>...</th>\n",
       "      <th>Faz_hora_extras?</th>\n",
       "      <th>Perc_de_aumento</th>\n",
       "      <th>Qte_ações_da_empresa</th>\n",
       "      <th>Tempo_de_carreira</th>\n",
       "      <th>Horas_de_treinamento</th>\n",
       "      <th>Equilibrio_de_Vida</th>\n",
       "      <th>Tempo_de_empresa</th>\n",
       "      <th>Anos_no_mesmo_cargo</th>\n",
       "      <th>Anos_desde_a_ultima_promocao</th>\n",
       "      <th>Anos_com_o_mesmo_chefe</th>\n",
       "    </tr>\n",
       "  </thead>\n",
       "  <tbody>\n",
       "    <tr>\n",
       "      <th>0</th>\n",
       "      <td>1</td>\n",
       "      <td>Sim</td>\n",
       "      <td>41</td>\n",
       "      <td>Viaja raramente</td>\n",
       "      <td>1</td>\n",
       "      <td>Ensino Técnico</td>\n",
       "      <td>Médio</td>\n",
       "      <td>M</td>\n",
       "      <td>Solteiro</td>\n",
       "      <td>5993</td>\n",
       "      <td>...</td>\n",
       "      <td>Sim</td>\n",
       "      <td>11</td>\n",
       "      <td>0</td>\n",
       "      <td>8</td>\n",
       "      <td>0</td>\n",
       "      <td>Ruim</td>\n",
       "      <td>6</td>\n",
       "      <td>4</td>\n",
       "      <td>0</td>\n",
       "      <td>5</td>\n",
       "    </tr>\n",
       "    <tr>\n",
       "      <th>1</th>\n",
       "      <td>2</td>\n",
       "      <td>Não</td>\n",
       "      <td>49</td>\n",
       "      <td>Viaja frequentemente</td>\n",
       "      <td>8</td>\n",
       "      <td>Ensino Médio</td>\n",
       "      <td>Alto</td>\n",
       "      <td>H</td>\n",
       "      <td>Casado</td>\n",
       "      <td>5130</td>\n",
       "      <td>...</td>\n",
       "      <td>Não</td>\n",
       "      <td>23</td>\n",
       "      <td>1</td>\n",
       "      <td>10</td>\n",
       "      <td>3</td>\n",
       "      <td>Muito bom</td>\n",
       "      <td>10</td>\n",
       "      <td>7</td>\n",
       "      <td>1</td>\n",
       "      <td>7</td>\n",
       "    </tr>\n",
       "    <tr>\n",
       "      <th>2</th>\n",
       "      <td>3</td>\n",
       "      <td>Sim</td>\n",
       "      <td>37</td>\n",
       "      <td>Viaja raramente</td>\n",
       "      <td>2</td>\n",
       "      <td>Ensino Técnico</td>\n",
       "      <td>Muito Alto</td>\n",
       "      <td>H</td>\n",
       "      <td>Solteiro</td>\n",
       "      <td>2090</td>\n",
       "      <td>...</td>\n",
       "      <td>Sim</td>\n",
       "      <td>15</td>\n",
       "      <td>0</td>\n",
       "      <td>7</td>\n",
       "      <td>3</td>\n",
       "      <td>Muito bom</td>\n",
       "      <td>0</td>\n",
       "      <td>0</td>\n",
       "      <td>0</td>\n",
       "      <td>0</td>\n",
       "    </tr>\n",
       "    <tr>\n",
       "      <th>3</th>\n",
       "      <td>4</td>\n",
       "      <td>Não</td>\n",
       "      <td>33</td>\n",
       "      <td>Viaja frequentemente</td>\n",
       "      <td>3</td>\n",
       "      <td>Mestrado</td>\n",
       "      <td>Muito Alto</td>\n",
       "      <td>M</td>\n",
       "      <td>Casado</td>\n",
       "      <td>2909</td>\n",
       "      <td>...</td>\n",
       "      <td>Sim</td>\n",
       "      <td>11</td>\n",
       "      <td>0</td>\n",
       "      <td>8</td>\n",
       "      <td>3</td>\n",
       "      <td>Muito bom</td>\n",
       "      <td>8</td>\n",
       "      <td>7</td>\n",
       "      <td>3</td>\n",
       "      <td>0</td>\n",
       "    </tr>\n",
       "    <tr>\n",
       "      <th>4</th>\n",
       "      <td>5</td>\n",
       "      <td>Não</td>\n",
       "      <td>27</td>\n",
       "      <td>Viaja raramente</td>\n",
       "      <td>2</td>\n",
       "      <td>Ensino Médio</td>\n",
       "      <td>Baixo</td>\n",
       "      <td>H</td>\n",
       "      <td>Casado</td>\n",
       "      <td>3468</td>\n",
       "      <td>...</td>\n",
       "      <td>Não</td>\n",
       "      <td>12</td>\n",
       "      <td>1</td>\n",
       "      <td>6</td>\n",
       "      <td>3</td>\n",
       "      <td>Muito bom</td>\n",
       "      <td>2</td>\n",
       "      <td>2</td>\n",
       "      <td>2</td>\n",
       "      <td>2</td>\n",
       "    </tr>\n",
       "  </tbody>\n",
       "</table>\n",
       "<p>5 rows × 21 columns</p>\n",
       "</div>"
      ],
      "text/plain": [
       "   ID Funcionário_deixou_a_empresa  Idade Frequência de Viagens  \\\n",
       "0   1                          Sim     41       Viaja raramente   \n",
       "1   2                          Não     49  Viaja frequentemente   \n",
       "2   3                          Sim     37       Viaja raramente   \n",
       "3   4                          Não     33  Viaja frequentemente   \n",
       "4   5                          Não     27       Viaja raramente   \n",
       "\n",
       "   Distância_do_trabalho        Formação       E-Sat Gênero Estado_Civil  \\\n",
       "0                      1  Ensino Técnico       Médio      M     Solteiro   \n",
       "1                      8    Ensino Médio        Alto      H       Casado   \n",
       "2                      2  Ensino Técnico  Muito Alto      H     Solteiro   \n",
       "3                      3        Mestrado  Muito Alto      M       Casado   \n",
       "4                      2    Ensino Médio       Baixo      H       Casado   \n",
       "\n",
       "   Salário  ...  Faz_hora_extras? Perc_de_aumento  Qte_ações_da_empresa  \\\n",
       "0     5993  ...               Sim              11                     0   \n",
       "1     5130  ...               Não              23                     1   \n",
       "2     2090  ...               Sim              15                     0   \n",
       "3     2909  ...               Sim              11                     0   \n",
       "4     3468  ...               Não              12                     1   \n",
       "\n",
       "   Tempo_de_carreira  Horas_de_treinamento  Equilibrio_de_Vida  \\\n",
       "0                  8                     0                Ruim   \n",
       "1                 10                     3           Muito bom   \n",
       "2                  7                     3           Muito bom   \n",
       "3                  8                     3           Muito bom   \n",
       "4                  6                     3           Muito bom   \n",
       "\n",
       "  Tempo_de_empresa  Anos_no_mesmo_cargo  Anos_desde_a_ultima_promocao  \\\n",
       "0                6                    4                             0   \n",
       "1               10                    7                             1   \n",
       "2                0                    0                             0   \n",
       "3                8                    7                             3   \n",
       "4                2                    2                             2   \n",
       "\n",
       "   Anos_com_o_mesmo_chefe  \n",
       "0                       5  \n",
       "1                       7  \n",
       "2                       0  \n",
       "3                       0  \n",
       "4                       2  \n",
       "\n",
       "[5 rows x 21 columns]"
      ]
     },
     "execution_count": 49,
     "metadata": {},
     "output_type": "execute_result"
    }
   ],
   "source": [
    "# visualizando os dados\n",
    "df.head()"
   ]
  },
  {
   "cell_type": "markdown",
   "metadata": {},
   "source": [
    "### Análise Exploratória de Dados"
   ]
  },
  {
   "cell_type": "code",
   "execution_count": 50,
   "metadata": {},
   "outputs": [
    {
     "data": {
      "text/plain": [
       "ID                               int64\n",
       "Funcionário_deixou_a_empresa    object\n",
       "Idade                            int64\n",
       "Frequência de Viagens           object\n",
       "Distância_do_trabalho            int64\n",
       "Formação                        object\n",
       "E-Sat                           object\n",
       "Gênero                          object\n",
       "Estado_Civil                    object\n",
       "Salário                          int64\n",
       "Qte_Empresas_Trabalhadas         int64\n",
       "Faz_hora_extras?                object\n",
       "Perc_de_aumento                  int64\n",
       "Qte_ações_da_empresa             int64\n",
       "Tempo_de_carreira                int64\n",
       "Horas_de_treinamento             int64\n",
       "Equilibrio_de_Vida              object\n",
       "Tempo_de_empresa                 int64\n",
       "Anos_no_mesmo_cargo              int64\n",
       "Anos_desde_a_ultima_promocao     int64\n",
       "Anos_com_o_mesmo_chefe           int64\n",
       "dtype: object"
      ]
     },
     "execution_count": 50,
     "metadata": {},
     "output_type": "execute_result"
    }
   ],
   "source": [
    "# verificando os tipos de dados de nossa variáveis\n",
    "df.dtypes"
   ]
  },
  {
   "cell_type": "code",
   "execution_count": 51,
   "metadata": {},
   "outputs": [
    {
     "data": {
      "text/plain": [
       "ID                              0\n",
       "Funcionário_deixou_a_empresa    0\n",
       "Idade                           0\n",
       "Frequência de Viagens           0\n",
       "Distância_do_trabalho           0\n",
       "Formação                        0\n",
       "E-Sat                           0\n",
       "Gênero                          0\n",
       "Estado_Civil                    0\n",
       "Salário                         0\n",
       "Qte_Empresas_Trabalhadas        0\n",
       "Faz_hora_extras?                0\n",
       "Perc_de_aumento                 0\n",
       "Qte_ações_da_empresa            0\n",
       "Tempo_de_carreira               0\n",
       "Horas_de_treinamento            0\n",
       "Equilibrio_de_Vida              0\n",
       "Tempo_de_empresa                0\n",
       "Anos_no_mesmo_cargo             0\n",
       "Anos_desde_a_ultima_promocao    0\n",
       "Anos_com_o_mesmo_chefe          0\n",
       "dtype: int64"
      ]
     },
     "execution_count": 51,
     "metadata": {},
     "output_type": "execute_result"
    }
   ],
   "source": [
    "# verificando se há valores faltantes\n",
    "df.isnull().sum()"
   ]
  },
  {
   "cell_type": "code",
   "execution_count": 52,
   "metadata": {},
   "outputs": [
    {
     "data": {
      "text/plain": [
       "Index(['ID', 'Funcionário_deixou_a_empresa', 'Idade', 'Frequência de Viagens',\n",
       "       'Distância_do_trabalho', 'Formação', 'E-Sat', 'Gênero', 'Estado_Civil',\n",
       "       'Salário', 'Qte_Empresas_Trabalhadas', 'Faz_hora_extras?',\n",
       "       'Perc_de_aumento', 'Qte_ações_da_empresa', 'Tempo_de_carreira',\n",
       "       'Horas_de_treinamento', 'Equilibrio_de_Vida', 'Tempo_de_empresa',\n",
       "       'Anos_no_mesmo_cargo', 'Anos_desde_a_ultima_promocao',\n",
       "       'Anos_com_o_mesmo_chefe'],\n",
       "      dtype='object')"
      ]
     },
     "execution_count": 52,
     "metadata": {},
     "output_type": "execute_result"
    }
   ],
   "source": [
    "df.columns"
   ]
  },
  {
   "cell_type": "markdown",
   "metadata": {},
   "source": [
    "### **Funcionário_deixou_a_empresa X Variáveis Qualitativas Categóricas** (IV)"
   ]
  },
  {
   "cell_type": "code",
   "execution_count": 53,
   "metadata": {},
   "outputs": [
    {
     "name": "stdout",
     "output_type": "stream",
     "text": [
      "Funcionário_deixou_a_empresa       Não       Sim       woe        iv\n",
      "Frequência de Viagens                                               \n",
      "Não viaja                     0.111922  0.050633 -0.793202  0.120868\n",
      "Viaja frequentemente          0.168694  0.291139  0.545714  0.120868\n",
      "Viaja raramente               0.719384  0.658228 -0.088844  0.120868 \n",
      "------------------------------------------------------------\n",
      "Funcionário_deixou_a_empresa       Não       Sim       woe        iv\n",
      "Formação                                                            \n",
      "Doutorado                     0.034874  0.021097 -0.502617  0.016505\n",
      "Ensino Médio                  0.112733  0.130802  0.148659  0.016505\n",
      "Ensino Superior               0.383617  0.417722  0.085170  0.016505\n",
      "Ensino Técnico                0.193025  0.185654 -0.038936  0.016505\n",
      "Mestrado                      0.275750  0.244726 -0.119357  0.016505 \n",
      "------------------------------------------------------------\n",
      "Funcionário_deixou_a_empresa       Não       Sim       woe        iv\n",
      "E-Sat                                                               \n",
      "Alto                          0.317113  0.261603 -0.192428  0.099886\n",
      "Baixo                         0.171938  0.303797  0.569225  0.099886\n",
      "Muito Alto                    0.313058  0.253165 -0.212347  0.099886\n",
      "Médio                         0.197891  0.181435 -0.086823  0.099886 \n",
      "------------------------------------------------------------\n",
      "Funcionário_deixou_a_empresa       Não       Sim       woe        iv\n",
      "Gênero                                                              \n",
      "H                             0.593674  0.632911  0.064000  0.006496\n",
      "M                             0.406326  0.367089 -0.101553  0.006496 \n",
      "------------------------------------------------------------\n",
      "Funcionário_deixou_a_empresa       Não       Sim       woe        iv\n",
      "Estado_Civil                                                        \n",
      "Casado                        0.477697  0.354430 -0.298464  0.218898\n",
      "Divorciado                    0.238443  0.139241 -0.537927  0.218898\n",
      "Solteiro                      0.283861  0.506329  0.578704  0.218898 \n",
      "------------------------------------------------------------\n",
      "Funcionário_deixou_a_empresa       Não       Sim       woe        iv\n",
      "Faz_hora_extras?                                                    \n",
      "Não                           0.765612  0.464135 -0.500500  0.400183\n",
      "Sim                           0.234388  0.535865  0.826906  0.400183 \n",
      "------------------------------------------------------------\n",
      "Funcionário_deixou_a_empresa       Não       Sim       woe        iv\n",
      "Equilibrio_de_Vida                                                  \n",
      "Bom                           0.231955  0.244726  0.053597  0.066981\n",
      "Excelente                     0.102190  0.113924  0.108700  0.066981\n",
      "Muito bom                     0.621249  0.535865 -0.147850  0.066981\n",
      "Ruim                          0.044607  0.105485  0.860688  0.066981 \n",
      "------------------------------------------------------------\n"
     ]
    }
   ],
   "source": [
    "# Selecionando as variáveis qualitativas sem nossa variável alvo: \"Funcionário_deixou_a_empresa\", para calcular o iv\n",
    "\n",
    "for i in df.drop(\n",
    "    columns=[\n",
    "        \"Funcionário_deixou_a_empresa\",\n",
    "        \"ID\",\n",
    "        \"Idade\",\n",
    "        \"Distância_do_trabalho\",\n",
    "        \"Salário\",\n",
    "        \"Qte_Empresas_Trabalhadas\",\n",
    "        \"Perc_de_aumento\",\n",
    "        \"Qte_ações_da_empresa\",\n",
    "        \"Tempo_de_carreira\",\n",
    "        \"Horas_de_treinamento\",\n",
    "        \"Tempo_de_empresa\",\n",
    "        \"Anos_no_mesmo_cargo\",\n",
    "        \"Anos_desde_a_ultima_promocao\",\n",
    "        \"Anos_com_o_mesmo_chefe\",\n",
    "    ]\n",
    ").columns:\n",
    "    df_woe_iv = (\n",
    "        pd.crosstab(df[i], df[\"Funcionário_deixou_a_empresa\"], normalize=\"columns\")\n",
    "        .assign(woe=lambda dfx: np.log(dfx[\"Sim\"] / dfx[\"Não\"]))\n",
    "        .assign(iv=lambda dfx: np.sum(dfx[\"woe\"] * (dfx[\"Sim\"] - dfx[\"Não\"])))\n",
    "    )\n",
    "\n",
    "    print(df_woe_iv, \"\\n------------------------------------------------------------\")"
   ]
  },
  {
   "cell_type": "code",
   "execution_count": 54,
   "metadata": {},
   "outputs": [
    {
     "data": {
      "text/html": [
       "<div>\n",
       "<style scoped>\n",
       "    .dataframe tbody tr th:only-of-type {\n",
       "        vertical-align: middle;\n",
       "    }\n",
       "\n",
       "    .dataframe tbody tr th {\n",
       "        vertical-align: top;\n",
       "    }\n",
       "\n",
       "    .dataframe thead th {\n",
       "        text-align: right;\n",
       "    }\n",
       "</style>\n",
       "<table border=\"1\" class=\"dataframe\">\n",
       "  <thead>\n",
       "    <tr style=\"text-align: right;\">\n",
       "      <th></th>\n",
       "      <th>iv</th>\n",
       "    </tr>\n",
       "    <tr>\n",
       "      <th>Features</th>\n",
       "      <th></th>\n",
       "    </tr>\n",
       "  </thead>\n",
       "  <tbody>\n",
       "    <tr>\n",
       "      <th>Gênero</th>\n",
       "      <td>0.006496</td>\n",
       "    </tr>\n",
       "    <tr>\n",
       "      <th>Formação</th>\n",
       "      <td>0.016505</td>\n",
       "    </tr>\n",
       "    <tr>\n",
       "      <th>Equilibrio_de_Vida</th>\n",
       "      <td>0.066981</td>\n",
       "    </tr>\n",
       "    <tr>\n",
       "      <th>E-Sat</th>\n",
       "      <td>0.099886</td>\n",
       "    </tr>\n",
       "    <tr>\n",
       "      <th>Frequência de Viagens</th>\n",
       "      <td>0.120868</td>\n",
       "    </tr>\n",
       "    <tr>\n",
       "      <th>Estado_Civil</th>\n",
       "      <td>0.218898</td>\n",
       "    </tr>\n",
       "    <tr>\n",
       "      <th>Faz_hora_extras?</th>\n",
       "      <td>0.400183</td>\n",
       "    </tr>\n",
       "  </tbody>\n",
       "</table>\n",
       "</div>"
      ],
      "text/plain": [
       "                             iv\n",
       "Features                       \n",
       "Gênero                 0.006496\n",
       "Formação               0.016505\n",
       "Equilibrio_de_Vida     0.066981\n",
       "E-Sat                  0.099886\n",
       "Frequência de Viagens  0.120868\n",
       "Estado_Civil           0.218898\n",
       "Faz_hora_extras?       0.400183"
      ]
     },
     "metadata": {},
     "output_type": "display_data"
    },
    {
     "data": {
      "text/plain": [
       "<Figure size 1000x1200 with 0 Axes>"
      ]
     },
     "metadata": {},
     "output_type": "display_data"
    },
    {
     "data": {
      "image/png": "[encoded data removed]",
      "text/plain": [
       "<Figure size 640x480 with 1 Axes>"
      ]
     },
     "metadata": {},
     "output_type": "display_data"
    }
   ],
   "source": [
    "# Plotando grafico do IV com matplotlib\n",
    "\n",
    "# variáveis categóricas\n",
    "from matplotlib import pyplot as plt\n",
    "\n",
    "\n",
    "columns_cat = df.drop(\n",
    "    columns=[\n",
    "        \"Funcionário_deixou_a_empresa\",\n",
    "        \"ID\",\n",
    "        \"Idade\",\n",
    "        \"Distância_do_trabalho\",\n",
    "        \"Salário\",\n",
    "        \"Qte_Empresas_Trabalhadas\",\n",
    "        \"Perc_de_aumento\",\n",
    "        \"Qte_ações_da_empresa\",\n",
    "        \"Tempo_de_carreira\",\n",
    "        \"Horas_de_treinamento\",\n",
    "        \"Tempo_de_empresa\",\n",
    "        \"Anos_no_mesmo_cargo\",\n",
    "        \"Anos_desde_a_ultima_promocao\",\n",
    "        \"Anos_com_o_mesmo_chefe\",\n",
    "    ]\n",
    ").columns\n",
    "\n",
    "# Lista para armazenar o IV\n",
    "iv = []\n",
    "\n",
    "# Loop para calcular o IV de cada variável\n",
    "for i in columns_cat:\n",
    "    df_woe_iv = (\n",
    "        pd.crosstab(df[i], df[\"Funcionário_deixou_a_empresa\"], normalize=\"columns\")\n",
    "        .assign(woe=lambda dfx: np.log(dfx[\"Sim\"] / dfx[\"Não\"]))\n",
    "        .assign(iv=lambda dfx: np.sum(dfx[\"woe\"] * (dfx[\"Sim\"] - dfx[\"Não\"])))\n",
    "    )\n",
    "    iv.append(df_woe_iv[\"iv\"].iloc[0])\n",
    "\n",
    "# Criando um dataframe com as variáveis e seus respectivos IVs\n",
    "df_iv_qualitativas = (\n",
    "    pd.DataFrame({\"Features\": columns_cat, \"iv\": iv})\n",
    "    .set_index(\"Features\")\n",
    "    .sort_values(by=\"iv\")\n",
    ")\n",
    "\n",
    "display(df_iv_qualitativas)\n",
    "\n",
    "# Plot\n",
    "# Figura\n",
    "plt.figure(figsize=(10, 12))\n",
    "df_iv_qualitativas.plot(\n",
    "    kind=\"barh\", title=\"IV das variáveis Qualitativas categóricas\", colormap=\"Accent\"\n",
    ")\n",
    "for index, value in enumerate(list(round(df_iv_qualitativas[\"iv\"], 3))):\n",
    "    plt.text(value, index, str(value))\n",
    "plt.legend(loc=\"lower right\")\n",
    "plt.show()"
   ]
  },
  {
   "cell_type": "code",
   "execution_count": 55,
   "metadata": {},
   "outputs": [
    {
     "data": {
      "text/html": [
       "<div>\n",
       "<style scoped>\n",
       "    .dataframe tbody tr th:only-of-type {\n",
       "        vertical-align: middle;\n",
       "    }\n",
       "\n",
       "    .dataframe tbody tr th {\n",
       "        vertical-align: top;\n",
       "    }\n",
       "\n",
       "    .dataframe thead th {\n",
       "        text-align: right;\n",
       "    }\n",
       "</style>\n",
       "<table border=\"1\" class=\"dataframe\">\n",
       "  <thead>\n",
       "    <tr style=\"text-align: right;\">\n",
       "      <th></th>\n",
       "      <th>iv</th>\n",
       "    </tr>\n",
       "    <tr>\n",
       "      <th>Features</th>\n",
       "      <th></th>\n",
       "    </tr>\n",
       "  </thead>\n",
       "  <tbody>\n",
       "    <tr>\n",
       "      <th>Gênero</th>\n",
       "      <td>0.006496</td>\n",
       "    </tr>\n",
       "    <tr>\n",
       "      <th>Formação</th>\n",
       "      <td>0.016505</td>\n",
       "    </tr>\n",
       "    <tr>\n",
       "      <th>Equilibrio_de_Vida</th>\n",
       "      <td>0.066981</td>\n",
       "    </tr>\n",
       "    <tr>\n",
       "      <th>E-Sat</th>\n",
       "      <td>0.099886</td>\n",
       "    </tr>\n",
       "    <tr>\n",
       "      <th>Frequência de Viagens</th>\n",
       "      <td>0.120868</td>\n",
       "    </tr>\n",
       "    <tr>\n",
       "      <th>Estado_Civil</th>\n",
       "      <td>0.218898</td>\n",
       "    </tr>\n",
       "    <tr>\n",
       "      <th>Faz_hora_extras?</th>\n",
       "      <td>0.400183</td>\n",
       "    </tr>\n",
       "  </tbody>\n",
       "</table>\n",
       "</div>"
      ],
      "text/plain": [
       "                             iv\n",
       "Features                       \n",
       "Gênero                 0.006496\n",
       "Formação               0.016505\n",
       "Equilibrio_de_Vida     0.066981\n",
       "E-Sat                  0.099886\n",
       "Frequência de Viagens  0.120868\n",
       "Estado_Civil           0.218898\n",
       "Faz_hora_extras?       0.400183"
      ]
     },
     "metadata": {},
     "output_type": "display_data"
    },
    {
     "data": {
      "application/vnd.plotly.v1+json": {
       "config": {
        "plotlyServerURL": "https://plot.ly"
       },
       "data": [
        {
         "alignmentgroup": "True",
         "hovertemplate": "iv=%{x}<br>Features=%{y}<extra></extra>",
         "legendgroup": "",
         "marker": {
          "color": "#636efa",
          "pattern": {
           "shape": ""
          }
         },
         "name": "",
         "offsetgroup": "",
         "orientation": "h",
         "showlegend": false,
         "textposition": "auto",
         "type": "bar",
         "x": [
          0.006495864347780862,
          0.01650536985046781,
          0.0669814753698762,
          0.09988602045848098,
          0.12086794305666652,
          0.21889760712439957,
          0.4001828454936709
         ],
         "xaxis": "x",
         "y": [
          "Gênero",
          "Formação",
          "Equilibrio_de_Vida",
          "E-Sat",
          "Frequência de Viagens",
          "Estado_Civil",
          "Faz_hora_extras?"
         ],
         "yaxis": "y"
        }
       ],
       "layout": {
        "annotations": [
         {
          "showarrow": false,
          "text": "0.006",
          "x": 0.006495864347780862,
          "xanchor": "left",
          "y": "Gênero",
          "yanchor": "middle"
         },
         {
          "showarrow": false,
          "text": "0.017",
          "x": 0.01650536985046781,
          "xanchor": "left",
          "y": "Formação",
          "yanchor": "middle"
         },
         {
          "showarrow": false,
          "text": "0.067",
          "x": 0.0669814753698762,
          "xanchor": "left",
          "y": "Equilibrio_de_Vida",
          "yanchor": "middle"
         },
         {
          "showarrow": false,
          "text": "0.1",
          "x": 0.09988602045848098,
          "xanchor": "left",
          "y": "E-Sat",
          "yanchor": "middle"
         },
         {
          "showarrow": false,
          "text": "0.121",
          "x": 0.12086794305666652,
          "xanchor": "left",
          "y": "Frequência de Viagens",
          "yanchor": "middle"
         },
         {
          "showarrow": false,
          "text": "0.219",
          "x": 0.21889760712439957,
          "xanchor": "left",
          "y": "Estado_Civil",
          "yanchor": "middle"
         },
         {
          "showarrow": false,
          "text": "0.4",
          "x": 0.4001828454936709,
          "xanchor": "left",
          "y": "Faz_hora_extras?",
          "yanchor": "middle"
         }
        ],
        "barmode": "relative",
        "height": 400,
        "legend": {
         "tracegroupgap": 0
        },
        "template": {
         "data": {
          "bar": [
           {
            "error_x": {
             "color": "#2a3f5f"
            },
            "error_y": {
             "color": "#2a3f5f"
            },
            "marker": {
             "line": {
              "color": "#E5ECF6",
              "width": 0.5
             },
             "pattern": {
              "fillmode": "overlay",
              "size": 10,
              "solidity": 0.2
             }
            },
            "type": "bar"
           }
          ],
          "barpolar": [
           {
            "marker": {
             "line": {
              "color": "#E5ECF6",
              "width": 0.5
             },
             "pattern": {
              "fillmode": "overlay",
              "size": 10,
              "solidity": 0.2
             }
            },
            "type": "barpolar"
           }
          ],
          "carpet": [
           {
            "aaxis": {
             "endlinecolor": "#2a3f5f",
             "gridcolor": "white",
             "linecolor": "white",
             "minorgridcolor": "white",
             "startlinecolor": "#2a3f5f"
            },
            "baxis": {
             "endlinecolor": "#2a3f5f",
             "gridcolor": "white",
             "linecolor": "white",
             "minorgridcolor": "white",
             "startlinecolor": "#2a3f5f"
            },
            "type": "carpet"
           }
          ],
          "choropleth": [
           {
            "colorbar": {
             "outlinewidth": 0,
             "ticks": ""
            },
            "type": "choropleth"
           }
          ],
          "contour": [
           {
            "colorbar": {
             "outlinewidth": 0,
             "ticks": ""
            },
            "colorscale": [
             [
              0,
              "#0d0887"
             ],
             [
              0.1111111111111111,
              "#46039f"
             ],
             [
              0.2222222222222222,
              "#7201a8"
             ],
             [
              0.3333333333333333,
              "#9c179e"
             ],
             [
              0.4444444444444444,
              "#bd3786"
             ],
             [
              0.5555555555555556,
              "#d8576b"
             ],
             [
              0.6666666666666666,
              "#ed7953"
             ],
             [
              0.7777777777777778,
              "#fb9f3a"
             ],
             [
              0.8888888888888888,
              "#fdca26"
             ],
             [
              1,
              "#f0f921"
             ]
            ],
            "type": "contour"
           }
          ],
          "contourcarpet": [
           {
            "colorbar": {
             "outlinewidth": 0,
             "ticks": ""
            },
            "type": "contourcarpet"
           }
          ],
          "heatmap": [
           {
            "colorbar": {
             "outlinewidth": 0,
             "ticks": ""
            },
            "colorscale": [
             [
              0,
              "#0d0887"
             ],
             [
              0.1111111111111111,
              "#46039f"
             ],
             [
              0.2222222222222222,
              "#7201a8"
             ],
             [
              0.3333333333333333,
              "#9c179e"
             ],
             [
              0.4444444444444444,
              "#bd3786"
             ],
             [
              0.5555555555555556,
              "#d8576b"
             ],
             [
              0.6666666666666666,
              "#ed7953"
             ],
             [
              0.7777777777777778,
              "#fb9f3a"
             ],
             [
              0.8888888888888888,
              "#fdca26"
             ],
             [
              1,
              "#f0f921"
             ]
            ],
            "type": "heatmap"
           }
          ],
          "heatmapgl": [
           {
            "colorbar": {
             "outlinewidth": 0,
             "ticks": ""
            },
            "colorscale": [
             [
              0,
              "#0d0887"
             ],
             [
              0.1111111111111111,
              "#46039f"
             ],
             [
              0.2222222222222222,
              "#7201a8"
             ],
             [
              0.3333333333333333,
              "#9c179e"
             ],
             [
              0.4444444444444444,
              "#bd3786"
             ],
             [
              0.5555555555555556,
              "#d8576b"
             ],
             [
              0.6666666666666666,
              "#ed7953"
             ],
             [
              0.7777777777777778,
              "#fb9f3a"
             ],
             [
              0.8888888888888888,
              "#fdca26"
             ],
             [
              1,
              "#f0f921"
             ]
            ],
            "type": "heatmapgl"
           }
          ],
          "histogram": [
           {
            "marker": {
             "pattern": {
              "fillmode": "overlay",
              "size": 10,
              "solidity": 0.2
             }
            },
            "type": "histogram"
           }
          ],
          "histogram2d": [
           {
            "colorbar": {
             "outlinewidth": 0,
             "ticks": ""
            },
            "colorscale": [
             [
              0,
              "#0d0887"
             ],
             [
              0.1111111111111111,
              "#46039f"
             ],
             [
              0.2222222222222222,
              "#7201a8"
             ],
             [
              0.3333333333333333,
              "#9c179e"
             ],
             [
              0.4444444444444444,
              "#bd3786"
             ],
             [
              0.5555555555555556,
              "#d8576b"
             ],
             [
              0.6666666666666666,
              "#ed7953"
             ],
             [
              0.7777777777777778,
              "#fb9f3a"
             ],
             [
              0.8888888888888888,
              "#fdca26"
             ],
             [
              1,
              "#f0f921"
             ]
            ],
            "type": "histogram2d"
           }
          ],
          "histogram2dcontour": [
           {
            "colorbar": {
             "outlinewidth": 0,
             "ticks": ""
            },
            "colorscale": [
             [
              0,
              "#0d0887"
             ],
             [
              0.1111111111111111,
              "#46039f"
             ],
             [
              0.2222222222222222,
              "#7201a8"
             ],
             [
              0.3333333333333333,
              "#9c179e"
             ],
             [
              0.4444444444444444,
              "#bd3786"
             ],
             [
              0.5555555555555556,
              "#d8576b"
             ],
             [
              0.6666666666666666,
              "#ed7953"
             ],
             [
              0.7777777777777778,
              "#fb9f3a"
             ],
             [
              0.8888888888888888,
              "#fdca26"
             ],
             [
              1,
              "#f0f921"
             ]
            ],
            "type": "histogram2dcontour"
           }
          ],
          "mesh3d": [
           {
            "colorbar": {
             "outlinewidth": 0,
             "ticks": ""
            },
            "type": "mesh3d"
           }
          ],
          "parcoords": [
           {
            "line": {
             "colorbar": {
              "outlinewidth": 0,
              "ticks": ""
             }
            },
            "type": "parcoords"
           }
          ],
          "pie": [
           {
            "automargin": true,
            "type": "pie"
           }
          ],
          "scatter": [
           {
            "fillpattern": {
             "fillmode": "overlay",
             "size": 10,
             "solidity": 0.2
            },
            "type": "scatter"
           }
          ],
          "scatter3d": [
           {
            "line": {
             "colorbar": {
              "outlinewidth": 0,
              "ticks": ""
             }
            },
            "marker": {
             "colorbar": {
              "outlinewidth": 0,
              "ticks": ""
             }
            },
            "type": "scatter3d"
           }
          ],
          "scattercarpet": [
           {
            "marker": {
             "colorbar": {
              "outlinewidth": 0,
              "ticks": ""
             }
            },
            "type": "scattercarpet"
           }
          ],
          "scattergeo": [
           {
            "marker": {
             "colorbar": {
              "outlinewidth": 0,
              "ticks": ""
             }
            },
            "type": "scattergeo"
           }
          ],
          "scattergl": [
           {
            "marker": {
             "colorbar": {
              "outlinewidth": 0,
              "ticks": ""
             }
            },
            "type": "scattergl"
           }
          ],
          "scattermapbox": [
           {
            "marker": {
             "colorbar": {
              "outlinewidth": 0,
              "ticks": ""
             }
            },
            "type": "scattermapbox"
           }
          ],
          "scatterpolar": [
           {
            "marker": {
             "colorbar": {
              "outlinewidth": 0,
              "ticks": ""
             }
            },
            "type": "scatterpolar"
           }
          ],
          "scatterpolargl": [
           {
            "marker": {
             "colorbar": {
              "outlinewidth": 0,
              "ticks": ""
             }
            },
            "type": "scatterpolargl"
           }
          ],
          "scatterternary": [
           {
            "marker": {
             "colorbar": {
              "outlinewidth": 0,
              "ticks": ""
             }
            },
            "type": "scatterternary"
           }
          ],
          "surface": [
           {
            "colorbar": {
             "outlinewidth": 0,
             "ticks": ""
            },
            "colorscale": [
             [
              0,
              "#0d0887"
             ],
             [
              0.1111111111111111,
              "#46039f"
             ],
             [
              0.2222222222222222,
              "#7201a8"
             ],
             [
              0.3333333333333333,
              "#9c179e"
             ],
             [
              0.4444444444444444,
              "#bd3786"
             ],
             [
              0.5555555555555556,
              "#d8576b"
             ],
             [
              0.6666666666666666,
              "#ed7953"
             ],
             [
              0.7777777777777778,
              "#fb9f3a"
             ],
             [
              0.8888888888888888,
              "#fdca26"
             ],
             [
              1,
              "#f0f921"
             ]
            ],
            "type": "surface"
           }
          ],
          "table": [
           {
            "cells": {
             "fill": {
              "color": "#EBF0F8"
             },
             "line": {
              "color": "white"
             }
            },
            "header": {
             "fill": {
              "color": "#C8D4E3"
             },
             "line": {
              "color": "white"
             }
            },
            "type": "table"
           }
          ]
         },
         "layout": {
          "annotationdefaults": {
           "arrowcolor": "#2a3f5f",
           "arrowhead": 0,
           "arrowwidth": 1
          },
          "autotypenumbers": "strict",
          "coloraxis": {
           "colorbar": {
            "outlinewidth": 0,
            "ticks": ""
           }
          },
          "colorscale": {
           "diverging": [
            [
             0,
             "#8e0152"
            ],
            [
             0.1,
             "#c51b7d"
            ],
            [
             0.2,
             "#de77ae"
            ],
            [
             0.3,
             "#f1b6da"
            ],
            [
             0.4,
             "#fde0ef"
            ],
            [
             0.5,
             "#f7f7f7"
            ],
            [
             0.6,
             "#e6f5d0"
            ],
            [
             0.7,
             "#b8e186"
            ],
            [
             0.8,
             "#7fbc41"
            ],
            [
             0.9,
             "#4d9221"
            ],
            [
             1,
             "#276419"
            ]
           ],
           "sequential": [
            [
             0,
             "#0d0887"
            ],
            [
             0.1111111111111111,
             "#46039f"
            ],
            [
             0.2222222222222222,
             "#7201a8"
            ],
            [
             0.3333333333333333,
             "#9c179e"
            ],
            [
             0.4444444444444444,
             "#bd3786"
            ],
            [
             0.5555555555555556,
             "#d8576b"
            ],
            [
             0.6666666666666666,
             "#ed7953"
            ],
            [
             0.7777777777777778,
             "#fb9f3a"
            ],
            [
             0.8888888888888888,
             "#fdca26"
            ],
            [
             1,
             "#f0f921"
            ]
           ],
           "sequentialminus": [
            [
             0,
             "#0d0887"
            ],
            [
             0.1111111111111111,
             "#46039f"
            ],
            [
             0.2222222222222222,
             "#7201a8"
            ],
            [
             0.3333333333333333,
             "#9c179e"
            ],
            [
             0.4444444444444444,
             "#bd3786"
            ],
            [
             0.5555555555555556,
             "#d8576b"
            ],
            [
             0.6666666666666666,
             "#ed7953"
            ],
            [
             0.7777777777777778,
             "#fb9f3a"
            ],
            [
             0.8888888888888888,
             "#fdca26"
            ],
            [
             1,
             "#f0f921"
            ]
           ]
          },
          "colorway": [
           "#636efa",
           "#EF553B",
           "#00cc96",
           "#ab63fa",
           "#FFA15A",
           "#19d3f3",
           "#FF6692",
           "#B6E880",
           "#FF97FF",
           "#FECB52"
          ],
          "font": {
           "color": "#2a3f5f"
          },
          "geo": {
           "bgcolor": "white",
           "lakecolor": "white",
           "landcolor": "#E5ECF6",
           "showlakes": true,
           "showland": true,
           "subunitcolor": "white"
          },
          "hoverlabel": {
           "align": "left"
          },
          "hovermode": "closest",
          "mapbox": {
           "style": "light"
          },
          "paper_bgcolor": "white",
          "plot_bgcolor": "#E5ECF6",
          "polar": {
           "angularaxis": {
            "gridcolor": "white",
            "linecolor": "white",
            "ticks": ""
           },
           "bgcolor": "#E5ECF6",
           "radialaxis": {
            "gridcolor": "white",
            "linecolor": "white",
            "ticks": ""
           }
          },
          "scene": {
           "xaxis": {
            "backgroundcolor": "#E5ECF6",
            "gridcolor": "white",
            "gridwidth": 2,
            "linecolor": "white",
            "showbackground": true,
            "ticks": "",
            "zerolinecolor": "white"
           },
           "yaxis": {
            "backgroundcolor": "#E5ECF6",
            "gridcolor": "white",
            "gridwidth": 2,
            "linecolor": "white",
            "showbackground": true,
            "ticks": "",
            "zerolinecolor": "white"
           },
           "zaxis": {
            "backgroundcolor": "#E5ECF6",
            "gridcolor": "white",
            "gridwidth": 2,
            "linecolor": "white",
            "showbackground": true,
            "ticks": "",
            "zerolinecolor": "white"
           }
          },
          "shapedefaults": {
           "line": {
            "color": "#2a3f5f"
           }
          },
          "ternary": {
           "aaxis": {
            "gridcolor": "white",
            "linecolor": "white",
            "ticks": ""
           },
           "baxis": {
            "gridcolor": "white",
            "linecolor": "white",
            "ticks": ""
           },
           "bgcolor": "#E5ECF6",
           "caxis": {
            "gridcolor": "white",
            "linecolor": "white",
            "ticks": ""
           }
          },
          "title": {
           "x": 0.05
          },
          "xaxis": {
           "automargin": true,
           "gridcolor": "white",
           "linecolor": "white",
           "ticks": "",
           "title": {
            "standoff": 15
           },
           "zerolinecolor": "white",
           "zerolinewidth": 2
          },
          "yaxis": {
           "automargin": true,
           "gridcolor": "white",
           "linecolor": "white",
           "ticks": "",
           "title": {
            "standoff": 15
           },
           "zerolinecolor": "white",
           "zerolinewidth": 2
          }
         }
        },
        "title": {
         "text": "IV das variáveis Qualitativas categóricas"
        },
        "xaxis": {
         "anchor": "y",
         "domain": [
          0,
          1
         ],
         "title": {
          "text": "iv"
         }
        },
        "yaxis": {
         "anchor": "x",
         "domain": [
          0,
          1
         ],
         "title": {
          "text": "Features"
         }
        }
       }
      }
     },
     "metadata": {},
     "output_type": "display_data"
    }
   ],
   "source": [
    "# Usando o plotly\n",
    "import plotly.express as px\n",
    "\n",
    "# variáveis categóricas\n",
    "columns_cat = df.drop(\n",
    "    columns=[\n",
    "        \"Funcionário_deixou_a_empresa\",\n",
    "        \"ID\",\n",
    "        \"Idade\",\n",
    "        \"Distância_do_trabalho\",\n",
    "        \"Salário\",\n",
    "        \"Qte_Empresas_Trabalhadas\",\n",
    "        \"Perc_de_aumento\",\n",
    "        \"Qte_ações_da_empresa\",\n",
    "        \"Tempo_de_carreira\",\n",
    "        \"Horas_de_treinamento\",\n",
    "        \"Tempo_de_empresa\",\n",
    "        \"Anos_no_mesmo_cargo\",\n",
    "        \"Anos_desde_a_ultima_promocao\",\n",
    "        \"Anos_com_o_mesmo_chefe\",\n",
    "    ]\n",
    ").columns\n",
    "\n",
    "# Lista para armazenar o IV\n",
    "iv = []\n",
    "\n",
    "# Loop para calcular o IV de cada variável\n",
    "for i in columns_cat:\n",
    "    df_woe_iv = (\n",
    "        pd.crosstab(df[i], df[\"Funcionário_deixou_a_empresa\"], normalize=\"columns\")\n",
    "        .assign(woe=lambda dfx: np.log(dfx[\"Sim\"] / dfx[\"Não\"]))\n",
    "        .assign(iv=lambda dfx: np.sum(dfx[\"woe\"] * (dfx[\"Sim\"] - dfx[\"Não\"])))\n",
    "    )\n",
    "    iv.append(df_woe_iv[\"iv\"].iloc[0])\n",
    "\n",
    "# Criando um dataframe com as variáveis e seus respectivos IVs\n",
    "df_iv_qualitativas = (\n",
    "    pd.DataFrame({\"Features\": columns_cat, \"iv\": iv})\n",
    "    .set_index(\"Features\")\n",
    "    .sort_values(by=\"iv\")\n",
    ")\n",
    "\n",
    "display(df_iv_qualitativas)\n",
    "\n",
    "# Plot\n",
    "fig_qualitativas = px.bar(\n",
    "    df_iv_qualitativas,\n",
    "    y=df_iv_qualitativas.index,\n",
    "    x=\"iv\",\n",
    "    orientation=\"h\",\n",
    "    title=\"IV das variáveis Qualitativas categóricas\",\n",
    "    height=400,\n",
    ")\n",
    "# adicionando os valores das barras\n",
    "fig_qualitativas.update_layout(\n",
    "    annotations=[\n",
    "        dict(\n",
    "            x=df_iv_qualitativas.iloc[i][\"iv\"],\n",
    "            y=df_iv_qualitativas.index[i],\n",
    "            text=str(round(df_iv_qualitativas.iloc[i][\"iv\"], 3)),\n",
    "            xanchor=\"left\",\n",
    "            yanchor=\"middle\",\n",
    "            showarrow=False,\n",
    "        )\n",
    "        for i in range(len(df_iv_qualitativas))\n",
    "    ]\n",
    ")\n",
    "\n",
    "fig_qualitativas.show()"
   ]
  },
  {
   "cell_type": "markdown",
   "metadata": {},
   "source": [
    "## **Funcionário_deixou_a_empresa X Variáveis Quantitativas** (IV)"
   ]
  },
  {
   "cell_type": "code",
   "execution_count": 56,
   "metadata": {},
   "outputs": [
    {
     "data": {
      "text/plain": [
       "Index(['Idade', 'Distância_do_trabalho', 'Salário', 'Qte_Empresas_Trabalhadas',\n",
       "       'Perc_de_aumento', 'Qte_ações_da_empresa', 'Tempo_de_carreira',\n",
       "       'Horas_de_treinamento', 'Tempo_de_empresa', 'Anos_no_mesmo_cargo',\n",
       "       'Anos_desde_a_ultima_promocao', 'Anos_com_o_mesmo_chefe'],\n",
       "      dtype='object')"
      ]
     },
     "execution_count": 56,
     "metadata": {},
     "output_type": "execute_result"
    }
   ],
   "source": [
    "# Selecionando as variáveis Quantitativas\n",
    "df_quantitativas = df.dtypes[df.dtypes != \"object\"].index\n",
    "\n",
    "df_quantitativas_sem_id = df_quantitativas.drop(\"ID\")\n",
    "\n",
    "df_quantitativas_sem_id"
   ]
  },
  {
   "cell_type": "code",
   "execution_count": 57,
   "metadata": {},
   "outputs": [
    {
     "name": "stdout",
     "output_type": "stream",
     "text": [
      "Funcionário_deixou_a_empresa       Não       Sim       woe  iv_quantitativas\n",
      "Idade_5                                                                     \n",
      "18-25                         0.085969  0.236287  1.011058          0.286334\n",
      "26-35                         0.320357  0.396624  0.213554          0.286334\n",
      "36-45                         0.346310  0.189873 -0.600976          0.286334\n",
      "46-55                         0.159773  0.109705 -0.375962          0.286334\n",
      "56-65                         0.087591  0.067511 -0.260397          0.286334 \n",
      "------------------------------------------------------------\n",
      "Funcionário_deixou_a_empresa       Não       Sim       woe  iv_quantitativas\n",
      "Distância_do_trabalho_5                                                     \n",
      "0-5                           0.484185  0.396624 -0.199477          0.054043\n",
      "6-10                          0.262774  0.253165 -0.037254          0.054043\n",
      "11-15                         0.073804  0.113924  0.434123          0.054043\n",
      "16-20                         0.090835  0.105485  0.149522          0.054043\n",
      "21-30                         0.088402  0.130802  0.391785          0.054043 \n",
      "------------------------------------------------------------\n",
      "Funcionário_deixou_a_empresa       Não       Sim       woe  iv_quantitativas\n",
      "Salário_5                                                                   \n",
      "0-2500                        0.354420  0.590717  0.510855          0.326037\n",
      "2501-5000                     0.339822  0.219409 -0.437482          0.326037\n",
      "5001-7500                     0.117599  0.126582  0.073609          0.326037\n",
      "7501-10000                    0.068127  0.033755 -0.702230          0.326037\n",
      "10001-15000                   0.040552  0.008439 -1.569730          0.326037\n",
      "15001-20000                   0.079481  0.021097 -1.326384          0.326037 \n",
      "------------------------------------------------------------\n",
      "Funcionário_deixou_a_empresa       Não       Sim       woe  iv_quantitativas\n",
      "Qte_Empresas_Trabalhadas_5                                                  \n",
      "0-1                           0.484185  0.510549  0.053019          0.066666\n",
      "2-3                           0.221411  0.135021 -0.494591          0.066666\n",
      "4-5                           0.137064  0.139241  0.015754          0.066666\n",
      "6-7                           0.090024  0.139241  0.436123          0.066666\n",
      "8-10                          0.067315  0.075949  0.120677          0.066666 \n",
      "------------------------------------------------------------\n",
      "Funcionário_deixou_a_empresa       Não       Sim       woe  iv_quantitativas\n",
      "Perc_de_aumento_5                                                           \n",
      "10-15                         0.623682  0.632911  0.014690          0.003211\n",
      "16-20                         0.261963  0.240506 -0.085456          0.003211\n",
      "21-25                         0.114355  0.126582  0.101583          0.003211 \n",
      "------------------------------------------------------------\n",
      "Funcionário_deixou_a_empresa       Não       Sim       woe  iv_quantitativas\n",
      "Qte_ações_da_empresa_5                                                      \n",
      "0-1                           0.824818  0.886076  0.071640          0.030748\n",
      "2-3                           0.175182  0.113924 -0.430296          0.030748 \n",
      "------------------------------------------------------------\n",
      "Funcionário_deixou_a_empresa       Não       Sim       woe  iv_quantitativas\n",
      "Tempo_de_carreira_5                                                         \n",
      "0-5                           0.182482  0.383966  0.743904          0.278123\n",
      "6-10                          0.418491  0.383966 -0.086102          0.278123\n",
      "11-15                         0.135442  0.101266 -0.290795          0.278123\n",
      "16-20                         0.108678  0.063291 -0.540644          0.278123\n",
      "21-25                         0.081103  0.037975 -0.758800          0.278123\n",
      "26-30                         0.040552  0.008439 -1.569730          0.278123\n",
      "31-35                         0.024331  0.012658 -0.653440          0.278123\n",
      "36-40                         0.008921  0.008439 -0.055603          0.278123 \n",
      "------------------------------------------------------------\n",
      "Funcionário_deixou_a_empresa       Não       Sim       woe  iv_quantitativas\n",
      "Horas_de_treinamento_5                                                      \n",
      "0-2                           0.446067  0.514768  0.143248          0.032945\n",
      "3-4                           0.420925  0.400844 -0.048882          0.032945\n",
      "5-6                           0.133009  0.084388 -0.454989          0.032945 \n",
      "------------------------------------------------------------\n",
      "Funcionário_deixou_a_empresa       Não       Sim       woe  iv_quantitativas\n",
      "Tempo_de_empresa_5                                                          \n",
      "0-2                           0.673966  0.805907  0.178789          0.099862\n",
      "3-5                           0.233577  0.143460 -0.487455          0.099862\n",
      "6-8                           0.072182  0.033755 -0.760049          0.099862\n",
      "9-10                          0.013788  0.008439 -0.490921          0.099862\n",
      "11-40                         0.006488  0.008439  0.262851          0.099862 \n",
      "------------------------------------------------------------\n",
      "Funcionário_deixou_a_empresa       Não       Sim       woe  iv_quantitativas\n",
      "Anos_no_mesmo_cargo_5                                                       \n",
      "0-2                           0.519059  0.708861  0.311641          0.184508\n",
      "3-5                           0.283861  0.206751 -0.316967          0.184508\n",
      "6-8                           0.137875  0.063291 -0.778603          0.184508\n",
      "9-10                          0.043796  0.012658 -1.241226          0.184508\n",
      "11-20                         0.015410  0.008439 -0.602146          0.184508 \n",
      "------------------------------------------------------------\n",
      "Funcionário_deixou_a_empresa         Não       Sim       woe  iv_quantitativas\n",
      "Anos_desde_a_ultima_promocao_5                                                \n",
      "0-2                             0.773723  0.822785  0.061481          0.048761\n",
      "3-5                             0.101379  0.054852 -0.614219          0.048761\n",
      "6-8                             0.073804  0.084388  0.134018          0.048761\n",
      "9-10                            0.030008  0.012658 -0.863160          0.048761\n",
      "11-15                           0.021087  0.025316  0.182808          0.048761 \n",
      "------------------------------------------------------------\n",
      "Funcionário_deixou_a_empresa       Não       Sim       woe  iv_quantitativas\n",
      "Anos_com_o_mesmo_chefe_5                                                    \n",
      "0-2                           0.535280  0.696203  0.262851           0.17431\n",
      "3-5                           0.112733  0.080169 -0.340890           0.17431\n",
      "6-8                           0.295215  0.210970 -0.335986           0.17431\n",
      "9-10                          0.042985  0.004219 -2.321147           0.17431\n",
      "11-20                         0.013788  0.008439 -0.490921           0.17431 \n",
      "------------------------------------------------------------\n"
     ]
    }
   ],
   "source": [
    "# Criando as faixas de valores para as variáveis quantitativas e calcular o IV\n",
    "# Idade\n",
    "\n",
    "df[\"Idade_5\"] = pd.cut(\n",
    "    df[\"Idade\"],\n",
    "    bins=5,\n",
    "    labels=[\n",
    "        \"18-25\",\n",
    "        \"26-35\",\n",
    "        \"36-45\",\n",
    "        \"46-55\",\n",
    "        \"56-65\",\n",
    "    ],\n",
    ")\n",
    "\n",
    "df_woe_iv = (\n",
    "    pd.crosstab(df[\"Idade_5\"], df[\"Funcionário_deixou_a_empresa\"], normalize=\"columns\")\n",
    "    .assign(woe=lambda dfx: np.log(dfx[\"Sim\"] / dfx[\"Não\"]))\n",
    "    .assign(iv_quantitativas=lambda dfx: np.sum(dfx[\"woe\"] * (dfx[\"Sim\"] - dfx[\"Não\"])))\n",
    ")\n",
    "\n",
    "print(df_woe_iv, \"\\n------------------------------------------------------------\")\n",
    "\n",
    "\n",
    "# Distância do trabalho\n",
    "\n",
    "df[\"Distância_do_trabalho_5\"] = pd.cut(\n",
    "    df[\"Distância_do_trabalho\"],\n",
    "    bins=5,\n",
    "    labels=[\n",
    "        \"0-5\",\n",
    "        \"6-10\",\n",
    "        \"11-15\",\n",
    "        \"16-20\",\n",
    "        \"21-30\",\n",
    "    ],\n",
    ")\n",
    "\n",
    "df_woe_iv = (\n",
    "    pd.crosstab(\n",
    "        df[\"Distância_do_trabalho_5\"],\n",
    "        df[\"Funcionário_deixou_a_empresa\"],\n",
    "        normalize=\"columns\",\n",
    "    )\n",
    "    .assign(woe=lambda dfx: np.log(dfx[\"Sim\"] / dfx[\"Não\"]))\n",
    "    .assign(iv_quantitativas=lambda dfx: np.sum(dfx[\"woe\"] * (dfx[\"Sim\"] - dfx[\"Não\"])))\n",
    ")\n",
    "\n",
    "print(df_woe_iv, \"\\n------------------------------------------------------------\")\n",
    "\n",
    "# Salário\n",
    "\n",
    "df[\"Salário_5\"] = pd.cut(\n",
    "    df[\"Salário\"],\n",
    "    bins=6,\n",
    "    labels=[\n",
    "        \"0-2500\",\n",
    "        \"2501-5000\",\n",
    "        \"5001-7500\",\n",
    "        \"7501-10000\",\n",
    "        \"10001-15000\",\n",
    "        \"15001-20000\",\n",
    "    ],\n",
    ")\n",
    "\n",
    "df_woe_iv = (\n",
    "    pd.crosstab(\n",
    "        df[\"Salário_5\"], df[\"Funcionário_deixou_a_empresa\"], normalize=\"columns\"\n",
    "    )\n",
    "    .assign(woe=lambda dfx: np.log(dfx[\"Sim\"] / dfx[\"Não\"]))\n",
    "    .assign(iv_quantitativas=lambda dfx: np.sum(dfx[\"woe\"] * (dfx[\"Sim\"] - dfx[\"Não\"])))\n",
    ")\n",
    "\n",
    "print(df_woe_iv, \"\\n------------------------------------------------------------\")\n",
    "\n",
    "# Qte_Empresas_Trabalhadas\n",
    "\n",
    "df[\"Qte_Empresas_Trabalhadas_5\"] = pd.cut(\n",
    "    df[\"Qte_Empresas_Trabalhadas\"],\n",
    "    bins=5,\n",
    "    labels=[\n",
    "        \"0-1\",\n",
    "        \"2-3\",\n",
    "        \"4-5\",\n",
    "        \"6-7\",\n",
    "        \"8-10\",\n",
    "    ],\n",
    ")\n",
    "\n",
    "df_woe_iv = (\n",
    "    pd.crosstab(\n",
    "        df[\"Qte_Empresas_Trabalhadas_5\"],\n",
    "        df[\"Funcionário_deixou_a_empresa\"],\n",
    "        normalize=\"columns\",\n",
    "    )\n",
    "    .assign(woe=lambda dfx: np.log(dfx[\"Sim\"] / dfx[\"Não\"]))\n",
    "    .assign(iv_quantitativas=lambda dfx: np.sum(dfx[\"woe\"] * (dfx[\"Sim\"] - dfx[\"Não\"])))\n",
    ")\n",
    "\n",
    "print(df_woe_iv, \"\\n------------------------------------------------------------\")\n",
    "\n",
    "# Perc_de_aumento\n",
    "\n",
    "df[\"Perc_de_aumento_5\"] = pd.cut(\n",
    "    df[\"Perc_de_aumento\"], bins=3, labels=[\"10-15\", \"16-20\", \"21-25\"]\n",
    ")\n",
    "\n",
    "df_woe_iv = (\n",
    "    pd.crosstab(\n",
    "        df[\"Perc_de_aumento_5\"], df[\"Funcionário_deixou_a_empresa\"], normalize=\"columns\"\n",
    "    )\n",
    "    .assign(woe=lambda dfx: np.log(dfx[\"Sim\"] / dfx[\"Não\"]))\n",
    "    .assign(iv_quantitativas=lambda dfx: np.sum(dfx[\"woe\"] * (dfx[\"Sim\"] - dfx[\"Não\"])))\n",
    ")\n",
    "\n",
    "print(df_woe_iv, \"\\n------------------------------------------------------------\")\n",
    "\n",
    "# Qte_ações_da_empresa\n",
    "\n",
    "df[\"Qte_ações_da_empresa_5\"] = pd.cut(\n",
    "    df[\"Qte_ações_da_empresa\"],\n",
    "    bins=2,\n",
    "    labels=[\n",
    "        \"0-1\",\n",
    "        \"2-3\",\n",
    "    ],\n",
    ")\n",
    "\n",
    "df_woe_iv = (\n",
    "    pd.crosstab(\n",
    "        df[\"Qte_ações_da_empresa_5\"],\n",
    "        df[\"Funcionário_deixou_a_empresa\"],\n",
    "        normalize=\"columns\",\n",
    "    )\n",
    "    .assign(woe=lambda dfx: np.log(dfx[\"Sim\"] / dfx[\"Não\"]))\n",
    "    .assign(iv_quantitativas=lambda dfx: np.sum(dfx[\"woe\"] * (dfx[\"Sim\"] - dfx[\"Não\"])))\n",
    ")\n",
    "\n",
    "print(df_woe_iv, \"\\n------------------------------------------------------------\")\n",
    "\n",
    "# Tempo_de_carreira\n",
    "\n",
    "df[\"Tempo_de_carreira_5\"] = pd.cut(\n",
    "    df[\"Tempo_de_carreira\"],\n",
    "    bins=8,\n",
    "    labels=[\n",
    "        \"0-5\",\n",
    "        \"6-10\",\n",
    "        \"11-15\",\n",
    "        \"16-20\",\n",
    "        \"21-25\",\n",
    "        \"26-30\",\n",
    "        \"31-35\",\n",
    "        \"36-40\",\n",
    "    ],\n",
    ")\n",
    "\n",
    "df_woe_iv = (\n",
    "    pd.crosstab(\n",
    "        df[\"Tempo_de_carreira_5\"],\n",
    "        df[\"Funcionário_deixou_a_empresa\"],\n",
    "        normalize=\"columns\",\n",
    "    )\n",
    "    .assign(woe=lambda dfx: np.log(dfx[\"Sim\"] / dfx[\"Não\"]))\n",
    "    .assign(iv_quantitativas=lambda dfx: np.sum(dfx[\"woe\"] * (dfx[\"Sim\"] - dfx[\"Não\"])))\n",
    ")\n",
    "\n",
    "print(df_woe_iv, \"\\n------------------------------------------------------------\")\n",
    "\n",
    "# Horas_de_treinamento\n",
    "\n",
    "df[\"Horas_de_treinamento_5\"] = pd.cut(\n",
    "    df[\"Horas_de_treinamento\"],\n",
    "    bins=3,\n",
    "    labels=[\n",
    "        \"0-2\",\n",
    "        \"3-4\",\n",
    "        \"5-6\",\n",
    "    ],\n",
    ")\n",
    "\n",
    "df_woe_iv = (\n",
    "    pd.crosstab(\n",
    "        df[\"Horas_de_treinamento_5\"],\n",
    "        df[\"Funcionário_deixou_a_empresa\"],\n",
    "        normalize=\"columns\",\n",
    "    )\n",
    "    .assign(woe=lambda dfx: np.log(dfx[\"Sim\"] / dfx[\"Não\"]))\n",
    "    .assign(iv_quantitativas=lambda dfx: np.sum(dfx[\"woe\"] * (dfx[\"Sim\"] - dfx[\"Não\"])))\n",
    ")\n",
    "\n",
    "print(df_woe_iv, \"\\n------------------------------------------------------------\")\n",
    "\n",
    "# Tempo_de_empresa\n",
    "\n",
    "df[\"Tempo_de_empresa_5\"] = pd.cut(\n",
    "    df[\"Tempo_de_empresa\"],\n",
    "    bins=5,\n",
    "    labels=[\n",
    "        \"0-2\",\n",
    "        \"3-5\",\n",
    "        \"6-8\",\n",
    "        \"9-10\",\n",
    "        \"11-40\",\n",
    "    ],\n",
    ")\n",
    "\n",
    "df_woe_iv = (\n",
    "    pd.crosstab(\n",
    "        df[\"Tempo_de_empresa_5\"],\n",
    "        df[\"Funcionário_deixou_a_empresa\"],\n",
    "        normalize=\"columns\",\n",
    "    )\n",
    "    .assign(woe=lambda dfx: np.log(dfx[\"Sim\"] / dfx[\"Não\"]))\n",
    "    .assign(iv_quantitativas=lambda dfx: np.sum(dfx[\"woe\"] * (dfx[\"Sim\"] - dfx[\"Não\"])))\n",
    ")\n",
    "\n",
    "print(df_woe_iv, \"\\n------------------------------------------------------------\")\n",
    "\n",
    "# Anos_no_mesmo_cargo\n",
    "\n",
    "df[\"Anos_no_mesmo_cargo_5\"] = pd.cut(\n",
    "    df[\"Anos_no_mesmo_cargo\"],\n",
    "    bins=5,\n",
    "    labels=[\n",
    "        \"0-2\",\n",
    "        \"3-5\",\n",
    "        \"6-8\",\n",
    "        \"9-10\",\n",
    "        \"11-20\",\n",
    "    ],\n",
    ")\n",
    "\n",
    "df_woe_iv = (\n",
    "    pd.crosstab(\n",
    "        df[\"Anos_no_mesmo_cargo_5\"],\n",
    "        df[\"Funcionário_deixou_a_empresa\"],\n",
    "        normalize=\"columns\",\n",
    "    )\n",
    "    .assign(woe=lambda dfx: np.log(dfx[\"Sim\"] / dfx[\"Não\"]))\n",
    "    .assign(iv_quantitativas=lambda dfx: np.sum(dfx[\"woe\"] * (dfx[\"Sim\"] - dfx[\"Não\"])))\n",
    ")\n",
    "\n",
    "print(df_woe_iv, \"\\n------------------------------------------------------------\")\n",
    "\n",
    "# Anos_desde_a_ultima_promocao\n",
    "\n",
    "df[\"Anos_desde_a_ultima_promocao_5\"] = pd.cut(\n",
    "    df[\"Anos_desde_a_ultima_promocao\"],\n",
    "    bins=5,\n",
    "    labels=[\n",
    "        \"0-2\",\n",
    "        \"3-5\",\n",
    "        \"6-8\",\n",
    "        \"9-10\",\n",
    "        \"11-15\",\n",
    "    ],\n",
    ")\n",
    "\n",
    "df_woe_iv = (\n",
    "    pd.crosstab(\n",
    "        df[\"Anos_desde_a_ultima_promocao_5\"],\n",
    "        df[\"Funcionário_deixou_a_empresa\"],\n",
    "        normalize=\"columns\",\n",
    "    )\n",
    "    .assign(woe=lambda dfx: np.log(dfx[\"Sim\"] / dfx[\"Não\"]))\n",
    "    .assign(iv_quantitativas=lambda dfx: np.sum(dfx[\"woe\"] * (dfx[\"Sim\"] - dfx[\"Não\"])))\n",
    ")\n",
    "\n",
    "print(df_woe_iv, \"\\n------------------------------------------------------------\")\n",
    "\n",
    "# Anos_com_o_mesmo_chefe\n",
    "\n",
    "df[\"Anos_com_o_mesmo_chefe_5\"] = pd.cut(\n",
    "    df[\"Anos_com_o_mesmo_chefe\"],\n",
    "    bins=5,\n",
    "    labels=[\n",
    "        \"0-2\",\n",
    "        \"3-5\",\n",
    "        \"6-8\",\n",
    "        \"9-10\",\n",
    "        \"11-20\",\n",
    "    ],\n",
    ")\n",
    "\n",
    "df_woe_iv = (\n",
    "    pd.crosstab(\n",
    "        df[\"Anos_com_o_mesmo_chefe_5\"],\n",
    "        df[\"Funcionário_deixou_a_empresa\"],\n",
    "        normalize=\"columns\",\n",
    "    )\n",
    "    .assign(woe=lambda dfx: np.log(dfx[\"Sim\"] / dfx[\"Não\"]))\n",
    "    .assign(iv_quantitativas=lambda dfx: np.sum(dfx[\"woe\"] * (dfx[\"Sim\"] - dfx[\"Não\"])))\n",
    ")\n",
    "\n",
    "print(df_woe_iv, \"\\n------------------------------------------------------------\")"
   ]
  },
  {
   "cell_type": "code",
   "execution_count": 58,
   "metadata": {},
   "outputs": [
    {
     "data": {
      "text/html": [
       "<div>\n",
       "<style scoped>\n",
       "    .dataframe tbody tr th:only-of-type {\n",
       "        vertical-align: middle;\n",
       "    }\n",
       "\n",
       "    .dataframe tbody tr th {\n",
       "        vertical-align: top;\n",
       "    }\n",
       "\n",
       "    .dataframe thead th {\n",
       "        text-align: right;\n",
       "    }\n",
       "</style>\n",
       "<table border=\"1\" class=\"dataframe\">\n",
       "  <thead>\n",
       "    <tr style=\"text-align: right;\">\n",
       "      <th></th>\n",
       "      <th>iv</th>\n",
       "    </tr>\n",
       "    <tr>\n",
       "      <th>Features</th>\n",
       "      <th></th>\n",
       "    </tr>\n",
       "  </thead>\n",
       "  <tbody>\n",
       "    <tr>\n",
       "      <th>Perc_de_aumento_5</th>\n",
       "      <td>0.003211</td>\n",
       "    </tr>\n",
       "    <tr>\n",
       "      <th>Qte_ações_da_empresa_5</th>\n",
       "      <td>0.030748</td>\n",
       "    </tr>\n",
       "    <tr>\n",
       "      <th>Horas_de_treinamento_5</th>\n",
       "      <td>0.032945</td>\n",
       "    </tr>\n",
       "    <tr>\n",
       "      <th>Anos_desde_a_ultima_promocao_5</th>\n",
       "      <td>0.048761</td>\n",
       "    </tr>\n",
       "    <tr>\n",
       "      <th>Distância_do_trabalho_5</th>\n",
       "      <td>0.054043</td>\n",
       "    </tr>\n",
       "    <tr>\n",
       "      <th>Qte_Empresas_Trabalhadas_5</th>\n",
       "      <td>0.066666</td>\n",
       "    </tr>\n",
       "    <tr>\n",
       "      <th>Tempo_de_empresa_5</th>\n",
       "      <td>0.099862</td>\n",
       "    </tr>\n",
       "    <tr>\n",
       "      <th>Anos_com_o_mesmo_chefe_5</th>\n",
       "      <td>0.174310</td>\n",
       "    </tr>\n",
       "    <tr>\n",
       "      <th>Anos_no_mesmo_cargo_5</th>\n",
       "      <td>0.184508</td>\n",
       "    </tr>\n",
       "    <tr>\n",
       "      <th>Tempo_de_carreira_5</th>\n",
       "      <td>0.278123</td>\n",
       "    </tr>\n",
       "    <tr>\n",
       "      <th>Idade_5</th>\n",
       "      <td>0.286334</td>\n",
       "    </tr>\n",
       "    <tr>\n",
       "      <th>Salário_5</th>\n",
       "      <td>0.326037</td>\n",
       "    </tr>\n",
       "  </tbody>\n",
       "</table>\n",
       "</div>"
      ],
      "text/plain": [
       "                                      iv\n",
       "Features                                \n",
       "Perc_de_aumento_5               0.003211\n",
       "Qte_ações_da_empresa_5          0.030748\n",
       "Horas_de_treinamento_5          0.032945\n",
       "Anos_desde_a_ultima_promocao_5  0.048761\n",
       "Distância_do_trabalho_5         0.054043\n",
       "Qte_Empresas_Trabalhadas_5      0.066666\n",
       "Tempo_de_empresa_5              0.099862\n",
       "Anos_com_o_mesmo_chefe_5        0.174310\n",
       "Anos_no_mesmo_cargo_5           0.184508\n",
       "Tempo_de_carreira_5             0.278123\n",
       "Idade_5                         0.286334\n",
       "Salário_5                       0.326037"
      ]
     },
     "metadata": {},
     "output_type": "display_data"
    },
    {
     "data": {
      "text/plain": [
       "<Figure size 1000x1200 with 0 Axes>"
      ]
     },
     "metadata": {},
     "output_type": "display_data"
    },
    {
     "data": {
      "image/png": "[encoded data removed]",
      "text/plain": [
       "<Figure size 640x480 with 1 Axes>"
      ]
     },
     "metadata": {},
     "output_type": "display_data"
    }
   ],
   "source": [
    "# Plotando grafico do IV com matplotlib\n",
    "\n",
    "# variáveis quantitativas com faixas definidas\n",
    "\n",
    "columns_faixas = [\n",
    "    \"Idade_5\",\n",
    "    \"Distância_do_trabalho_5\",\n",
    "    \"Salário_5\",\n",
    "    \"Qte_Empresas_Trabalhadas_5\",\n",
    "    \"Perc_de_aumento_5\",\n",
    "    \"Qte_ações_da_empresa_5\",\n",
    "    \"Tempo_de_carreira_5\",\n",
    "    \"Horas_de_treinamento_5\",\n",
    "    \"Tempo_de_empresa_5\",\n",
    "    \"Anos_no_mesmo_cargo_5\",\n",
    "    \"Anos_desde_a_ultima_promocao_5\",\n",
    "    \"Anos_com_o_mesmo_chefe_5\",\n",
    "]\n",
    "\n",
    "\n",
    "iv_quantitativas = []\n",
    "\n",
    "# Loop para calcular o IV de cada variável\n",
    "for i in columns_faixas:\n",
    "    df_woe_iv = (\n",
    "        pd.crosstab(df[i], df[\"Funcionário_deixou_a_empresa\"], normalize=\"columns\")\n",
    "        .assign(woe=lambda dfx: np.log(dfx[\"Sim\"] / dfx[\"Não\"]))\n",
    "        .assign(iv=lambda dfx: np.sum(dfx[\"woe\"] * (dfx[\"Sim\"] - dfx[\"Não\"])))\n",
    "    )\n",
    "    iv_quantitativas.append(df_woe_iv[\"iv\"].iloc[0])  # Armazena o valor de IV\n",
    "\n",
    "# Criando um dataframe com as variáveis e seus respectivos IVs\n",
    "df_iv_quantitativas = (\n",
    "    pd.DataFrame({\"Features\": columns_faixas, \"iv\": iv_quantitativas})\n",
    "    .set_index(\"Features\")\n",
    "    .sort_values(by=\"iv\")\n",
    ")\n",
    "\n",
    "display(df_iv_quantitativas)\n",
    "\n",
    "# Plot\n",
    "# Figura\n",
    "plt.figure(figsize=(10, 12))\n",
    "df_iv_quantitativas.plot(\n",
    "    kind=\"barh\", title=\"IV das variáveis quantitativas\", colormap=\"Accent\"\n",
    ")\n",
    "for index, value in enumerate(list(round(df_iv_quantitativas[\"iv\"], 3))):\n",
    "    plt.text(value, index, str(value))\n",
    "plt.legend(loc=\"lower right\")\n",
    "plt.show()"
   ]
  },
  {
   "cell_type": "code",
   "execution_count": 59,
   "metadata": {},
   "outputs": [
    {
     "data": {
      "application/vnd.plotly.v1+json": {
       "config": {
        "plotlyServerURL": "https://plot.ly"
       },
       "data": [
        {
         "alignmentgroup": "True",
         "hovertemplate": "iv=%{x}<br>Features=%{y}<extra></extra>",
         "legendgroup": "",
         "marker": {
          "color": "#636efa",
          "pattern": {
           "shape": ""
          }
         },
         "name": "",
         "offsetgroup": "",
         "orientation": "h",
         "showlegend": false,
         "textposition": "auto",
         "type": "bar",
         "x": [
          0.003211202538701845,
          0.030747853314165928,
          0.0329448177604138,
          0.048761280287404035,
          0.05404333484482181,
          0.06666597621938752,
          0.099861911025843,
          0.17430993004053527,
          0.18450842011469137,
          0.2781225602180021,
          0.28633448841381626,
          0.3260371636833349
         ],
         "xaxis": "x",
         "y": [
          "Perc_de_aumento_5",
          "Qte_ações_da_empresa_5",
          "Horas_de_treinamento_5",
          "Anos_desde_a_ultima_promocao_5",
          "Distância_do_trabalho_5",
          "Qte_Empresas_Trabalhadas_5",
          "Tempo_de_empresa_5",
          "Anos_com_o_mesmo_chefe_5",
          "Anos_no_mesmo_cargo_5",
          "Tempo_de_carreira_5",
          "Idade_5",
          "Salário_5"
         ],
         "yaxis": "y"
        }
       ],
       "layout": {
        "annotations": [
         {
          "showarrow": false,
          "text": "0.003",
          "x": 0.003211202538701845,
          "xanchor": "left",
          "y": "Perc_de_aumento_5",
          "yanchor": "middle"
         },
         {
          "showarrow": false,
          "text": "0.031",
          "x": 0.030747853314165928,
          "xanchor": "left",
          "y": "Qte_ações_da_empresa_5",
          "yanchor": "middle"
         },
         {
          "showarrow": false,
          "text": "0.033",
          "x": 0.0329448177604138,
          "xanchor": "left",
          "y": "Horas_de_treinamento_5",
          "yanchor": "middle"
         },
         {
          "showarrow": false,
          "text": "0.049",
          "x": 0.048761280287404035,
          "xanchor": "left",
          "y": "Anos_desde_a_ultima_promocao_5",
          "yanchor": "middle"
         },
         {
          "showarrow": false,
          "text": "0.054",
          "x": 0.05404333484482181,
          "xanchor": "left",
          "y": "Distância_do_trabalho_5",
          "yanchor": "middle"
         },
         {
          "showarrow": false,
          "text": "0.067",
          "x": 0.06666597621938752,
          "xanchor": "left",
          "y": "Qte_Empresas_Trabalhadas_5",
          "yanchor": "middle"
         },
         {
          "showarrow": false,
          "text": "0.1",
          "x": 0.099861911025843,
          "xanchor": "left",
          "y": "Tempo_de_empresa_5",
          "yanchor": "middle"
         },
         {
          "showarrow": false,
          "text": "0.174",
          "x": 0.17430993004053527,
          "xanchor": "left",
          "y": "Anos_com_o_mesmo_chefe_5",
          "yanchor": "middle"
         },
         {
          "showarrow": false,
          "text": "0.185",
          "x": 0.18450842011469137,
          "xanchor": "left",
          "y": "Anos_no_mesmo_cargo_5",
          "yanchor": "middle"
         },
         {
          "showarrow": false,
          "text": "0.278",
          "x": 0.2781225602180021,
          "xanchor": "left",
          "y": "Tempo_de_carreira_5",
          "yanchor": "middle"
         },
         {
          "showarrow": false,
          "text": "0.286",
          "x": 0.28633448841381626,
          "xanchor": "left",
          "y": "Idade_5",
          "yanchor": "middle"
         },
         {
          "showarrow": false,
          "text": "0.326",
          "x": 0.3260371636833349,
          "xanchor": "left",
          "y": "Salário_5",
          "yanchor": "middle"
         }
        ],
        "barmode": "relative",
        "legend": {
         "tracegroupgap": 0
        },
        "template": {
         "data": {
          "bar": [
           {
            "error_x": {
             "color": "#2a3f5f"
            },
            "error_y": {
             "color": "#2a3f5f"
            },
            "marker": {
             "line": {
              "color": "#E5ECF6",
              "width": 0.5
             },
             "pattern": {
              "fillmode": "overlay",
              "size": 10,
              "solidity": 0.2
             }
            },
            "type": "bar"
           }
          ],
          "barpolar": [
           {
            "marker": {
             "line": {
              "color": "#E5ECF6",
              "width": 0.5
             },
             "pattern": {
              "fillmode": "overlay",
              "size": 10,
              "solidity": 0.2
             }
            },
            "type": "barpolar"
           }
          ],
          "carpet": [
           {
            "aaxis": {
             "endlinecolor": "#2a3f5f",
             "gridcolor": "white",
             "linecolor": "white",
             "minorgridcolor": "white",
             "startlinecolor": "#2a3f5f"
            },
            "baxis": {
             "endlinecolor": "#2a3f5f",
             "gridcolor": "white",
             "linecolor": "white",
             "minorgridcolor": "white",
             "startlinecolor": "#2a3f5f"
            },
            "type": "carpet"
           }
          ],
          "choropleth": [
           {
            "colorbar": {
             "outlinewidth": 0,
             "ticks": ""
            },
            "type": "choropleth"
           }
          ],
          "contour": [
           {
            "colorbar": {
             "outlinewidth": 0,
             "ticks": ""
            },
            "colorscale": [
             [
              0,
              "#0d0887"
             ],
             [
              0.1111111111111111,
              "#46039f"
             ],
             [
              0.2222222222222222,
              "#7201a8"
             ],
             [
              0.3333333333333333,
              "#9c179e"
             ],
             [
              0.4444444444444444,
              "#bd3786"
             ],
             [
              0.5555555555555556,
              "#d8576b"
             ],
             [
              0.6666666666666666,
              "#ed7953"
             ],
             [
              0.7777777777777778,
              "#fb9f3a"
             ],
             [
              0.8888888888888888,
              "#fdca26"
             ],
             [
              1,
              "#f0f921"
             ]
            ],
            "type": "contour"
           }
          ],
          "contourcarpet": [
           {
            "colorbar": {
             "outlinewidth": 0,
             "ticks": ""
            },
            "type": "contourcarpet"
           }
          ],
          "heatmap": [
           {
            "colorbar": {
             "outlinewidth": 0,
             "ticks": ""
            },
            "colorscale": [
             [
              0,
              "#0d0887"
             ],
             [
              0.1111111111111111,
              "#46039f"
             ],
             [
              0.2222222222222222,
              "#7201a8"
             ],
             [
              0.3333333333333333,
              "#9c179e"
             ],
             [
              0.4444444444444444,
              "#bd3786"
             ],
             [
              0.5555555555555556,
              "#d8576b"
             ],
             [
              0.6666666666666666,
              "#ed7953"
             ],
             [
              0.7777777777777778,
              "#fb9f3a"
             ],
             [
              0.8888888888888888,
              "#fdca26"
             ],
             [
              1,
              "#f0f921"
             ]
            ],
            "type": "heatmap"
           }
          ],
          "heatmapgl": [
           {
            "colorbar": {
             "outlinewidth": 0,
             "ticks": ""
            },
            "colorscale": [
             [
              0,
              "#0d0887"
             ],
             [
              0.1111111111111111,
              "#46039f"
             ],
             [
              0.2222222222222222,
              "#7201a8"
             ],
             [
              0.3333333333333333,
              "#9c179e"
             ],
             [
              0.4444444444444444,
              "#bd3786"
             ],
             [
              0.5555555555555556,
              "#d8576b"
             ],
             [
              0.6666666666666666,
              "#ed7953"
             ],
             [
              0.7777777777777778,
              "#fb9f3a"
             ],
             [
              0.8888888888888888,
              "#fdca26"
             ],
             [
              1,
              "#f0f921"
             ]
            ],
            "type": "heatmapgl"
           }
          ],
          "histogram": [
           {
            "marker": {
             "pattern": {
              "fillmode": "overlay",
              "size": 10,
              "solidity": 0.2
             }
            },
            "type": "histogram"
           }
          ],
          "histogram2d": [
           {
            "colorbar": {
             "outlinewidth": 0,
             "ticks": ""
            },
            "colorscale": [
             [
              0,
              "#0d0887"
             ],
             [
              0.1111111111111111,
              "#46039f"
             ],
             [
              0.2222222222222222,
              "#7201a8"
             ],
             [
              0.3333333333333333,
              "#9c179e"
             ],
             [
              0.4444444444444444,
              "#bd3786"
             ],
             [
              0.5555555555555556,
              "#d8576b"
             ],
             [
              0.6666666666666666,
              "#ed7953"
             ],
             [
              0.7777777777777778,
              "#fb9f3a"
             ],
             [
              0.8888888888888888,
              "#fdca26"
             ],
             [
              1,
              "#f0f921"
             ]
            ],
            "type": "histogram2d"
           }
          ],
          "histogram2dcontour": [
           {
            "colorbar": {
             "outlinewidth": 0,
             "ticks": ""
            },
            "colorscale": [
             [
              0,
              "#0d0887"
             ],
             [
              0.1111111111111111,
              "#46039f"
             ],
             [
              0.2222222222222222,
              "#7201a8"
             ],
             [
              0.3333333333333333,
              "#9c179e"
             ],
             [
              0.4444444444444444,
              "#bd3786"
             ],
             [
              0.5555555555555556,
              "#d8576b"
             ],
             [
              0.6666666666666666,
              "#ed7953"
             ],
             [
              0.7777777777777778,
              "#fb9f3a"
             ],
             [
              0.8888888888888888,
              "#fdca26"
             ],
             [
              1,
              "#f0f921"
             ]
            ],
            "type": "histogram2dcontour"
           }
          ],
          "mesh3d": [
           {
            "colorbar": {
             "outlinewidth": 0,
             "ticks": ""
            },
            "type": "mesh3d"
           }
          ],
          "parcoords": [
           {
            "line": {
             "colorbar": {
              "outlinewidth": 0,
              "ticks": ""
             }
            },
            "type": "parcoords"
           }
          ],
          "pie": [
           {
            "automargin": true,
            "type": "pie"
           }
          ],
          "scatter": [
           {
            "fillpattern": {
             "fillmode": "overlay",
             "size": 10,
             "solidity": 0.2
            },
            "type": "scatter"
           }
          ],
          "scatter3d": [
           {
            "line": {
             "colorbar": {
              "outlinewidth": 0,
              "ticks": ""
             }
            },
            "marker": {
             "colorbar": {
              "outlinewidth": 0,
              "ticks": ""
             }
            },
            "type": "scatter3d"
           }
          ],
          "scattercarpet": [
           {
            "marker": {
             "colorbar": {
              "outlinewidth": 0,
              "ticks": ""
             }
            },
            "type": "scattercarpet"
           }
          ],
          "scattergeo": [
           {
            "marker": {
             "colorbar": {
              "outlinewidth": 0,
              "ticks": ""
             }
            },
            "type": "scattergeo"
           }
          ],
          "scattergl": [
           {
            "marker": {
             "colorbar": {
              "outlinewidth": 0,
              "ticks": ""
             }
            },
            "type": "scattergl"
           }
          ],
          "scattermapbox": [
           {
            "marker": {
             "colorbar": {
              "outlinewidth": 0,
              "ticks": ""
             }
            },
            "type": "scattermapbox"
           }
          ],
          "scatterpolar": [
           {
            "marker": {
             "colorbar": {
              "outlinewidth": 0,
              "ticks": ""
             }
            },
            "type": "scatterpolar"
           }
          ],
          "scatterpolargl": [
           {
            "marker": {
             "colorbar": {
              "outlinewidth": 0,
              "ticks": ""
             }
            },
            "type": "scatterpolargl"
           }
          ],
          "scatterternary": [
           {
            "marker": {
             "colorbar": {
              "outlinewidth": 0,
              "ticks": ""
             }
            },
            "type": "scatterternary"
           }
          ],
          "surface": [
           {
            "colorbar": {
             "outlinewidth": 0,
             "ticks": ""
            },
            "colorscale": [
             [
              0,
              "#0d0887"
             ],
             [
              0.1111111111111111,
              "#46039f"
             ],
             [
              0.2222222222222222,
              "#7201a8"
             ],
             [
              0.3333333333333333,
              "#9c179e"
             ],
             [
              0.4444444444444444,
              "#bd3786"
             ],
             [
              0.5555555555555556,
              "#d8576b"
             ],
             [
              0.6666666666666666,
              "#ed7953"
             ],
             [
              0.7777777777777778,
              "#fb9f3a"
             ],
             [
              0.8888888888888888,
              "#fdca26"
             ],
             [
              1,
              "#f0f921"
             ]
            ],
            "type": "surface"
           }
          ],
          "table": [
           {
            "cells": {
             "fill": {
              "color": "#EBF0F8"
             },
             "line": {
              "color": "white"
             }
            },
            "header": {
             "fill": {
              "color": "#C8D4E3"
             },
             "line": {
              "color": "white"
             }
            },
            "type": "table"
           }
          ]
         },
         "layout": {
          "annotationdefaults": {
           "arrowcolor": "#2a3f5f",
           "arrowhead": 0,
           "arrowwidth": 1
          },
          "autotypenumbers": "strict",
          "coloraxis": {
           "colorbar": {
            "outlinewidth": 0,
            "ticks": ""
           }
          },
          "colorscale": {
           "diverging": [
            [
             0,
             "#8e0152"
            ],
            [
             0.1,
             "#c51b7d"
            ],
            [
             0.2,
             "#de77ae"
            ],
            [
             0.3,
             "#f1b6da"
            ],
            [
             0.4,
             "#fde0ef"
            ],
            [
             0.5,
             "#f7f7f7"
            ],
            [
             0.6,
             "#e6f5d0"
            ],
            [
             0.7,
             "#b8e186"
            ],
            [
             0.8,
             "#7fbc41"
            ],
            [
             0.9,
             "#4d9221"
            ],
            [
             1,
             "#276419"
            ]
           ],
           "sequential": [
            [
             0,
             "#0d0887"
            ],
            [
             0.1111111111111111,
             "#46039f"
            ],
            [
             0.2222222222222222,
             "#7201a8"
            ],
            [
             0.3333333333333333,
             "#9c179e"
            ],
            [
             0.4444444444444444,
             "#bd3786"
            ],
            [
             0.5555555555555556,
             "#d8576b"
            ],
            [
             0.6666666666666666,
             "#ed7953"
            ],
            [
             0.7777777777777778,
             "#fb9f3a"
            ],
            [
             0.8888888888888888,
             "#fdca26"
            ],
            [
             1,
             "#f0f921"
            ]
           ],
           "sequentialminus": [
            [
             0,
             "#0d0887"
            ],
            [
             0.1111111111111111,
             "#46039f"
            ],
            [
             0.2222222222222222,
             "#7201a8"
            ],
            [
             0.3333333333333333,
             "#9c179e"
            ],
            [
             0.4444444444444444,
             "#bd3786"
            ],
            [
             0.5555555555555556,
             "#d8576b"
            ],
            [
             0.6666666666666666,
             "#ed7953"
            ],
            [
             0.7777777777777778,
             "#fb9f3a"
            ],
            [
             0.8888888888888888,
             "#fdca26"
            ],
            [
             1,
             "#f0f921"
            ]
           ]
          },
          "colorway": [
           "#636efa",
           "#EF553B",
           "#00cc96",
           "#ab63fa",
           "#FFA15A",
           "#19d3f3",
           "#FF6692",
           "#B6E880",
           "#FF97FF",
           "#FECB52"
          ],
          "font": {
           "color": "#2a3f5f"
          },
          "geo": {
           "bgcolor": "white",
           "lakecolor": "white",
           "landcolor": "#E5ECF6",
           "showlakes": true,
           "showland": true,
           "subunitcolor": "white"
          },
          "hoverlabel": {
           "align": "left"
          },
          "hovermode": "closest",
          "mapbox": {
           "style": "light"
          },
          "paper_bgcolor": "white",
          "plot_bgcolor": "#E5ECF6",
          "polar": {
           "angularaxis": {
            "gridcolor": "white",
            "linecolor": "white",
            "ticks": ""
           },
           "bgcolor": "#E5ECF6",
           "radialaxis": {
            "gridcolor": "white",
            "linecolor": "white",
            "ticks": ""
           }
          },
          "scene": {
           "xaxis": {
            "backgroundcolor": "#E5ECF6",
            "gridcolor": "white",
            "gridwidth": 2,
            "linecolor": "white",
            "showbackground": true,
            "ticks": "",
            "zerolinecolor": "white"
           },
           "yaxis": {
            "backgroundcolor": "#E5ECF6",
            "gridcolor": "white",
            "gridwidth": 2,
            "linecolor": "white",
            "showbackground": true,
            "ticks": "",
            "zerolinecolor": "white"
           },
           "zaxis": {
            "backgroundcolor": "#E5ECF6",
            "gridcolor": "white",
            "gridwidth": 2,
            "linecolor": "white",
            "showbackground": true,
            "ticks": "",
            "zerolinecolor": "white"
           }
          },
          "shapedefaults": {
           "line": {
            "color": "#2a3f5f"
           }
          },
          "ternary": {
           "aaxis": {
            "gridcolor": "white",
            "linecolor": "white",
            "ticks": ""
           },
           "baxis": {
            "gridcolor": "white",
            "linecolor": "white",
            "ticks": ""
           },
           "bgcolor": "#E5ECF6",
           "caxis": {
            "gridcolor": "white",
            "linecolor": "white",
            "ticks": ""
           }
          },
          "title": {
           "x": 0.05
          },
          "xaxis": {
           "automargin": true,
           "gridcolor": "white",
           "linecolor": "white",
           "ticks": "",
           "title": {
            "standoff": 15
           },
           "zerolinecolor": "white",
           "zerolinewidth": 2
          },
          "yaxis": {
           "automargin": true,
           "gridcolor": "white",
           "linecolor": "white",
           "ticks": "",
           "title": {
            "standoff": 15
           },
           "zerolinecolor": "white",
           "zerolinewidth": 2
          }
         }
        },
        "title": {
         "text": "IV das variáveis quantitativas"
        },
        "width": 800,
        "xaxis": {
         "anchor": "y",
         "domain": [
          0,
          1
         ],
         "title": {
          "text": "iv"
         }
        },
        "yaxis": {
         "anchor": "x",
         "domain": [
          0,
          1
         ],
         "title": {
          "text": "Features"
         }
        }
       }
      }
     },
     "metadata": {},
     "output_type": "display_data"
    }
   ],
   "source": [
    "# Usando o plotly\n",
    "\n",
    "columns_faixas = [\n",
    "    \"Idade_5\",\n",
    "    \"Distância_do_trabalho_5\",\n",
    "    \"Salário_5\",\n",
    "    \"Qte_Empresas_Trabalhadas_5\",\n",
    "    \"Perc_de_aumento_5\",\n",
    "    \"Qte_ações_da_empresa_5\",\n",
    "    \"Tempo_de_carreira_5\",\n",
    "    \"Horas_de_treinamento_5\",\n",
    "    \"Tempo_de_empresa_5\",\n",
    "    \"Anos_no_mesmo_cargo_5\",\n",
    "    \"Anos_desde_a_ultima_promocao_5\",\n",
    "    \"Anos_com_o_mesmo_chefe_5\",\n",
    "]\n",
    "\n",
    "# Lista para armazenar o IV\n",
    "iv_quantitativas = []\n",
    "\n",
    "# Loop para calcular o IV de cada variável\n",
    "for i in columns_faixas:\n",
    "    df_woe_iv = (\n",
    "        pd.crosstab(df[i], df[\"Funcionário_deixou_a_empresa\"], normalize=\"columns\")\n",
    "        .assign(woe=lambda dfx: np.log(dfx[\"Sim\"] / dfx[\"Não\"]))\n",
    "        .assign(iv=lambda dfx: np.sum(dfx[\"woe\"] * (dfx[\"Sim\"] - dfx[\"Não\"])))\n",
    "    )\n",
    "    iv_quantitativas.append(df_woe_iv[\"iv\"].iloc[0])  # Armazena o valor de IV\n",
    "\n",
    "# Criando um dataframe com as variáveis e seus respectivos IVs\n",
    "df_iv_quantitativas = (\n",
    "    pd.DataFrame({\"Features\": columns_faixas, \"iv\": iv_quantitativas})\n",
    "    .set_index(\"Features\")\n",
    "    .sort_values(by=\"iv\")\n",
    ")\n",
    "\n",
    "\n",
    "# Plot\n",
    "# Plot\n",
    "fig_quantitativas = px.bar(\n",
    "    df_iv_quantitativas,\n",
    "    y=df_iv_quantitativas.index,\n",
    "    x=\"iv\",\n",
    "    orientation=\"h\",\n",
    "    title=\"IV das variáveis quantitativas\",\n",
    "    width=800,\n",
    ")\n",
    "\n",
    "# adicionando os valores das barras\n",
    "fig_quantitativas.update_layout(\n",
    "    annotations=[\n",
    "        dict(\n",
    "            x=df_iv_quantitativas.iloc[i][\"iv\"],\n",
    "            y=df_iv_quantitativas.index[i],\n",
    "            text=str(round(df_iv_quantitativas.iloc[i][\"iv\"], 3)),\n",
    "            xanchor=\"left\",\n",
    "            yanchor=\"middle\",\n",
    "            showarrow=False,\n",
    "        )\n",
    "        for i in range(len(df_iv_quantitativas))\n",
    "    ]\n",
    ")\n",
    "\n",
    "fig_quantitativas.show()"
   ]
  },
  {
   "cell_type": "markdown",
   "metadata": {},
   "source": [
    "### **Verificar a taxa de turnover atual (% pessoas que saíram / total de funcionários).**"
   ]
  },
  {
   "cell_type": "code",
   "execution_count": 60,
   "metadata": {},
   "outputs": [
    {
     "data": {
      "text/html": [
       "<style type=\"text/css\">\n",
       "#T_97a0c_row1_col1 {\n",
       "  background-color: red;\n",
       "}\n",
       "</style>\n",
       "<table id=\"T_97a0c\">\n",
       "  <thead>\n",
       "    <tr>\n",
       "      <th class=\"blank level0\" >&nbsp;</th>\n",
       "      <th id=\"T_97a0c_level0_col0\" class=\"col_heading level0 col0\" >Frequência Absoluta</th>\n",
       "      <th id=\"T_97a0c_level0_col1\" class=\"col_heading level0 col1\" >Frequência Relativa</th>\n",
       "    </tr>\n",
       "    <tr>\n",
       "      <th class=\"index_name level0\" >Funcionário_deixou_a_empresa</th>\n",
       "      <th class=\"blank col0\" >&nbsp;</th>\n",
       "      <th class=\"blank col1\" >&nbsp;</th>\n",
       "    </tr>\n",
       "  </thead>\n",
       "  <tbody>\n",
       "    <tr>\n",
       "      <th id=\"T_97a0c_level0_row0\" class=\"row_heading level0 row0\" >Não</th>\n",
       "      <td id=\"T_97a0c_row0_col0\" class=\"data row0 col0\" >1233</td>\n",
       "      <td id=\"T_97a0c_row0_col1\" class=\"data row0 col1\" >83.880000</td>\n",
       "    </tr>\n",
       "    <tr>\n",
       "      <th id=\"T_97a0c_level0_row1\" class=\"row_heading level0 row1\" >Sim</th>\n",
       "      <td id=\"T_97a0c_row1_col0\" class=\"data row1 col0\" >237</td>\n",
       "      <td id=\"T_97a0c_row1_col1\" class=\"data row1 col1\" >16.120000</td>\n",
       "    </tr>\n",
       "  </tbody>\n",
       "</table>\n"
      ],
      "text/plain": [
       "<pandas.io.formats.style.Styler at 0x1fe3dae2890>"
      ]
     },
     "execution_count": 60,
     "metadata": {},
     "output_type": "execute_result"
    }
   ],
   "source": [
    "# Criando um DataFrame para a variavel \"Funcionário_deixou_a_empresa\" com sua frequencia absoluta e frequencia relativa\n",
    "\n",
    "frequencia_absoluta = df[\"Funcionário_deixou_a_empresa\"].value_counts()\n",
    "\n",
    "frequencia_relativa = (\n",
    "    df[\"Funcionário_deixou_a_empresa\"].value_counts(normalize=True) * 100\n",
    ")\n",
    "frequencia_relativa = frequencia_relativa.round(2)\n",
    "\n",
    "frequencia = pd.DataFrame(\n",
    "    {\n",
    "        \"Frequência Absoluta\": frequencia_absoluta,\n",
    "        \"Frequência Relativa\": frequencia_relativa.round(2),\n",
    "    }\n",
    ")\n",
    "\n",
    "frequencia.style.highlight_min(subset=\"Frequência Relativa\", color=\"red\")  # type: ignore"
   ]
  },
  {
   "cell_type": "markdown",
   "metadata": {},
   "source": [
    "### Funcionário_deixou_a_empresa X Estado_Civil"
   ]
  },
  {
   "cell_type": "code",
   "execution_count": 61,
   "metadata": {},
   "outputs": [
    {
     "data": {
      "text/html": [
       "<div>\n",
       "<style scoped>\n",
       "    .dataframe tbody tr th:only-of-type {\n",
       "        vertical-align: middle;\n",
       "    }\n",
       "\n",
       "    .dataframe tbody tr th {\n",
       "        vertical-align: top;\n",
       "    }\n",
       "\n",
       "    .dataframe thead th {\n",
       "        text-align: right;\n",
       "    }\n",
       "</style>\n",
       "<table border=\"1\" class=\"dataframe\">\n",
       "  <thead>\n",
       "    <tr style=\"text-align: right;\">\n",
       "      <th>Funcionário_deixou_a_empresa</th>\n",
       "      <th>Não</th>\n",
       "      <th>Sim</th>\n",
       "    </tr>\n",
       "    <tr>\n",
       "      <th>Estado_Civil</th>\n",
       "      <th></th>\n",
       "      <th></th>\n",
       "    </tr>\n",
       "  </thead>\n",
       "  <tbody>\n",
       "    <tr>\n",
       "      <th>Solteiro</th>\n",
       "      <td>350</td>\n",
       "      <td>120</td>\n",
       "    </tr>\n",
       "    <tr>\n",
       "      <th>Casado</th>\n",
       "      <td>589</td>\n",
       "      <td>84</td>\n",
       "    </tr>\n",
       "    <tr>\n",
       "      <th>Divorciado</th>\n",
       "      <td>294</td>\n",
       "      <td>33</td>\n",
       "    </tr>\n",
       "  </tbody>\n",
       "</table>\n",
       "</div>"
      ],
      "text/plain": [
       "Funcionário_deixou_a_empresa  Não  Sim\n",
       "Estado_Civil                          \n",
       "Solteiro                      350  120\n",
       "Casado                        589   84\n",
       "Divorciado                    294   33"
      ]
     },
     "metadata": {},
     "output_type": "display_data"
    },
    {
     "data": {
      "text/html": [
       "<div>\n",
       "<style scoped>\n",
       "    .dataframe tbody tr th:only-of-type {\n",
       "        vertical-align: middle;\n",
       "    }\n",
       "\n",
       "    .dataframe tbody tr th {\n",
       "        vertical-align: top;\n",
       "    }\n",
       "\n",
       "    .dataframe thead th {\n",
       "        text-align: right;\n",
       "    }\n",
       "</style>\n",
       "<table border=\"1\" class=\"dataframe\">\n",
       "  <thead>\n",
       "    <tr style=\"text-align: right;\">\n",
       "      <th>Funcionário_deixou_a_empresa</th>\n",
       "      <th>Não</th>\n",
       "      <th>Sim</th>\n",
       "    </tr>\n",
       "    <tr>\n",
       "      <th>Estado_Civil</th>\n",
       "      <th></th>\n",
       "      <th></th>\n",
       "    </tr>\n",
       "  </thead>\n",
       "  <tbody>\n",
       "    <tr>\n",
       "      <th>Solteiro</th>\n",
       "      <td>28.0</td>\n",
       "      <td>51.0</td>\n",
       "    </tr>\n",
       "    <tr>\n",
       "      <th>Casado</th>\n",
       "      <td>48.0</td>\n",
       "      <td>35.0</td>\n",
       "    </tr>\n",
       "    <tr>\n",
       "      <th>Divorciado</th>\n",
       "      <td>24.0</td>\n",
       "      <td>14.0</td>\n",
       "    </tr>\n",
       "  </tbody>\n",
       "</table>\n",
       "</div>"
      ],
      "text/plain": [
       "Funcionário_deixou_a_empresa   Não   Sim\n",
       "Estado_Civil                            \n",
       "Solteiro                      28.0  51.0\n",
       "Casado                        48.0  35.0\n",
       "Divorciado                    24.0  14.0"
      ]
     },
     "metadata": {},
     "output_type": "display_data"
    },
    {
     "data": {
      "text/html": [
       "<div>\n",
       "<style scoped>\n",
       "    .dataframe tbody tr th:only-of-type {\n",
       "        vertical-align: middle;\n",
       "    }\n",
       "\n",
       "    .dataframe tbody tr th {\n",
       "        vertical-align: top;\n",
       "    }\n",
       "\n",
       "    .dataframe thead th {\n",
       "        text-align: right;\n",
       "    }\n",
       "</style>\n",
       "<table border=\"1\" class=\"dataframe\">\n",
       "  <thead>\n",
       "    <tr style=\"text-align: right;\">\n",
       "      <th>Funcionário_deixou_a_empresa</th>\n",
       "      <th>Não</th>\n",
       "      <th>Sim</th>\n",
       "    </tr>\n",
       "    <tr>\n",
       "      <th>Estado_Civil</th>\n",
       "      <th></th>\n",
       "      <th></th>\n",
       "    </tr>\n",
       "  </thead>\n",
       "  <tbody>\n",
       "    <tr>\n",
       "      <th>Solteiro</th>\n",
       "      <td>28.0</td>\n",
       "      <td>51.0</td>\n",
       "    </tr>\n",
       "    <tr>\n",
       "      <th>Casado</th>\n",
       "      <td>76.0</td>\n",
       "      <td>86.0</td>\n",
       "    </tr>\n",
       "    <tr>\n",
       "      <th>Divorciado</th>\n",
       "      <td>100.0</td>\n",
       "      <td>100.0</td>\n",
       "    </tr>\n",
       "  </tbody>\n",
       "</table>\n",
       "</div>"
      ],
      "text/plain": [
       "Funcionário_deixou_a_empresa    Não    Sim\n",
       "Estado_Civil                              \n",
       "Solteiro                       28.0   51.0\n",
       "Casado                         76.0   86.0\n",
       "Divorciado                    100.0  100.0"
      ]
     },
     "metadata": {},
     "output_type": "display_data"
    },
    {
     "data": {
      "application/vnd.plotly.v1+json": {
       "config": {
        "plotlyServerURL": "https://plot.ly"
       },
       "data": [
        {
         "alignmentgroup": "True",
         "hovertemplate": "Estado Civil=%{x}<br>Frequência Absoluta=%{text}<extra></extra>",
         "legendgroup": "",
         "marker": {
          "color": "#636efa",
          "pattern": {
           "shape": ""
          }
         },
         "name": "",
         "offsetgroup": "",
         "orientation": "v",
         "showlegend": false,
         "text": [
          120,
          84,
          33
         ],
         "textposition": "auto",
         "type": "bar",
         "x": [
          "Solteiro",
          "Casado",
          "Divorciado"
         ],
         "xaxis": "x",
         "y": [
          120,
          84,
          33
         ],
         "yaxis": "y"
        },
        {
         "mode": "lines+markers+text",
         "name": "Frequência Acumulada %",
         "text": [
          51,
          86,
          100
         ],
         "textposition": "top center",
         "type": "scatter",
         "x": [
          "Solteiro",
          "Casado",
          "Divorciado"
         ],
         "y": [
          51,
          86,
          100
         ]
        }
       ],
       "layout": {
        "barmode": "relative",
        "height": 400,
        "legend": {
         "tracegroupgap": 0
        },
        "template": {
         "data": {
          "bar": [
           {
            "error_x": {
             "color": "#2a3f5f"
            },
            "error_y": {
             "color": "#2a3f5f"
            },
            "marker": {
             "line": {
              "color": "#E5ECF6",
              "width": 0.5
             },
             "pattern": {
              "fillmode": "overlay",
              "size": 10,
              "solidity": 0.2
             }
            },
            "type": "bar"
           }
          ],
          "barpolar": [
           {
            "marker": {
             "line": {
              "color": "#E5ECF6",
              "width": 0.5
             },
             "pattern": {
              "fillmode": "overlay",
              "size": 10,
              "solidity": 0.2
             }
            },
            "type": "barpolar"
           }
          ],
          "carpet": [
           {
            "aaxis": {
             "endlinecolor": "#2a3f5f",
             "gridcolor": "white",
             "linecolor": "white",
             "minorgridcolor": "white",
             "startlinecolor": "#2a3f5f"
            },
            "baxis": {
             "endlinecolor": "#2a3f5f",
             "gridcolor": "white",
             "linecolor": "white",
             "minorgridcolor": "white",
             "startlinecolor": "#2a3f5f"
            },
            "type": "carpet"
           }
          ],
          "choropleth": [
           {
            "colorbar": {
             "outlinewidth": 0,
             "ticks": ""
            },
            "type": "choropleth"
           }
          ],
          "contour": [
           {
            "colorbar": {
             "outlinewidth": 0,
             "ticks": ""
            },
            "colorscale": [
             [
              0,
              "#0d0887"
             ],
             [
              0.1111111111111111,
              "#46039f"
             ],
             [
              0.2222222222222222,
              "#7201a8"
             ],
             [
              0.3333333333333333,
              "#9c179e"
             ],
             [
              0.4444444444444444,
              "#bd3786"
             ],
             [
              0.5555555555555556,
              "#d8576b"
             ],
             [
              0.6666666666666666,
              "#ed7953"
             ],
             [
              0.7777777777777778,
              "#fb9f3a"
             ],
             [
              0.8888888888888888,
              "#fdca26"
             ],
             [
              1,
              "#f0f921"
             ]
            ],
            "type": "contour"
           }
          ],
          "contourcarpet": [
           {
            "colorbar": {
             "outlinewidth": 0,
             "ticks": ""
            },
            "type": "contourcarpet"
           }
          ],
          "heatmap": [
           {
            "colorbar": {
             "outlinewidth": 0,
             "ticks": ""
            },
            "colorscale": [
             [
              0,
              "#0d0887"
             ],
             [
              0.1111111111111111,
              "#46039f"
             ],
             [
              0.2222222222222222,
              "#7201a8"
             ],
             [
              0.3333333333333333,
              "#9c179e"
             ],
             [
              0.4444444444444444,
              "#bd3786"
             ],
             [
              0.5555555555555556,
              "#d8576b"
             ],
             [
              0.6666666666666666,
              "#ed7953"
             ],
             [
              0.7777777777777778,
              "#fb9f3a"
             ],
             [
              0.8888888888888888,
              "#fdca26"
             ],
             [
              1,
              "#f0f921"
             ]
            ],
            "type": "heatmap"
           }
          ],
          "heatmapgl": [
           {
            "colorbar": {
             "outlinewidth": 0,
             "ticks": ""
            },
            "colorscale": [
             [
              0,
              "#0d0887"
             ],
             [
              0.1111111111111111,
              "#46039f"
             ],
             [
              0.2222222222222222,
              "#7201a8"
             ],
             [
              0.3333333333333333,
              "#9c179e"
             ],
             [
              0.4444444444444444,
              "#bd3786"
             ],
             [
              0.5555555555555556,
              "#d8576b"
             ],
             [
              0.6666666666666666,
              "#ed7953"
             ],
             [
              0.7777777777777778,
              "#fb9f3a"
             ],
             [
              0.8888888888888888,
              "#fdca26"
             ],
             [
              1,
              "#f0f921"
             ]
            ],
            "type": "heatmapgl"
           }
          ],
          "histogram": [
           {
            "marker": {
             "pattern": {
              "fillmode": "overlay",
              "size": 10,
              "solidity": 0.2
             }
            },
            "type": "histogram"
           }
          ],
          "histogram2d": [
           {
            "colorbar": {
             "outlinewidth": 0,
             "ticks": ""
            },
            "colorscale": [
             [
              0,
              "#0d0887"
             ],
             [
              0.1111111111111111,
              "#46039f"
             ],
             [
              0.2222222222222222,
              "#7201a8"
             ],
             [
              0.3333333333333333,
              "#9c179e"
             ],
             [
              0.4444444444444444,
              "#bd3786"
             ],
             [
              0.5555555555555556,
              "#d8576b"
             ],
             [
              0.6666666666666666,
              "#ed7953"
             ],
             [
              0.7777777777777778,
              "#fb9f3a"
             ],
             [
              0.8888888888888888,
              "#fdca26"
             ],
             [
              1,
              "#f0f921"
             ]
            ],
            "type": "histogram2d"
           }
          ],
          "histogram2dcontour": [
           {
            "colorbar": {
             "outlinewidth": 0,
             "ticks": ""
            },
            "colorscale": [
             [
              0,
              "#0d0887"
             ],
             [
              0.1111111111111111,
              "#46039f"
             ],
             [
              0.2222222222222222,
              "#7201a8"
             ],
             [
              0.3333333333333333,
              "#9c179e"
             ],
             [
              0.4444444444444444,
              "#bd3786"
             ],
             [
              0.5555555555555556,
              "#d8576b"
             ],
             [
              0.6666666666666666,
              "#ed7953"
             ],
             [
              0.7777777777777778,
              "#fb9f3a"
             ],
             [
              0.8888888888888888,
              "#fdca26"
             ],
             [
              1,
              "#f0f921"
             ]
            ],
            "type": "histogram2dcontour"
           }
          ],
          "mesh3d": [
           {
            "colorbar": {
             "outlinewidth": 0,
             "ticks": ""
            },
            "type": "mesh3d"
           }
          ],
          "parcoords": [
           {
            "line": {
             "colorbar": {
              "outlinewidth": 0,
              "ticks": ""
             }
            },
            "type": "parcoords"
           }
          ],
          "pie": [
           {
            "automargin": true,
            "type": "pie"
           }
          ],
          "scatter": [
           {
            "fillpattern": {
             "fillmode": "overlay",
             "size": 10,
             "solidity": 0.2
            },
            "type": "scatter"
           }
          ],
          "scatter3d": [
           {
            "line": {
             "colorbar": {
              "outlinewidth": 0,
              "ticks": ""
             }
            },
            "marker": {
             "colorbar": {
              "outlinewidth": 0,
              "ticks": ""
             }
            },
            "type": "scatter3d"
           }
          ],
          "scattercarpet": [
           {
            "marker": {
             "colorbar": {
              "outlinewidth": 0,
              "ticks": ""
             }
            },
            "type": "scattercarpet"
           }
          ],
          "scattergeo": [
           {
            "marker": {
             "colorbar": {
              "outlinewidth": 0,
              "ticks": ""
             }
            },
            "type": "scattergeo"
           }
          ],
          "scattergl": [
           {
            "marker": {
             "colorbar": {
              "outlinewidth": 0,
              "ticks": ""
             }
            },
            "type": "scattergl"
           }
          ],
          "scattermapbox": [
           {
            "marker": {
             "colorbar": {
              "outlinewidth": 0,
              "ticks": ""
             }
            },
            "type": "scattermapbox"
           }
          ],
          "scatterpolar": [
           {
            "marker": {
             "colorbar": {
              "outlinewidth": 0,
              "ticks": ""
             }
            },
            "type": "scatterpolar"
           }
          ],
          "scatterpolargl": [
           {
            "marker": {
             "colorbar": {
              "outlinewidth": 0,
              "ticks": ""
             }
            },
            "type": "scatterpolargl"
           }
          ],
          "scatterternary": [
           {
            "marker": {
             "colorbar": {
              "outlinewidth": 0,
              "ticks": ""
             }
            },
            "type": "scatterternary"
           }
          ],
          "surface": [
           {
            "colorbar": {
             "outlinewidth": 0,
             "ticks": ""
            },
            "colorscale": [
             [
              0,
              "#0d0887"
             ],
             [
              0.1111111111111111,
              "#46039f"
             ],
             [
              0.2222222222222222,
              "#7201a8"
             ],
             [
              0.3333333333333333,
              "#9c179e"
             ],
             [
              0.4444444444444444,
              "#bd3786"
             ],
             [
              0.5555555555555556,
              "#d8576b"
             ],
             [
              0.6666666666666666,
              "#ed7953"
             ],
             [
              0.7777777777777778,
              "#fb9f3a"
             ],
             [
              0.8888888888888888,
              "#fdca26"
             ],
             [
              1,
              "#f0f921"
             ]
            ],
            "type": "surface"
           }
          ],
          "table": [
           {
            "cells": {
             "fill": {
              "color": "#EBF0F8"
             },
             "line": {
              "color": "white"
             }
            },
            "header": {
             "fill": {
              "color": "#C8D4E3"
             },
             "line": {
              "color": "white"
             }
            },
            "type": "table"
           }
          ]
         },
         "layout": {
          "annotationdefaults": {
           "arrowcolor": "#2a3f5f",
           "arrowhead": 0,
           "arrowwidth": 1
          },
          "autotypenumbers": "strict",
          "coloraxis": {
           "colorbar": {
            "outlinewidth": 0,
            "ticks": ""
           }
          },
          "colorscale": {
           "diverging": [
            [
             0,
             "#8e0152"
            ],
            [
             0.1,
             "#c51b7d"
            ],
            [
             0.2,
             "#de77ae"
            ],
            [
             0.3,
             "#f1b6da"
            ],
            [
             0.4,
             "#fde0ef"
            ],
            [
             0.5,
             "#f7f7f7"
            ],
            [
             0.6,
             "#e6f5d0"
            ],
            [
             0.7,
             "#b8e186"
            ],
            [
             0.8,
             "#7fbc41"
            ],
            [
             0.9,
             "#4d9221"
            ],
            [
             1,
             "#276419"
            ]
           ],
           "sequential": [
            [
             0,
             "#0d0887"
            ],
            [
             0.1111111111111111,
             "#46039f"
            ],
            [
             0.2222222222222222,
             "#7201a8"
            ],
            [
             0.3333333333333333,
             "#9c179e"
            ],
            [
             0.4444444444444444,
             "#bd3786"
            ],
            [
             0.5555555555555556,
             "#d8576b"
            ],
            [
             0.6666666666666666,
             "#ed7953"
            ],
            [
             0.7777777777777778,
             "#fb9f3a"
            ],
            [
             0.8888888888888888,
             "#fdca26"
            ],
            [
             1,
             "#f0f921"
            ]
           ],
           "sequentialminus": [
            [
             0,
             "#0d0887"
            ],
            [
             0.1111111111111111,
             "#46039f"
            ],
            [
             0.2222222222222222,
             "#7201a8"
            ],
            [
             0.3333333333333333,
             "#9c179e"
            ],
            [
             0.4444444444444444,
             "#bd3786"
            ],
            [
             0.5555555555555556,
             "#d8576b"
            ],
            [
             0.6666666666666666,
             "#ed7953"
            ],
            [
             0.7777777777777778,
             "#fb9f3a"
            ],
            [
             0.8888888888888888,
             "#fdca26"
            ],
            [
             1,
             "#f0f921"
            ]
           ]
          },
          "colorway": [
           "#636efa",
           "#EF553B",
           "#00cc96",
           "#ab63fa",
           "#FFA15A",
           "#19d3f3",
           "#FF6692",
           "#B6E880",
           "#FF97FF",
           "#FECB52"
          ],
          "font": {
           "color": "#2a3f5f"
          },
          "geo": {
           "bgcolor": "white",
           "lakecolor": "white",
           "landcolor": "#E5ECF6",
           "showlakes": true,
           "showland": true,
           "subunitcolor": "white"
          },
          "hoverlabel": {
           "align": "left"
          },
          "hovermode": "closest",
          "mapbox": {
           "style": "light"
          },
          "paper_bgcolor": "white",
          "plot_bgcolor": "#E5ECF6",
          "polar": {
           "angularaxis": {
            "gridcolor": "white",
            "linecolor": "white",
            "ticks": ""
           },
           "bgcolor": "#E5ECF6",
           "radialaxis": {
            "gridcolor": "white",
            "linecolor": "white",
            "ticks": ""
           }
          },
          "scene": {
           "xaxis": {
            "backgroundcolor": "#E5ECF6",
            "gridcolor": "white",
            "gridwidth": 2,
            "linecolor": "white",
            "showbackground": true,
            "ticks": "",
            "zerolinecolor": "white"
           },
           "yaxis": {
            "backgroundcolor": "#E5ECF6",
            "gridcolor": "white",
            "gridwidth": 2,
            "linecolor": "white",
            "showbackground": true,
            "ticks": "",
            "zerolinecolor": "white"
           },
           "zaxis": {
            "backgroundcolor": "#E5ECF6",
            "gridcolor": "white",
            "gridwidth": 2,
            "linecolor": "white",
            "showbackground": true,
            "ticks": "",
            "zerolinecolor": "white"
           }
          },
          "shapedefaults": {
           "line": {
            "color": "#2a3f5f"
           }
          },
          "ternary": {
           "aaxis": {
            "gridcolor": "white",
            "linecolor": "white",
            "ticks": ""
           },
           "baxis": {
            "gridcolor": "white",
            "linecolor": "white",
            "ticks": ""
           },
           "bgcolor": "#E5ECF6",
           "caxis": {
            "gridcolor": "white",
            "linecolor": "white",
            "ticks": ""
           }
          },
          "title": {
           "x": 0.05
          },
          "xaxis": {
           "automargin": true,
           "gridcolor": "white",
           "linecolor": "white",
           "ticks": "",
           "title": {
            "standoff": 15
           },
           "zerolinecolor": "white",
           "zerolinewidth": 2
          },
          "yaxis": {
           "automargin": true,
           "gridcolor": "white",
           "linecolor": "white",
           "ticks": "",
           "title": {
            "standoff": 15
           },
           "zerolinecolor": "white",
           "zerolinewidth": 2
          }
         }
        },
        "title": {
         "text": "Funcionários que deixaram a empresa por Estado Civil"
        },
        "xaxis": {
         "anchor": "y",
         "domain": [
          0,
          1
         ],
         "title": {
          "text": "Estado Civil"
         }
        },
        "yaxis": {
         "anchor": "x",
         "domain": [
          0,
          1
         ],
         "title": {
          "text": "Frequência Absoluta"
         }
        }
       }
      }
     },
     "metadata": {},
     "output_type": "display_data"
    }
   ],
   "source": [
    "# Análise bidimensional entre as variáveis \"Funcionário_deixou_a_empresa\" e \"Estado_Civil\"\n",
    "\n",
    "# Definir a ordem desejada das categorias\n",
    "ordem_estado_civil = [\"Solteiro\", \"Casado\", \"Divorciado\"]\n",
    "\n",
    "# Reordenar as categorias da coluna 'Estado_civil'\n",
    "df[\"Estado_Civil\"] = pd.Categorical(\n",
    "    df[\"Estado_Civil\"], categories=ordem_estado_civil, ordered=True\n",
    ")\n",
    "\n",
    "# Calcular a frequência absoluta\n",
    "freq_abs = (\n",
    "    df.groupby(\"Funcionário_deixou_a_empresa\")[\"Estado_Civil\"]\n",
    "    .value_counts()\n",
    "    .unstack(fill_value=0)\n",
    ")\n",
    "\n",
    "display(freq_abs.T)\n",
    "\n",
    "# Calcular a frequência relativa\n",
    "freq_rel = round(freq_abs.div(freq_abs.sum(axis=1), axis=0) * 100)\n",
    "\n",
    "display(freq_rel.T)\n",
    "\n",
    "# Calcular a frequência acumulada em percentual\n",
    "freq_acum_pct = freq_rel.cumsum(axis=1)\n",
    "\n",
    "display(freq_acum_pct.T)\n",
    "\n",
    "\n",
    "# Gráfico bidimensional entre as variáveis \"Funcionário_deixou_a_empresa\" e \"Estado_Civil\"\n",
    "import plotly.graph_objects as go  # noqa: E402\n",
    "\n",
    "# Plot com plotly um grafico de barras para cada categoria de \"Estado_Civil\"\n",
    "fig = px.bar(\n",
    "    freq_abs.T,\n",
    "    x=[\"Solteiro\", \"Casado\", \"Divorciado\"],\n",
    "    y=\"Sim\",\n",
    "    title=\"Funcionários que deixaram a empresa por Estado Civil\",\n",
    "    labels={\"Sim\": \"Frequência Absoluta\", \"x\": \"Estado Civil\"},\n",
    "    height=400,\n",
    "    text=\"Sim\",\n",
    ")\n",
    "\n",
    "# Adicionar o gráfico de linha ao gráfico de barras existentes\n",
    "fig.add_trace(\n",
    "    go.Scatter(\n",
    "        x=[\"Solteiro\", \"Casado\", \"Divorciado\"],\n",
    "        y=freq_acum_pct.T[\"Sim\"],\n",
    "        text=freq_acum_pct.T[\"Sim\"],\n",
    "        mode=\"lines+markers+text\",\n",
    "        name=\"Frequência Acumulada %\",\n",
    "        textposition=\"top center\",\n",
    "    )\n",
    ")\n",
    "\n",
    "# exibir o grafico\n",
    "fig.show()"
   ]
  },
  {
   "cell_type": "markdown",
   "metadata": {},
   "source": [
    "### Funcionário_deixou_a_empresa X Faz_hora_extras?"
   ]
  },
  {
   "cell_type": "code",
   "execution_count": 62,
   "metadata": {},
   "outputs": [
    {
     "data": {
      "text/html": [
       "<div>\n",
       "<style scoped>\n",
       "    .dataframe tbody tr th:only-of-type {\n",
       "        vertical-align: middle;\n",
       "    }\n",
       "\n",
       "    .dataframe tbody tr th {\n",
       "        vertical-align: top;\n",
       "    }\n",
       "\n",
       "    .dataframe thead th {\n",
       "        text-align: right;\n",
       "    }\n",
       "</style>\n",
       "<table border=\"1\" class=\"dataframe\">\n",
       "  <thead>\n",
       "    <tr style=\"text-align: right;\">\n",
       "      <th>Funcionário_deixou_a_empresa</th>\n",
       "      <th>Não</th>\n",
       "      <th>Sim</th>\n",
       "    </tr>\n",
       "    <tr>\n",
       "      <th>Faz_hora_extras?</th>\n",
       "      <th></th>\n",
       "      <th></th>\n",
       "    </tr>\n",
       "  </thead>\n",
       "  <tbody>\n",
       "    <tr>\n",
       "      <th>Não</th>\n",
       "      <td>944</td>\n",
       "      <td>110</td>\n",
       "    </tr>\n",
       "    <tr>\n",
       "      <th>Sim</th>\n",
       "      <td>289</td>\n",
       "      <td>127</td>\n",
       "    </tr>\n",
       "  </tbody>\n",
       "</table>\n",
       "</div>"
      ],
      "text/plain": [
       "Funcionário_deixou_a_empresa  Não  Sim\n",
       "Faz_hora_extras?                      \n",
       "Não                           944  110\n",
       "Sim                           289  127"
      ]
     },
     "metadata": {},
     "output_type": "display_data"
    },
    {
     "data": {
      "text/html": [
       "<div>\n",
       "<style scoped>\n",
       "    .dataframe tbody tr th:only-of-type {\n",
       "        vertical-align: middle;\n",
       "    }\n",
       "\n",
       "    .dataframe tbody tr th {\n",
       "        vertical-align: top;\n",
       "    }\n",
       "\n",
       "    .dataframe thead th {\n",
       "        text-align: right;\n",
       "    }\n",
       "</style>\n",
       "<table border=\"1\" class=\"dataframe\">\n",
       "  <thead>\n",
       "    <tr style=\"text-align: right;\">\n",
       "      <th>Funcionário_deixou_a_empresa</th>\n",
       "      <th>Não</th>\n",
       "      <th>Sim</th>\n",
       "    </tr>\n",
       "    <tr>\n",
       "      <th>Faz_hora_extras?</th>\n",
       "      <th></th>\n",
       "      <th></th>\n",
       "    </tr>\n",
       "  </thead>\n",
       "  <tbody>\n",
       "    <tr>\n",
       "      <th>Não</th>\n",
       "      <td>77.0</td>\n",
       "      <td>46.0</td>\n",
       "    </tr>\n",
       "    <tr>\n",
       "      <th>Sim</th>\n",
       "      <td>23.0</td>\n",
       "      <td>54.0</td>\n",
       "    </tr>\n",
       "  </tbody>\n",
       "</table>\n",
       "</div>"
      ],
      "text/plain": [
       "Funcionário_deixou_a_empresa   Não   Sim\n",
       "Faz_hora_extras?                        \n",
       "Não                           77.0  46.0\n",
       "Sim                           23.0  54.0"
      ]
     },
     "metadata": {},
     "output_type": "display_data"
    },
    {
     "data": {
      "text/html": [
       "<div>\n",
       "<style scoped>\n",
       "    .dataframe tbody tr th:only-of-type {\n",
       "        vertical-align: middle;\n",
       "    }\n",
       "\n",
       "    .dataframe tbody tr th {\n",
       "        vertical-align: top;\n",
       "    }\n",
       "\n",
       "    .dataframe thead th {\n",
       "        text-align: right;\n",
       "    }\n",
       "</style>\n",
       "<table border=\"1\" class=\"dataframe\">\n",
       "  <thead>\n",
       "    <tr style=\"text-align: right;\">\n",
       "      <th>Funcionário_deixou_a_empresa</th>\n",
       "      <th>Não</th>\n",
       "      <th>Sim</th>\n",
       "    </tr>\n",
       "    <tr>\n",
       "      <th>Faz_hora_extras?</th>\n",
       "      <th></th>\n",
       "      <th></th>\n",
       "    </tr>\n",
       "  </thead>\n",
       "  <tbody>\n",
       "    <tr>\n",
       "      <th>Não</th>\n",
       "      <td>77.0</td>\n",
       "      <td>46.0</td>\n",
       "    </tr>\n",
       "    <tr>\n",
       "      <th>Sim</th>\n",
       "      <td>100.0</td>\n",
       "      <td>100.0</td>\n",
       "    </tr>\n",
       "  </tbody>\n",
       "</table>\n",
       "</div>"
      ],
      "text/plain": [
       "Funcionário_deixou_a_empresa    Não    Sim\n",
       "Faz_hora_extras?                          \n",
       "Não                            77.0   46.0\n",
       "Sim                           100.0  100.0"
      ]
     },
     "metadata": {},
     "output_type": "display_data"
    },
    {
     "data": {
      "application/vnd.plotly.v1+json": {
       "config": {
        "plotlyServerURL": "https://plot.ly"
       },
       "data": [
        {
         "domain": {
          "x": [
           0,
           1
          ],
          "y": [
           0,
           1
          ]
         },
         "hovertemplate": "label=%{label}<br>Sim=%{value}<extra></extra>",
         "labels": [
          "Não",
          "Sim"
         ],
         "legendgroup": "",
         "name": "",
         "showlegend": true,
         "type": "pie",
         "values": [
          46,
          54
         ]
        }
       ],
       "layout": {
        "height": 400,
        "legend": {
         "tracegroupgap": 0
        },
        "piecolorway": [
         "#2ca02c",
         "#d62728"
        ],
        "template": {
         "data": {
          "bar": [
           {
            "error_x": {
             "color": "#2a3f5f"
            },
            "error_y": {
             "color": "#2a3f5f"
            },
            "marker": {
             "line": {
              "color": "#E5ECF6",
              "width": 0.5
             },
             "pattern": {
              "fillmode": "overlay",
              "size": 10,
              "solidity": 0.2
             }
            },
            "type": "bar"
           }
          ],
          "barpolar": [
           {
            "marker": {
             "line": {
              "color": "#E5ECF6",
              "width": 0.5
             },
             "pattern": {
              "fillmode": "overlay",
              "size": 10,
              "solidity": 0.2
             }
            },
            "type": "barpolar"
           }
          ],
          "carpet": [
           {
            "aaxis": {
             "endlinecolor": "#2a3f5f",
             "gridcolor": "white",
             "linecolor": "white",
             "minorgridcolor": "white",
             "startlinecolor": "#2a3f5f"
            },
            "baxis": {
             "endlinecolor": "#2a3f5f",
             "gridcolor": "white",
             "linecolor": "white",
             "minorgridcolor": "white",
             "startlinecolor": "#2a3f5f"
            },
            "type": "carpet"
           }
          ],
          "choropleth": [
           {
            "colorbar": {
             "outlinewidth": 0,
             "ticks": ""
            },
            "type": "choropleth"
           }
          ],
          "contour": [
           {
            "colorbar": {
             "outlinewidth": 0,
             "ticks": ""
            },
            "colorscale": [
             [
              0,
              "#0d0887"
             ],
             [
              0.1111111111111111,
              "#46039f"
             ],
             [
              0.2222222222222222,
              "#7201a8"
             ],
             [
              0.3333333333333333,
              "#9c179e"
             ],
             [
              0.4444444444444444,
              "#bd3786"
             ],
             [
              0.5555555555555556,
              "#d8576b"
             ],
             [
              0.6666666666666666,
              "#ed7953"
             ],
             [
              0.7777777777777778,
              "#fb9f3a"
             ],
             [
              0.8888888888888888,
              "#fdca26"
             ],
             [
              1,
              "#f0f921"
             ]
            ],
            "type": "contour"
           }
          ],
          "contourcarpet": [
           {
            "colorbar": {
             "outlinewidth": 0,
             "ticks": ""
            },
            "type": "contourcarpet"
           }
          ],
          "heatmap": [
           {
            "colorbar": {
             "outlinewidth": 0,
             "ticks": ""
            },
            "colorscale": [
             [
              0,
              "#0d0887"
             ],
             [
              0.1111111111111111,
              "#46039f"
             ],
             [
              0.2222222222222222,
              "#7201a8"
             ],
             [
              0.3333333333333333,
              "#9c179e"
             ],
             [
              0.4444444444444444,
              "#bd3786"
             ],
             [
              0.5555555555555556,
              "#d8576b"
             ],
             [
              0.6666666666666666,
              "#ed7953"
             ],
             [
              0.7777777777777778,
              "#fb9f3a"
             ],
             [
              0.8888888888888888,
              "#fdca26"
             ],
             [
              1,
              "#f0f921"
             ]
            ],
            "type": "heatmap"
           }
          ],
          "heatmapgl": [
           {
            "colorbar": {
             "outlinewidth": 0,
             "ticks": ""
            },
            "colorscale": [
             [
              0,
              "#0d0887"
             ],
             [
              0.1111111111111111,
              "#46039f"
             ],
             [
              0.2222222222222222,
              "#7201a8"
             ],
             [
              0.3333333333333333,
              "#9c179e"
             ],
             [
              0.4444444444444444,
              "#bd3786"
             ],
             [
              0.5555555555555556,
              "#d8576b"
             ],
             [
              0.6666666666666666,
              "#ed7953"
             ],
             [
              0.7777777777777778,
              "#fb9f3a"
             ],
             [
              0.8888888888888888,
              "#fdca26"
             ],
             [
              1,
              "#f0f921"
             ]
            ],
            "type": "heatmapgl"
           }
          ],
          "histogram": [
           {
            "marker": {
             "pattern": {
              "fillmode": "overlay",
              "size": 10,
              "solidity": 0.2
             }
            },
            "type": "histogram"
           }
          ],
          "histogram2d": [
           {
            "colorbar": {
             "outlinewidth": 0,
             "ticks": ""
            },
            "colorscale": [
             [
              0,
              "#0d0887"
             ],
             [
              0.1111111111111111,
              "#46039f"
             ],
             [
              0.2222222222222222,
              "#7201a8"
             ],
             [
              0.3333333333333333,
              "#9c179e"
             ],
             [
              0.4444444444444444,
              "#bd3786"
             ],
             [
              0.5555555555555556,
              "#d8576b"
             ],
             [
              0.6666666666666666,
              "#ed7953"
             ],
             [
              0.7777777777777778,
              "#fb9f3a"
             ],
             [
              0.8888888888888888,
              "#fdca26"
             ],
             [
              1,
              "#f0f921"
             ]
            ],
            "type": "histogram2d"
           }
          ],
          "histogram2dcontour": [
           {
            "colorbar": {
             "outlinewidth": 0,
             "ticks": ""
            },
            "colorscale": [
             [
              0,
              "#0d0887"
             ],
             [
              0.1111111111111111,
              "#46039f"
             ],
             [
              0.2222222222222222,
              "#7201a8"
             ],
             [
              0.3333333333333333,
              "#9c179e"
             ],
             [
              0.4444444444444444,
              "#bd3786"
             ],
             [
              0.5555555555555556,
              "#d8576b"
             ],
             [
              0.6666666666666666,
              "#ed7953"
             ],
             [
              0.7777777777777778,
              "#fb9f3a"
             ],
             [
              0.8888888888888888,
              "#fdca26"
             ],
             [
              1,
              "#f0f921"
             ]
            ],
            "type": "histogram2dcontour"
           }
          ],
          "mesh3d": [
           {
            "colorbar": {
             "outlinewidth": 0,
             "ticks": ""
            },
            "type": "mesh3d"
           }
          ],
          "parcoords": [
           {
            "line": {
             "colorbar": {
              "outlinewidth": 0,
              "ticks": ""
             }
            },
            "type": "parcoords"
           }
          ],
          "pie": [
           {
            "automargin": true,
            "type": "pie"
           }
          ],
          "scatter": [
           {
            "fillpattern": {
             "fillmode": "overlay",
             "size": 10,
             "solidity": 0.2
            },
            "type": "scatter"
           }
          ],
          "scatter3d": [
           {
            "line": {
             "colorbar": {
              "outlinewidth": 0,
              "ticks": ""
             }
            },
            "marker": {
             "colorbar": {
              "outlinewidth": 0,
              "ticks": ""
             }
            },
            "type": "scatter3d"
           }
          ],
          "scattercarpet": [
           {
            "marker": {
             "colorbar": {
              "outlinewidth": 0,
              "ticks": ""
             }
            },
            "type": "scattercarpet"
           }
          ],
          "scattergeo": [
           {
            "marker": {
             "colorbar": {
              "outlinewidth": 0,
              "ticks": ""
             }
            },
            "type": "scattergeo"
           }
          ],
          "scattergl": [
           {
            "marker": {
             "colorbar": {
              "outlinewidth": 0,
              "ticks": ""
             }
            },
            "type": "scattergl"
           }
          ],
          "scattermapbox": [
           {
            "marker": {
             "colorbar": {
              "outlinewidth": 0,
              "ticks": ""
             }
            },
            "type": "scattermapbox"
           }
          ],
          "scatterpolar": [
           {
            "marker": {
             "colorbar": {
              "outlinewidth": 0,
              "ticks": ""
             }
            },
            "type": "scatterpolar"
           }
          ],
          "scatterpolargl": [
           {
            "marker": {
             "colorbar": {
              "outlinewidth": 0,
              "ticks": ""
             }
            },
            "type": "scatterpolargl"
           }
          ],
          "scatterternary": [
           {
            "marker": {
             "colorbar": {
              "outlinewidth": 0,
              "ticks": ""
             }
            },
            "type": "scatterternary"
           }
          ],
          "surface": [
           {
            "colorbar": {
             "outlinewidth": 0,
             "ticks": ""
            },
            "colorscale": [
             [
              0,
              "#0d0887"
             ],
             [
              0.1111111111111111,
              "#46039f"
             ],
             [
              0.2222222222222222,
              "#7201a8"
             ],
             [
              0.3333333333333333,
              "#9c179e"
             ],
             [
              0.4444444444444444,
              "#bd3786"
             ],
             [
              0.5555555555555556,
              "#d8576b"
             ],
             [
              0.6666666666666666,
              "#ed7953"
             ],
             [
              0.7777777777777778,
              "#fb9f3a"
             ],
             [
              0.8888888888888888,
              "#fdca26"
             ],
             [
              1,
              "#f0f921"
             ]
            ],
            "type": "surface"
           }
          ],
          "table": [
           {
            "cells": {
             "fill": {
              "color": "#EBF0F8"
             },
             "line": {
              "color": "white"
             }
            },
            "header": {
             "fill": {
              "color": "#C8D4E3"
             },
             "line": {
              "color": "white"
             }
            },
            "type": "table"
           }
          ]
         },
         "layout": {
          "annotationdefaults": {
           "arrowcolor": "#2a3f5f",
           "arrowhead": 0,
           "arrowwidth": 1
          },
          "autotypenumbers": "strict",
          "coloraxis": {
           "colorbar": {
            "outlinewidth": 0,
            "ticks": ""
           }
          },
          "colorscale": {
           "diverging": [
            [
             0,
             "#8e0152"
            ],
            [
             0.1,
             "#c51b7d"
            ],
            [
             0.2,
             "#de77ae"
            ],
            [
             0.3,
             "#f1b6da"
            ],
            [
             0.4,
             "#fde0ef"
            ],
            [
             0.5,
             "#f7f7f7"
            ],
            [
             0.6,
             "#e6f5d0"
            ],
            [
             0.7,
             "#b8e186"
            ],
            [
             0.8,
             "#7fbc41"
            ],
            [
             0.9,
             "#4d9221"
            ],
            [
             1,
             "#276419"
            ]
           ],
           "sequential": [
            [
             0,
             "#0d0887"
            ],
            [
             0.1111111111111111,
             "#46039f"
            ],
            [
             0.2222222222222222,
             "#7201a8"
            ],
            [
             0.3333333333333333,
             "#9c179e"
            ],
            [
             0.4444444444444444,
             "#bd3786"
            ],
            [
             0.5555555555555556,
             "#d8576b"
            ],
            [
             0.6666666666666666,
             "#ed7953"
            ],
            [
             0.7777777777777778,
             "#fb9f3a"
            ],
            [
             0.8888888888888888,
             "#fdca26"
            ],
            [
             1,
             "#f0f921"
            ]
           ],
           "sequentialminus": [
            [
             0,
             "#0d0887"
            ],
            [
             0.1111111111111111,
             "#46039f"
            ],
            [
             0.2222222222222222,
             "#7201a8"
            ],
            [
             0.3333333333333333,
             "#9c179e"
            ],
            [
             0.4444444444444444,
             "#bd3786"
            ],
            [
             0.5555555555555556,
             "#d8576b"
            ],
            [
             0.6666666666666666,
             "#ed7953"
            ],
            [
             0.7777777777777778,
             "#fb9f3a"
            ],
            [
             0.8888888888888888,
             "#fdca26"
            ],
            [
             1,
             "#f0f921"
            ]
           ]
          },
          "colorway": [
           "#636efa",
           "#EF553B",
           "#00cc96",
           "#ab63fa",
           "#FFA15A",
           "#19d3f3",
           "#FF6692",
           "#B6E880",
           "#FF97FF",
           "#FECB52"
          ],
          "font": {
           "color": "#2a3f5f"
          },
          "geo": {
           "bgcolor": "white",
           "lakecolor": "white",
           "landcolor": "#E5ECF6",
           "showlakes": true,
           "showland": true,
           "subunitcolor": "white"
          },
          "hoverlabel": {
           "align": "left"
          },
          "hovermode": "closest",
          "mapbox": {
           "style": "light"
          },
          "paper_bgcolor": "white",
          "plot_bgcolor": "#E5ECF6",
          "polar": {
           "angularaxis": {
            "gridcolor": "white",
            "linecolor": "white",
            "ticks": ""
           },
           "bgcolor": "#E5ECF6",
           "radialaxis": {
            "gridcolor": "white",
            "linecolor": "white",
            "ticks": ""
           }
          },
          "scene": {
           "xaxis": {
            "backgroundcolor": "#E5ECF6",
            "gridcolor": "white",
            "gridwidth": 2,
            "linecolor": "white",
            "showbackground": true,
            "ticks": "",
            "zerolinecolor": "white"
           },
           "yaxis": {
            "backgroundcolor": "#E5ECF6",
            "gridcolor": "white",
            "gridwidth": 2,
            "linecolor": "white",
            "showbackground": true,
            "ticks": "",
            "zerolinecolor": "white"
           },
           "zaxis": {
            "backgroundcolor": "#E5ECF6",
            "gridcolor": "white",
            "gridwidth": 2,
            "linecolor": "white",
            "showbackground": true,
            "ticks": "",
            "zerolinecolor": "white"
           }
          },
          "shapedefaults": {
           "line": {
            "color": "#2a3f5f"
           }
          },
          "ternary": {
           "aaxis": {
            "gridcolor": "white",
            "linecolor": "white",
            "ticks": ""
           },
           "baxis": {
            "gridcolor": "white",
            "linecolor": "white",
            "ticks": ""
           },
           "bgcolor": "#E5ECF6",
           "caxis": {
            "gridcolor": "white",
            "linecolor": "white",
            "ticks": ""
           }
          },
          "title": {
           "x": 0.05
          },
          "xaxis": {
           "automargin": true,
           "gridcolor": "white",
           "linecolor": "white",
           "ticks": "",
           "title": {
            "standoff": 15
           },
           "zerolinecolor": "white",
           "zerolinewidth": 2
          },
          "yaxis": {
           "automargin": true,
           "gridcolor": "white",
           "linecolor": "white",
           "ticks": "",
           "title": {
            "standoff": 15
           },
           "zerolinecolor": "white",
           "zerolinewidth": 2
          }
         }
        },
        "title": {
         "text": "Funcionários que deixaram a empresa X Fizeram hora extra?"
        },
        "width": 800
       }
      }
     },
     "metadata": {},
     "output_type": "display_data"
    }
   ],
   "source": [
    "# Análise bidimensional entre as variáveis \"Funcionário_deixou_a_empresa\" e \"Faz_hora_extras?\"\n",
    "\n",
    "# Calcular a frequência absoluta\n",
    "freq_abs = (\n",
    "    df.groupby(\"Funcionário_deixou_a_empresa\")[\"Faz_hora_extras?\"]\n",
    "    .value_counts()\n",
    "    .unstack(fill_value=0)\n",
    ")\n",
    "\n",
    "display(freq_abs.T)\n",
    "\n",
    "# Calcular a frequência relativa\n",
    "freq_rel = round(freq_abs.div(freq_abs.sum(axis=1), axis=0) * 100)\n",
    "\n",
    "display(freq_rel.T)\n",
    "\n",
    "# Calcular a frequência acumulada em percentual\n",
    "freq_acum_pct = freq_rel.cumsum(axis=1)\n",
    "\n",
    "display(freq_acum_pct.T)\n",
    "\n",
    "\n",
    "# Criando o grafico de pizza com plotly usando a frequencia relativa\n",
    "fig = px.pie(\n",
    "    freq_rel.T,\n",
    "    values=\"Sim\",\n",
    "    names=[\"Não\", \"Sim\"],\n",
    "    title=\"Funcionários que deixaram a empresa X Fizeram hora extra?\",\n",
    "    height=400,\n",
    "    width=800,\n",
    "    color_discrete_sequence=[\"#2ca02c\", \"#d62728\"],\n",
    ")\n",
    "\n",
    "# exibir o grafico\n",
    "fig.show()"
   ]
  },
  {
   "cell_type": "markdown",
   "metadata": {},
   "source": [
    "### Funcionário_deixou_a_empresa X Salário"
   ]
  },
  {
   "cell_type": "code",
   "execution_count": 63,
   "metadata": {},
   "outputs": [
    {
     "data": {
      "text/html": [
       "<div>\n",
       "<style scoped>\n",
       "    .dataframe tbody tr th:only-of-type {\n",
       "        vertical-align: middle;\n",
       "    }\n",
       "\n",
       "    .dataframe tbody tr th {\n",
       "        vertical-align: top;\n",
       "    }\n",
       "\n",
       "    .dataframe thead th {\n",
       "        text-align: right;\n",
       "    }\n",
       "</style>\n",
       "<table border=\"1\" class=\"dataframe\">\n",
       "  <thead>\n",
       "    <tr style=\"text-align: right;\">\n",
       "      <th>Funcionário_deixou_a_empresa</th>\n",
       "      <th>Não</th>\n",
       "      <th>Sim</th>\n",
       "    </tr>\n",
       "    <tr>\n",
       "      <th>Salário_5</th>\n",
       "      <th></th>\n",
       "      <th></th>\n",
       "    </tr>\n",
       "  </thead>\n",
       "  <tbody>\n",
       "    <tr>\n",
       "      <th>0-2500</th>\n",
       "      <td>437</td>\n",
       "      <td>140</td>\n",
       "    </tr>\n",
       "    <tr>\n",
       "      <th>2501-5000</th>\n",
       "      <td>419</td>\n",
       "      <td>52</td>\n",
       "    </tr>\n",
       "    <tr>\n",
       "      <th>5001-7500</th>\n",
       "      <td>145</td>\n",
       "      <td>30</td>\n",
       "    </tr>\n",
       "    <tr>\n",
       "      <th>7501-10000</th>\n",
       "      <td>84</td>\n",
       "      <td>8</td>\n",
       "    </tr>\n",
       "    <tr>\n",
       "      <th>10001-15000</th>\n",
       "      <td>50</td>\n",
       "      <td>2</td>\n",
       "    </tr>\n",
       "    <tr>\n",
       "      <th>15001-20000</th>\n",
       "      <td>98</td>\n",
       "      <td>5</td>\n",
       "    </tr>\n",
       "  </tbody>\n",
       "</table>\n",
       "</div>"
      ],
      "text/plain": [
       "Funcionário_deixou_a_empresa  Não  Sim\n",
       "Salário_5                             \n",
       "0-2500                        437  140\n",
       "2501-5000                     419   52\n",
       "5001-7500                     145   30\n",
       "7501-10000                     84    8\n",
       "10001-15000                    50    2\n",
       "15001-20000                    98    5"
      ]
     },
     "metadata": {},
     "output_type": "display_data"
    },
    {
     "data": {
      "text/html": [
       "<div>\n",
       "<style scoped>\n",
       "    .dataframe tbody tr th:only-of-type {\n",
       "        vertical-align: middle;\n",
       "    }\n",
       "\n",
       "    .dataframe tbody tr th {\n",
       "        vertical-align: top;\n",
       "    }\n",
       "\n",
       "    .dataframe thead th {\n",
       "        text-align: right;\n",
       "    }\n",
       "</style>\n",
       "<table border=\"1\" class=\"dataframe\">\n",
       "  <thead>\n",
       "    <tr style=\"text-align: right;\">\n",
       "      <th>Funcionário_deixou_a_empresa</th>\n",
       "      <th>Não</th>\n",
       "      <th>Sim</th>\n",
       "    </tr>\n",
       "    <tr>\n",
       "      <th>Salário_5</th>\n",
       "      <th></th>\n",
       "      <th></th>\n",
       "    </tr>\n",
       "  </thead>\n",
       "  <tbody>\n",
       "    <tr>\n",
       "      <th>0-2500</th>\n",
       "      <td>35.0</td>\n",
       "      <td>59.0</td>\n",
       "    </tr>\n",
       "    <tr>\n",
       "      <th>2501-5000</th>\n",
       "      <td>34.0</td>\n",
       "      <td>22.0</td>\n",
       "    </tr>\n",
       "    <tr>\n",
       "      <th>5001-7500</th>\n",
       "      <td>12.0</td>\n",
       "      <td>13.0</td>\n",
       "    </tr>\n",
       "    <tr>\n",
       "      <th>7501-10000</th>\n",
       "      <td>7.0</td>\n",
       "      <td>3.0</td>\n",
       "    </tr>\n",
       "    <tr>\n",
       "      <th>10001-15000</th>\n",
       "      <td>4.0</td>\n",
       "      <td>1.0</td>\n",
       "    </tr>\n",
       "    <tr>\n",
       "      <th>15001-20000</th>\n",
       "      <td>8.0</td>\n",
       "      <td>2.0</td>\n",
       "    </tr>\n",
       "  </tbody>\n",
       "</table>\n",
       "</div>"
      ],
      "text/plain": [
       "Funcionário_deixou_a_empresa   Não   Sim\n",
       "Salário_5                               \n",
       "0-2500                        35.0  59.0\n",
       "2501-5000                     34.0  22.0\n",
       "5001-7500                     12.0  13.0\n",
       "7501-10000                     7.0   3.0\n",
       "10001-15000                    4.0   1.0\n",
       "15001-20000                    8.0   2.0"
      ]
     },
     "metadata": {},
     "output_type": "display_data"
    },
    {
     "data": {
      "text/html": [
       "<div>\n",
       "<style scoped>\n",
       "    .dataframe tbody tr th:only-of-type {\n",
       "        vertical-align: middle;\n",
       "    }\n",
       "\n",
       "    .dataframe tbody tr th {\n",
       "        vertical-align: top;\n",
       "    }\n",
       "\n",
       "    .dataframe thead th {\n",
       "        text-align: right;\n",
       "    }\n",
       "</style>\n",
       "<table border=\"1\" class=\"dataframe\">\n",
       "  <thead>\n",
       "    <tr style=\"text-align: right;\">\n",
       "      <th>Funcionário_deixou_a_empresa</th>\n",
       "      <th>Não</th>\n",
       "      <th>Sim</th>\n",
       "    </tr>\n",
       "    <tr>\n",
       "      <th>Salário_5</th>\n",
       "      <th></th>\n",
       "      <th></th>\n",
       "    </tr>\n",
       "  </thead>\n",
       "  <tbody>\n",
       "    <tr>\n",
       "      <th>0-2500</th>\n",
       "      <td>35.0</td>\n",
       "      <td>59.0</td>\n",
       "    </tr>\n",
       "    <tr>\n",
       "      <th>2501-5000</th>\n",
       "      <td>69.0</td>\n",
       "      <td>81.0</td>\n",
       "    </tr>\n",
       "    <tr>\n",
       "      <th>5001-7500</th>\n",
       "      <td>81.0</td>\n",
       "      <td>94.0</td>\n",
       "    </tr>\n",
       "    <tr>\n",
       "      <th>7501-10000</th>\n",
       "      <td>88.0</td>\n",
       "      <td>97.0</td>\n",
       "    </tr>\n",
       "    <tr>\n",
       "      <th>10001-15000</th>\n",
       "      <td>92.0</td>\n",
       "      <td>98.0</td>\n",
       "    </tr>\n",
       "    <tr>\n",
       "      <th>15001-20000</th>\n",
       "      <td>100.0</td>\n",
       "      <td>100.0</td>\n",
       "    </tr>\n",
       "  </tbody>\n",
       "</table>\n",
       "</div>"
      ],
      "text/plain": [
       "Funcionário_deixou_a_empresa    Não    Sim\n",
       "Salário_5                                 \n",
       "0-2500                         35.0   59.0\n",
       "2501-5000                      69.0   81.0\n",
       "5001-7500                      81.0   94.0\n",
       "7501-10000                     88.0   97.0\n",
       "10001-15000                    92.0   98.0\n",
       "15001-20000                   100.0  100.0"
      ]
     },
     "metadata": {},
     "output_type": "display_data"
    },
    {
     "data": {
      "application/vnd.plotly.v1+json": {
       "config": {
        "plotlyServerURL": "https://plot.ly"
       },
       "data": [
        {
         "alignmentgroup": "True",
         "hovertemplate": "faixas de Salários=%{x}<br>Frequência Absoluta=%{text}<extra></extra>",
         "legendgroup": "",
         "marker": {
          "color": "#636efa",
          "pattern": {
           "shape": ""
          }
         },
         "name": "",
         "offsetgroup": "",
         "orientation": "v",
         "showlegend": false,
         "text": [
          140,
          52,
          30,
          8,
          2,
          5
         ],
         "textposition": "auto",
         "type": "bar",
         "x": [
          "0-2500",
          "2501-5000",
          "5001-7500",
          "7501-10000",
          "10001-15000",
          "15001-20000"
         ],
         "xaxis": "x",
         "y": [
          140,
          52,
          30,
          8,
          2,
          5
         ],
         "yaxis": "y"
        },
        {
         "mode": "lines+markers+text",
         "name": "Frequência Acumulada %",
         "text": [
          59,
          81,
          94,
          97,
          98,
          100
         ],
         "textposition": "top center",
         "type": "scatter",
         "x": [
          "0-2500",
          "2501-5000",
          "5001-7500",
          "7501-10000",
          "10001-15000",
          "15001-20000"
         ],
         "y": [
          59,
          81,
          94,
          97,
          98,
          100
         ]
        }
       ],
       "layout": {
        "barmode": "relative",
        "height": 400,
        "legend": {
         "tracegroupgap": 0
        },
        "template": {
         "data": {
          "bar": [
           {
            "error_x": {
             "color": "#2a3f5f"
            },
            "error_y": {
             "color": "#2a3f5f"
            },
            "marker": {
             "line": {
              "color": "#E5ECF6",
              "width": 0.5
             },
             "pattern": {
              "fillmode": "overlay",
              "size": 10,
              "solidity": 0.2
             }
            },
            "type": "bar"
           }
          ],
          "barpolar": [
           {
            "marker": {
             "line": {
              "color": "#E5ECF6",
              "width": 0.5
             },
             "pattern": {
              "fillmode": "overlay",
              "size": 10,
              "solidity": 0.2
             }
            },
            "type": "barpolar"
           }
          ],
          "carpet": [
           {
            "aaxis": {
             "endlinecolor": "#2a3f5f",
             "gridcolor": "white",
             "linecolor": "white",
             "minorgridcolor": "white",
             "startlinecolor": "#2a3f5f"
            },
            "baxis": {
             "endlinecolor": "#2a3f5f",
             "gridcolor": "white",
             "linecolor": "white",
             "minorgridcolor": "white",
             "startlinecolor": "#2a3f5f"
            },
            "type": "carpet"
           }
          ],
          "choropleth": [
           {
            "colorbar": {
             "outlinewidth": 0,
             "ticks": ""
            },
            "type": "choropleth"
           }
          ],
          "contour": [
           {
            "colorbar": {
             "outlinewidth": 0,
             "ticks": ""
            },
            "colorscale": [
             [
              0,
              "#0d0887"
             ],
             [
              0.1111111111111111,
              "#46039f"
             ],
             [
              0.2222222222222222,
              "#7201a8"
             ],
             [
              0.3333333333333333,
              "#9c179e"
             ],
             [
              0.4444444444444444,
              "#bd3786"
             ],
             [
              0.5555555555555556,
              "#d8576b"
             ],
             [
              0.6666666666666666,
              "#ed7953"
             ],
             [
              0.7777777777777778,
              "#fb9f3a"
             ],
             [
              0.8888888888888888,
              "#fdca26"
             ],
             [
              1,
              "#f0f921"
             ]
            ],
            "type": "contour"
           }
          ],
          "contourcarpet": [
           {
            "colorbar": {
             "outlinewidth": 0,
             "ticks": ""
            },
            "type": "contourcarpet"
           }
          ],
          "heatmap": [
           {
            "colorbar": {
             "outlinewidth": 0,
             "ticks": ""
            },
            "colorscale": [
             [
              0,
              "#0d0887"
             ],
             [
              0.1111111111111111,
              "#46039f"
             ],
             [
              0.2222222222222222,
              "#7201a8"
             ],
             [
              0.3333333333333333,
              "#9c179e"
             ],
             [
              0.4444444444444444,
              "#bd3786"
             ],
             [
              0.5555555555555556,
              "#d8576b"
             ],
             [
              0.6666666666666666,
              "#ed7953"
             ],
             [
              0.7777777777777778,
              "#fb9f3a"
             ],
             [
              0.8888888888888888,
              "#fdca26"
             ],
             [
              1,
              "#f0f921"
             ]
            ],
            "type": "heatmap"
           }
          ],
          "heatmapgl": [
           {
            "colorbar": {
             "outlinewidth": 0,
             "ticks": ""
            },
            "colorscale": [
             [
              0,
              "#0d0887"
             ],
             [
              0.1111111111111111,
              "#46039f"
             ],
             [
              0.2222222222222222,
              "#7201a8"
             ],
             [
              0.3333333333333333,
              "#9c179e"
             ],
             [
              0.4444444444444444,
              "#bd3786"
             ],
             [
              0.5555555555555556,
              "#d8576b"
             ],
             [
              0.6666666666666666,
              "#ed7953"
             ],
             [
              0.7777777777777778,
              "#fb9f3a"
             ],
             [
              0.8888888888888888,
              "#fdca26"
             ],
             [
              1,
              "#f0f921"
             ]
            ],
            "type": "heatmapgl"
           }
          ],
          "histogram": [
           {
            "marker": {
             "pattern": {
              "fillmode": "overlay",
              "size": 10,
              "solidity": 0.2
             }
            },
            "type": "histogram"
           }
          ],
          "histogram2d": [
           {
            "colorbar": {
             "outlinewidth": 0,
             "ticks": ""
            },
            "colorscale": [
             [
              0,
              "#0d0887"
             ],
             [
              0.1111111111111111,
              "#46039f"
             ],
             [
              0.2222222222222222,
              "#7201a8"
             ],
             [
              0.3333333333333333,
              "#9c179e"
             ],
             [
              0.4444444444444444,
              "#bd3786"
             ],
             [
              0.5555555555555556,
              "#d8576b"
             ],
             [
              0.6666666666666666,
              "#ed7953"
             ],
             [
              0.7777777777777778,
              "#fb9f3a"
             ],
             [
              0.8888888888888888,
              "#fdca26"
             ],
             [
              1,
              "#f0f921"
             ]
            ],
            "type": "histogram2d"
           }
          ],
          "histogram2dcontour": [
           {
            "colorbar": {
             "outlinewidth": 0,
             "ticks": ""
            },
            "colorscale": [
             [
              0,
              "#0d0887"
             ],
             [
              0.1111111111111111,
              "#46039f"
             ],
             [
              0.2222222222222222,
              "#7201a8"
             ],
             [
              0.3333333333333333,
              "#9c179e"
             ],
             [
              0.4444444444444444,
              "#bd3786"
             ],
             [
              0.5555555555555556,
              "#d8576b"
             ],
             [
              0.6666666666666666,
              "#ed7953"
             ],
             [
              0.7777777777777778,
              "#fb9f3a"
             ],
             [
              0.8888888888888888,
              "#fdca26"
             ],
             [
              1,
              "#f0f921"
             ]
            ],
            "type": "histogram2dcontour"
           }
          ],
          "mesh3d": [
           {
            "colorbar": {
             "outlinewidth": 0,
             "ticks": ""
            },
            "type": "mesh3d"
           }
          ],
          "parcoords": [
           {
            "line": {
             "colorbar": {
              "outlinewidth": 0,
              "ticks": ""
             }
            },
            "type": "parcoords"
           }
          ],
          "pie": [
           {
            "automargin": true,
            "type": "pie"
           }
          ],
          "scatter": [
           {
            "fillpattern": {
             "fillmode": "overlay",
             "size": 10,
             "solidity": 0.2
            },
            "type": "scatter"
           }
          ],
          "scatter3d": [
           {
            "line": {
             "colorbar": {
              "outlinewidth": 0,
              "ticks": ""
             }
            },
            "marker": {
             "colorbar": {
              "outlinewidth": 0,
              "ticks": ""
             }
            },
            "type": "scatter3d"
           }
          ],
          "scattercarpet": [
           {
            "marker": {
             "colorbar": {
              "outlinewidth": 0,
              "ticks": ""
             }
            },
            "type": "scattercarpet"
           }
          ],
          "scattergeo": [
           {
            "marker": {
             "colorbar": {
              "outlinewidth": 0,
              "ticks": ""
             }
            },
            "type": "scattergeo"
           }
          ],
          "scattergl": [
           {
            "marker": {
             "colorbar": {
              "outlinewidth": 0,
              "ticks": ""
             }
            },
            "type": "scattergl"
           }
          ],
          "scattermapbox": [
           {
            "marker": {
             "colorbar": {
              "outlinewidth": 0,
              "ticks": ""
             }
            },
            "type": "scattermapbox"
           }
          ],
          "scatterpolar": [
           {
            "marker": {
             "colorbar": {
              "outlinewidth": 0,
              "ticks": ""
             }
            },
            "type": "scatterpolar"
           }
          ],
          "scatterpolargl": [
           {
            "marker": {
             "colorbar": {
              "outlinewidth": 0,
              "ticks": ""
             }
            },
            "type": "scatterpolargl"
           }
          ],
          "scatterternary": [
           {
            "marker": {
             "colorbar": {
              "outlinewidth": 0,
              "ticks": ""
             }
            },
            "type": "scatterternary"
           }
          ],
          "surface": [
           {
            "colorbar": {
             "outlinewidth": 0,
             "ticks": ""
            },
            "colorscale": [
             [
              0,
              "#0d0887"
             ],
             [
              0.1111111111111111,
              "#46039f"
             ],
             [
              0.2222222222222222,
              "#7201a8"
             ],
             [
              0.3333333333333333,
              "#9c179e"
             ],
             [
              0.4444444444444444,
              "#bd3786"
             ],
             [
              0.5555555555555556,
              "#d8576b"
             ],
             [
              0.6666666666666666,
              "#ed7953"
             ],
             [
              0.7777777777777778,
              "#fb9f3a"
             ],
             [
              0.8888888888888888,
              "#fdca26"
             ],
             [
              1,
              "#f0f921"
             ]
            ],
            "type": "surface"
           }
          ],
          "table": [
           {
            "cells": {
             "fill": {
              "color": "#EBF0F8"
             },
             "line": {
              "color": "white"
             }
            },
            "header": {
             "fill": {
              "color": "#C8D4E3"
             },
             "line": {
              "color": "white"
             }
            },
            "type": "table"
           }
          ]
         },
         "layout": {
          "annotationdefaults": {
           "arrowcolor": "#2a3f5f",
           "arrowhead": 0,
           "arrowwidth": 1
          },
          "autotypenumbers": "strict",
          "coloraxis": {
           "colorbar": {
            "outlinewidth": 0,
            "ticks": ""
           }
          },
          "colorscale": {
           "diverging": [
            [
             0,
             "#8e0152"
            ],
            [
             0.1,
             "#c51b7d"
            ],
            [
             0.2,
             "#de77ae"
            ],
            [
             0.3,
             "#f1b6da"
            ],
            [
             0.4,
             "#fde0ef"
            ],
            [
             0.5,
             "#f7f7f7"
            ],
            [
             0.6,
             "#e6f5d0"
            ],
            [
             0.7,
             "#b8e186"
            ],
            [
             0.8,
             "#7fbc41"
            ],
            [
             0.9,
             "#4d9221"
            ],
            [
             1,
             "#276419"
            ]
           ],
           "sequential": [
            [
             0,
             "#0d0887"
            ],
            [
             0.1111111111111111,
             "#46039f"
            ],
            [
             0.2222222222222222,
             "#7201a8"
            ],
            [
             0.3333333333333333,
             "#9c179e"
            ],
            [
             0.4444444444444444,
             "#bd3786"
            ],
            [
             0.5555555555555556,
             "#d8576b"
            ],
            [
             0.6666666666666666,
             "#ed7953"
            ],
            [
             0.7777777777777778,
             "#fb9f3a"
            ],
            [
             0.8888888888888888,
             "#fdca26"
            ],
            [
             1,
             "#f0f921"
            ]
           ],
           "sequentialminus": [
            [
             0,
             "#0d0887"
            ],
            [
             0.1111111111111111,
             "#46039f"
            ],
            [
             0.2222222222222222,
             "#7201a8"
            ],
            [
             0.3333333333333333,
             "#9c179e"
            ],
            [
             0.4444444444444444,
             "#bd3786"
            ],
            [
             0.5555555555555556,
             "#d8576b"
            ],
            [
             0.6666666666666666,
             "#ed7953"
            ],
            [
             0.7777777777777778,
             "#fb9f3a"
            ],
            [
             0.8888888888888888,
             "#fdca26"
            ],
            [
             1,
             "#f0f921"
            ]
           ]
          },
          "colorway": [
           "#636efa",
           "#EF553B",
           "#00cc96",
           "#ab63fa",
           "#FFA15A",
           "#19d3f3",
           "#FF6692",
           "#B6E880",
           "#FF97FF",
           "#FECB52"
          ],
          "font": {
           "color": "#2a3f5f"
          },
          "geo": {
           "bgcolor": "white",
           "lakecolor": "white",
           "landcolor": "#E5ECF6",
           "showlakes": true,
           "showland": true,
           "subunitcolor": "white"
          },
          "hoverlabel": {
           "align": "left"
          },
          "hovermode": "closest",
          "mapbox": {
           "style": "light"
          },
          "paper_bgcolor": "white",
          "plot_bgcolor": "#E5ECF6",
          "polar": {
           "angularaxis": {
            "gridcolor": "white",
            "linecolor": "white",
            "ticks": ""
           },
           "bgcolor": "#E5ECF6",
           "radialaxis": {
            "gridcolor": "white",
            "linecolor": "white",
            "ticks": ""
           }
          },
          "scene": {
           "xaxis": {
            "backgroundcolor": "#E5ECF6",
            "gridcolor": "white",
            "gridwidth": 2,
            "linecolor": "white",
            "showbackground": true,
            "ticks": "",
            "zerolinecolor": "white"
           },
           "yaxis": {
            "backgroundcolor": "#E5ECF6",
            "gridcolor": "white",
            "gridwidth": 2,
            "linecolor": "white",
            "showbackground": true,
            "ticks": "",
            "zerolinecolor": "white"
           },
           "zaxis": {
            "backgroundcolor": "#E5ECF6",
            "gridcolor": "white",
            "gridwidth": 2,
            "linecolor": "white",
            "showbackground": true,
            "ticks": "",
            "zerolinecolor": "white"
           }
          },
          "shapedefaults": {
           "line": {
            "color": "#2a3f5f"
           }
          },
          "ternary": {
           "aaxis": {
            "gridcolor": "white",
            "linecolor": "white",
            "ticks": ""
           },
           "baxis": {
            "gridcolor": "white",
            "linecolor": "white",
            "ticks": ""
           },
           "bgcolor": "#E5ECF6",
           "caxis": {
            "gridcolor": "white",
            "linecolor": "white",
            "ticks": ""
           }
          },
          "title": {
           "x": 0.05
          },
          "xaxis": {
           "automargin": true,
           "gridcolor": "white",
           "linecolor": "white",
           "ticks": "",
           "title": {
            "standoff": 15
           },
           "zerolinecolor": "white",
           "zerolinewidth": 2
          },
          "yaxis": {
           "automargin": true,
           "gridcolor": "white",
           "linecolor": "white",
           "ticks": "",
           "title": {
            "standoff": 15
           },
           "zerolinecolor": "white",
           "zerolinewidth": 2
          }
         }
        },
        "title": {
         "text": "Funcionários que deixaram a empresa por faixa Salário"
        },
        "xaxis": {
         "anchor": "y",
         "domain": [
          0,
          1
         ],
         "title": {
          "text": "faixas de Salários"
         }
        },
        "yaxis": {
         "anchor": "x",
         "domain": [
          0,
          1
         ],
         "title": {
          "text": "Frequência Absoluta"
         }
        }
       }
      }
     },
     "metadata": {},
     "output_type": "display_data"
    }
   ],
   "source": [
    "# Análise bidimensional entre as variáveis \"Funcionário_deixou_a_empresa\" e \"Salário_5?\"\n",
    "\n",
    "# Calcular a frequência absoluta ordenada do maior pro menor valor da coluna \"Sim\"\n",
    "freq_abs = (\n",
    "    df.groupby(\"Funcionário_deixou_a_empresa\")[\"Salário_5\"]\n",
    "    .value_counts()\n",
    "    .unstack(fill_value=0)\n",
    ")\n",
    "\n",
    "display(freq_abs.T)\n",
    "\n",
    "# Calcular a frequência relativa\n",
    "freq_rel = round(freq_abs.div(freq_abs.sum(axis=1), axis=0) * 100)\n",
    "\n",
    "display(freq_rel.T)\n",
    "\n",
    "# Calcular a frequência acumulada em percentual\n",
    "freq_acum_pct = freq_rel.cumsum(axis=1)\n",
    "\n",
    "display(freq_acum_pct.T)\n",
    "\n",
    "# Criando grafico de barras dos intervalos de Salário_5 com os valores de frequencia absoluta da coluna \"Sim\"\n",
    "fig = px.bar(\n",
    "    freq_abs.T,\n",
    "    x=[\n",
    "        \"0-2500\",\n",
    "        \"2501-5000\",\n",
    "        \"5001-7500\",\n",
    "        \"7501-10000\",\n",
    "        \"10001-15000\",\n",
    "        \"15001-20000\",\n",
    "    ],\n",
    "    y=\"Sim\",\n",
    "    title=\"Funcionários que deixaram a empresa por faixa Salário\",\n",
    "    labels={\"Sim\": \"Frequência Absoluta\", \"x\": \"faixas de Salários\"},\n",
    "    height=400,\n",
    "    text=\"Sim\",\n",
    ")\n",
    "\n",
    "# Adicionar o gráfico de linha da frequencia acumulada ao gráfico de barras existentes\n",
    "fig.add_trace(\n",
    "    go.Scatter(\n",
    "        x=[\n",
    "            \"0-2500\",\n",
    "            \"2501-5000\",\n",
    "            \"5001-7500\",\n",
    "            \"7501-10000\",\n",
    "            \"10001-15000\",\n",
    "            \"15001-20000\",\n",
    "        ],\n",
    "        y=freq_acum_pct.T[\"Sim\"],\n",
    "        text=freq_acum_pct.T[\"Sim\"],\n",
    "        mode=\"lines+markers+text\",\n",
    "        name=\"Frequência Acumulada %\",\n",
    "        textposition=\"top center\",\n",
    "    )\n",
    ")\n",
    "\n",
    "# exibir o grafico\n",
    "fig.show()"
   ]
  },
  {
   "cell_type": "markdown",
   "metadata": {},
   "source": [
    "### Funcionário_deixou_a_empresa X Idade"
   ]
  },
  {
   "cell_type": "code",
   "execution_count": 66,
   "metadata": {},
   "outputs": [
    {
     "data": {
      "text/html": [
       "<div>\n",
       "<style scoped>\n",
       "    .dataframe tbody tr th:only-of-type {\n",
       "        vertical-align: middle;\n",
       "    }\n",
       "\n",
       "    .dataframe tbody tr th {\n",
       "        vertical-align: top;\n",
       "    }\n",
       "\n",
       "    .dataframe thead th {\n",
       "        text-align: right;\n",
       "    }\n",
       "</style>\n",
       "<table border=\"1\" class=\"dataframe\">\n",
       "  <thead>\n",
       "    <tr style=\"text-align: right;\">\n",
       "      <th>Funcionário_deixou_a_empresa</th>\n",
       "      <th>Não</th>\n",
       "      <th>Sim</th>\n",
       "    </tr>\n",
       "    <tr>\n",
       "      <th>Idade_5</th>\n",
       "      <th></th>\n",
       "      <th></th>\n",
       "    </tr>\n",
       "  </thead>\n",
       "  <tbody>\n",
       "    <tr>\n",
       "      <th>18-25</th>\n",
       "      <td>106</td>\n",
       "      <td>56</td>\n",
       "    </tr>\n",
       "    <tr>\n",
       "      <th>26-35</th>\n",
       "      <td>395</td>\n",
       "      <td>94</td>\n",
       "    </tr>\n",
       "    <tr>\n",
       "      <th>36-45</th>\n",
       "      <td>427</td>\n",
       "      <td>45</td>\n",
       "    </tr>\n",
       "    <tr>\n",
       "      <th>46-55</th>\n",
       "      <td>197</td>\n",
       "      <td>26</td>\n",
       "    </tr>\n",
       "    <tr>\n",
       "      <th>56-65</th>\n",
       "      <td>108</td>\n",
       "      <td>16</td>\n",
       "    </tr>\n",
       "  </tbody>\n",
       "</table>\n",
       "</div>"
      ],
      "text/plain": [
       "Funcionário_deixou_a_empresa  Não  Sim\n",
       "Idade_5                               \n",
       "18-25                         106   56\n",
       "26-35                         395   94\n",
       "36-45                         427   45\n",
       "46-55                         197   26\n",
       "56-65                         108   16"
      ]
     },
     "metadata": {},
     "output_type": "display_data"
    },
    {
     "data": {
      "text/html": [
       "<div>\n",
       "<style scoped>\n",
       "    .dataframe tbody tr th:only-of-type {\n",
       "        vertical-align: middle;\n",
       "    }\n",
       "\n",
       "    .dataframe tbody tr th {\n",
       "        vertical-align: top;\n",
       "    }\n",
       "\n",
       "    .dataframe thead th {\n",
       "        text-align: right;\n",
       "    }\n",
       "</style>\n",
       "<table border=\"1\" class=\"dataframe\">\n",
       "  <thead>\n",
       "    <tr style=\"text-align: right;\">\n",
       "      <th>Funcionário_deixou_a_empresa</th>\n",
       "      <th>Não</th>\n",
       "      <th>Sim</th>\n",
       "    </tr>\n",
       "    <tr>\n",
       "      <th>Idade_5</th>\n",
       "      <th></th>\n",
       "      <th></th>\n",
       "    </tr>\n",
       "  </thead>\n",
       "  <tbody>\n",
       "    <tr>\n",
       "      <th>18-25</th>\n",
       "      <td>9.0</td>\n",
       "      <td>24.0</td>\n",
       "    </tr>\n",
       "    <tr>\n",
       "      <th>26-35</th>\n",
       "      <td>32.0</td>\n",
       "      <td>40.0</td>\n",
       "    </tr>\n",
       "    <tr>\n",
       "      <th>36-45</th>\n",
       "      <td>35.0</td>\n",
       "      <td>19.0</td>\n",
       "    </tr>\n",
       "    <tr>\n",
       "      <th>46-55</th>\n",
       "      <td>16.0</td>\n",
       "      <td>11.0</td>\n",
       "    </tr>\n",
       "    <tr>\n",
       "      <th>56-65</th>\n",
       "      <td>9.0</td>\n",
       "      <td>7.0</td>\n",
       "    </tr>\n",
       "  </tbody>\n",
       "</table>\n",
       "</div>"
      ],
      "text/plain": [
       "Funcionário_deixou_a_empresa   Não   Sim\n",
       "Idade_5                                 \n",
       "18-25                          9.0  24.0\n",
       "26-35                         32.0  40.0\n",
       "36-45                         35.0  19.0\n",
       "46-55                         16.0  11.0\n",
       "56-65                          9.0   7.0"
      ]
     },
     "metadata": {},
     "output_type": "display_data"
    },
    {
     "data": {
      "text/html": [
       "<div>\n",
       "<style scoped>\n",
       "    .dataframe tbody tr th:only-of-type {\n",
       "        vertical-align: middle;\n",
       "    }\n",
       "\n",
       "    .dataframe tbody tr th {\n",
       "        vertical-align: top;\n",
       "    }\n",
       "\n",
       "    .dataframe thead th {\n",
       "        text-align: right;\n",
       "    }\n",
       "</style>\n",
       "<table border=\"1\" class=\"dataframe\">\n",
       "  <thead>\n",
       "    <tr style=\"text-align: right;\">\n",
       "      <th>Funcionário_deixou_a_empresa</th>\n",
       "      <th>Não</th>\n",
       "      <th>Sim</th>\n",
       "    </tr>\n",
       "    <tr>\n",
       "      <th>Idade_5</th>\n",
       "      <th></th>\n",
       "      <th></th>\n",
       "    </tr>\n",
       "  </thead>\n",
       "  <tbody>\n",
       "    <tr>\n",
       "      <th>18-25</th>\n",
       "      <td>9.0</td>\n",
       "      <td>24.0</td>\n",
       "    </tr>\n",
       "    <tr>\n",
       "      <th>26-35</th>\n",
       "      <td>41.0</td>\n",
       "      <td>64.0</td>\n",
       "    </tr>\n",
       "    <tr>\n",
       "      <th>36-45</th>\n",
       "      <td>76.0</td>\n",
       "      <td>83.0</td>\n",
       "    </tr>\n",
       "    <tr>\n",
       "      <th>46-55</th>\n",
       "      <td>92.0</td>\n",
       "      <td>94.0</td>\n",
       "    </tr>\n",
       "    <tr>\n",
       "      <th>56-65</th>\n",
       "      <td>101.0</td>\n",
       "      <td>101.0</td>\n",
       "    </tr>\n",
       "  </tbody>\n",
       "</table>\n",
       "</div>"
      ],
      "text/plain": [
       "Funcionário_deixou_a_empresa    Não    Sim\n",
       "Idade_5                                   \n",
       "18-25                           9.0   24.0\n",
       "26-35                          41.0   64.0\n",
       "36-45                          76.0   83.0\n",
       "46-55                          92.0   94.0\n",
       "56-65                         101.0  101.0"
      ]
     },
     "metadata": {},
     "output_type": "display_data"
    },
    {
     "data": {
      "application/vnd.plotly.v1+json": {
       "config": {
        "plotlyServerURL": "https://plot.ly"
       },
       "data": [
        {
         "alignmentgroup": "True",
         "hovertemplate": "faixas de Idade=%{x}<br>Frequência Absoluta=%{text}<extra></extra>",
         "legendgroup": "",
         "marker": {
          "color": "#636efa",
          "pattern": {
           "shape": ""
          }
         },
         "name": "",
         "offsetgroup": "",
         "orientation": "v",
         "showlegend": false,
         "text": [
          56,
          94,
          45,
          26,
          16
         ],
         "textposition": "auto",
         "type": "bar",
         "x": [
          "18-25",
          "26-35",
          "36-45",
          "46-55",
          "56-65"
         ],
         "xaxis": "x",
         "y": [
          56,
          94,
          45,
          26,
          16
         ],
         "yaxis": "y"
        },
        {
         "mode": "lines+markers+text",
         "name": "Frequência Acumulada %",
         "text": [
          24,
          64,
          83,
          94,
          101
         ],
         "textposition": "top center",
         "type": "scatter",
         "x": [
          "18-25",
          "26-35",
          "36-45",
          "46-55",
          "56-65"
         ],
         "y": [
          24,
          64,
          83,
          94,
          101
         ]
        }
       ],
       "layout": {
        "barmode": "relative",
        "height": 400,
        "legend": {
         "tracegroupgap": 0
        },
        "template": {
         "data": {
          "bar": [
           {
            "error_x": {
             "color": "#2a3f5f"
            },
            "error_y": {
             "color": "#2a3f5f"
            },
            "marker": {
             "line": {
              "color": "#E5ECF6",
              "width": 0.5
             },
             "pattern": {
              "fillmode": "overlay",
              "size": 10,
              "solidity": 0.2
             }
            },
            "type": "bar"
           }
          ],
          "barpolar": [
           {
            "marker": {
             "line": {
              "color": "#E5ECF6",
              "width": 0.5
             },
             "pattern": {
              "fillmode": "overlay",
              "size": 10,
              "solidity": 0.2
             }
            },
            "type": "barpolar"
           }
          ],
          "carpet": [
           {
            "aaxis": {
             "endlinecolor": "#2a3f5f",
             "gridcolor": "white",
             "linecolor": "white",
             "minorgridcolor": "white",
             "startlinecolor": "#2a3f5f"
            },
            "baxis": {
             "endlinecolor": "#2a3f5f",
             "gridcolor": "white",
             "linecolor": "white",
             "minorgridcolor": "white",
             "startlinecolor": "#2a3f5f"
            },
            "type": "carpet"
           }
          ],
          "choropleth": [
           {
            "colorbar": {
             "outlinewidth": 0,
             "ticks": ""
            },
            "type": "choropleth"
           }
          ],
          "contour": [
           {
            "colorbar": {
             "outlinewidth": 0,
             "ticks": ""
            },
            "colorscale": [
             [
              0,
              "#0d0887"
             ],
             [
              0.1111111111111111,
              "#46039f"
             ],
             [
              0.2222222222222222,
              "#7201a8"
             ],
             [
              0.3333333333333333,
              "#9c179e"
             ],
             [
              0.4444444444444444,
              "#bd3786"
             ],
             [
              0.5555555555555556,
              "#d8576b"
             ],
             [
              0.6666666666666666,
              "#ed7953"
             ],
             [
              0.7777777777777778,
              "#fb9f3a"
             ],
             [
              0.8888888888888888,
              "#fdca26"
             ],
             [
              1,
              "#f0f921"
             ]
            ],
            "type": "contour"
           }
          ],
          "contourcarpet": [
           {
            "colorbar": {
             "outlinewidth": 0,
             "ticks": ""
            },
            "type": "contourcarpet"
           }
          ],
          "heatmap": [
           {
            "colorbar": {
             "outlinewidth": 0,
             "ticks": ""
            },
            "colorscale": [
             [
              0,
              "#0d0887"
             ],
             [
              0.1111111111111111,
              "#46039f"
             ],
             [
              0.2222222222222222,
              "#7201a8"
             ],
             [
              0.3333333333333333,
              "#9c179e"
             ],
             [
              0.4444444444444444,
              "#bd3786"
             ],
             [
              0.5555555555555556,
              "#d8576b"
             ],
             [
              0.6666666666666666,
              "#ed7953"
             ],
             [
              0.7777777777777778,
              "#fb9f3a"
             ],
             [
              0.8888888888888888,
              "#fdca26"
             ],
             [
              1,
              "#f0f921"
             ]
            ],
            "type": "heatmap"
           }
          ],
          "heatmapgl": [
           {
            "colorbar": {
             "outlinewidth": 0,
             "ticks": ""
            },
            "colorscale": [
             [
              0,
              "#0d0887"
             ],
             [
              0.1111111111111111,
              "#46039f"
             ],
             [
              0.2222222222222222,
              "#7201a8"
             ],
             [
              0.3333333333333333,
              "#9c179e"
             ],
             [
              0.4444444444444444,
              "#bd3786"
             ],
             [
              0.5555555555555556,
              "#d8576b"
             ],
             [
              0.6666666666666666,
              "#ed7953"
             ],
             [
              0.7777777777777778,
              "#fb9f3a"
             ],
             [
              0.8888888888888888,
              "#fdca26"
             ],
             [
              1,
              "#f0f921"
             ]
            ],
            "type": "heatmapgl"
           }
          ],
          "histogram": [
           {
            "marker": {
             "pattern": {
              "fillmode": "overlay",
              "size": 10,
              "solidity": 0.2
             }
            },
            "type": "histogram"
           }
          ],
          "histogram2d": [
           {
            "colorbar": {
             "outlinewidth": 0,
             "ticks": ""
            },
            "colorscale": [
             [
              0,
              "#0d0887"
             ],
             [
              0.1111111111111111,
              "#46039f"
             ],
             [
              0.2222222222222222,
              "#7201a8"
             ],
             [
              0.3333333333333333,
              "#9c179e"
             ],
             [
              0.4444444444444444,
              "#bd3786"
             ],
             [
              0.5555555555555556,
              "#d8576b"
             ],
             [
              0.6666666666666666,
              "#ed7953"
             ],
             [
              0.7777777777777778,
              "#fb9f3a"
             ],
             [
              0.8888888888888888,
              "#fdca26"
             ],
             [
              1,
              "#f0f921"
             ]
            ],
            "type": "histogram2d"
           }
          ],
          "histogram2dcontour": [
           {
            "colorbar": {
             "outlinewidth": 0,
             "ticks": ""
            },
            "colorscale": [
             [
              0,
              "#0d0887"
             ],
             [
              0.1111111111111111,
              "#46039f"
             ],
             [
              0.2222222222222222,
              "#7201a8"
             ],
             [
              0.3333333333333333,
              "#9c179e"
             ],
             [
              0.4444444444444444,
              "#bd3786"
             ],
             [
              0.5555555555555556,
              "#d8576b"
             ],
             [
              0.6666666666666666,
              "#ed7953"
             ],
             [
              0.7777777777777778,
              "#fb9f3a"
             ],
             [
              0.8888888888888888,
              "#fdca26"
             ],
             [
              1,
              "#f0f921"
             ]
            ],
            "type": "histogram2dcontour"
           }
          ],
          "mesh3d": [
           {
            "colorbar": {
             "outlinewidth": 0,
             "ticks": ""
            },
            "type": "mesh3d"
           }
          ],
          "parcoords": [
           {
            "line": {
             "colorbar": {
              "outlinewidth": 0,
              "ticks": ""
             }
            },
            "type": "parcoords"
           }
          ],
          "pie": [
           {
            "automargin": true,
            "type": "pie"
           }
          ],
          "scatter": [
           {
            "fillpattern": {
             "fillmode": "overlay",
             "size": 10,
             "solidity": 0.2
            },
            "type": "scatter"
           }
          ],
          "scatter3d": [
           {
            "line": {
             "colorbar": {
              "outlinewidth": 0,
              "ticks": ""
             }
            },
            "marker": {
             "colorbar": {
              "outlinewidth": 0,
              "ticks": ""
             }
            },
            "type": "scatter3d"
           }
          ],
          "scattercarpet": [
           {
            "marker": {
             "colorbar": {
              "outlinewidth": 0,
              "ticks": ""
             }
            },
            "type": "scattercarpet"
           }
          ],
          "scattergeo": [
           {
            "marker": {
             "colorbar": {
              "outlinewidth": 0,
              "ticks": ""
             }
            },
            "type": "scattergeo"
           }
          ],
          "scattergl": [
           {
            "marker": {
             "colorbar": {
              "outlinewidth": 0,
              "ticks": ""
             }
            },
            "type": "scattergl"
           }
          ],
          "scattermapbox": [
           {
            "marker": {
             "colorbar": {
              "outlinewidth": 0,
              "ticks": ""
             }
            },
            "type": "scattermapbox"
           }
          ],
          "scatterpolar": [
           {
            "marker": {
             "colorbar": {
              "outlinewidth": 0,
              "ticks": ""
             }
            },
            "type": "scatterpolar"
           }
          ],
          "scatterpolargl": [
           {
            "marker": {
             "colorbar": {
              "outlinewidth": 0,
              "ticks": ""
             }
            },
            "type": "scatterpolargl"
           }
          ],
          "scatterternary": [
           {
            "marker": {
             "colorbar": {
              "outlinewidth": 0,
              "ticks": ""
             }
            },
            "type": "scatterternary"
           }
          ],
          "surface": [
           {
            "colorbar": {
             "outlinewidth": 0,
             "ticks": ""
            },
            "colorscale": [
             [
              0,
              "#0d0887"
             ],
             [
              0.1111111111111111,
              "#46039f"
             ],
             [
              0.2222222222222222,
              "#7201a8"
             ],
             [
              0.3333333333333333,
              "#9c179e"
             ],
             [
              0.4444444444444444,
              "#bd3786"
             ],
             [
              0.5555555555555556,
              "#d8576b"
             ],
             [
              0.6666666666666666,
              "#ed7953"
             ],
             [
              0.7777777777777778,
              "#fb9f3a"
             ],
             [
              0.8888888888888888,
              "#fdca26"
             ],
             [
              1,
              "#f0f921"
             ]
            ],
            "type": "surface"
           }
          ],
          "table": [
           {
            "cells": {
             "fill": {
              "color": "#EBF0F8"
             },
             "line": {
              "color": "white"
             }
            },
            "header": {
             "fill": {
              "color": "#C8D4E3"
             },
             "line": {
              "color": "white"
             }
            },
            "type": "table"
           }
          ]
         },
         "layout": {
          "annotationdefaults": {
           "arrowcolor": "#2a3f5f",
           "arrowhead": 0,
           "arrowwidth": 1
          },
          "autotypenumbers": "strict",
          "coloraxis": {
           "colorbar": {
            "outlinewidth": 0,
            "ticks": ""
           }
          },
          "colorscale": {
           "diverging": [
            [
             0,
             "#8e0152"
            ],
            [
             0.1,
             "#c51b7d"
            ],
            [
             0.2,
             "#de77ae"
            ],
            [
             0.3,
             "#f1b6da"
            ],
            [
             0.4,
             "#fde0ef"
            ],
            [
             0.5,
             "#f7f7f7"
            ],
            [
             0.6,
             "#e6f5d0"
            ],
            [
             0.7,
             "#b8e186"
            ],
            [
             0.8,
             "#7fbc41"
            ],
            [
             0.9,
             "#4d9221"
            ],
            [
             1,
             "#276419"
            ]
           ],
           "sequential": [
            [
             0,
             "#0d0887"
            ],
            [
             0.1111111111111111,
             "#46039f"
            ],
            [
             0.2222222222222222,
             "#7201a8"
            ],
            [
             0.3333333333333333,
             "#9c179e"
            ],
            [
             0.4444444444444444,
             "#bd3786"
            ],
            [
             0.5555555555555556,
             "#d8576b"
            ],
            [
             0.6666666666666666,
             "#ed7953"
            ],
            [
             0.7777777777777778,
             "#fb9f3a"
            ],
            [
             0.8888888888888888,
             "#fdca26"
            ],
            [
             1,
             "#f0f921"
            ]
           ],
           "sequentialminus": [
            [
             0,
             "#0d0887"
            ],
            [
             0.1111111111111111,
             "#46039f"
            ],
            [
             0.2222222222222222,
             "#7201a8"
            ],
            [
             0.3333333333333333,
             "#9c179e"
            ],
            [
             0.4444444444444444,
             "#bd3786"
            ],
            [
             0.5555555555555556,
             "#d8576b"
            ],
            [
             0.6666666666666666,
             "#ed7953"
            ],
            [
             0.7777777777777778,
             "#fb9f3a"
            ],
            [
             0.8888888888888888,
             "#fdca26"
            ],
            [
             1,
             "#f0f921"
            ]
           ]
          },
          "colorway": [
           "#636efa",
           "#EF553B",
           "#00cc96",
           "#ab63fa",
           "#FFA15A",
           "#19d3f3",
           "#FF6692",
           "#B6E880",
           "#FF97FF",
           "#FECB52"
          ],
          "font": {
           "color": "#2a3f5f"
          },
          "geo": {
           "bgcolor": "white",
           "lakecolor": "white",
           "landcolor": "#E5ECF6",
           "showlakes": true,
           "showland": true,
           "subunitcolor": "white"
          },
          "hoverlabel": {
           "align": "left"
          },
          "hovermode": "closest",
          "mapbox": {
           "style": "light"
          },
          "paper_bgcolor": "white",
          "plot_bgcolor": "#E5ECF6",
          "polar": {
           "angularaxis": {
            "gridcolor": "white",
            "linecolor": "white",
            "ticks": ""
           },
           "bgcolor": "#E5ECF6",
           "radialaxis": {
            "gridcolor": "white",
            "linecolor": "white",
            "ticks": ""
           }
          },
          "scene": {
           "xaxis": {
            "backgroundcolor": "#E5ECF6",
            "gridcolor": "white",
            "gridwidth": 2,
            "linecolor": "white",
            "showbackground": true,
            "ticks": "",
            "zerolinecolor": "white"
           },
           "yaxis": {
            "backgroundcolor": "#E5ECF6",
            "gridcolor": "white",
            "gridwidth": 2,
            "linecolor": "white",
            "showbackground": true,
            "ticks": "",
            "zerolinecolor": "white"
           },
           "zaxis": {
            "backgroundcolor": "#E5ECF6",
            "gridcolor": "white",
            "gridwidth": 2,
            "linecolor": "white",
            "showbackground": true,
            "ticks": "",
            "zerolinecolor": "white"
           }
          },
          "shapedefaults": {
           "line": {
            "color": "#2a3f5f"
           }
          },
          "ternary": {
           "aaxis": {
            "gridcolor": "white",
            "linecolor": "white",
            "ticks": ""
           },
           "baxis": {
            "gridcolor": "white",
            "linecolor": "white",
            "ticks": ""
           },
           "bgcolor": "#E5ECF6",
           "caxis": {
            "gridcolor": "white",
            "linecolor": "white",
            "ticks": ""
           }
          },
          "title": {
           "x": 0.05
          },
          "xaxis": {
           "automargin": true,
           "gridcolor": "white",
           "linecolor": "white",
           "ticks": "",
           "title": {
            "standoff": 15
           },
           "zerolinecolor": "white",
           "zerolinewidth": 2
          },
          "yaxis": {
           "automargin": true,
           "gridcolor": "white",
           "linecolor": "white",
           "ticks": "",
           "title": {
            "standoff": 15
           },
           "zerolinecolor": "white",
           "zerolinewidth": 2
          }
         }
        },
        "title": {
         "text": "Funcionários que deixaram a empresa por faixa de Idade"
        },
        "xaxis": {
         "anchor": "y",
         "domain": [
          0,
          1
         ],
         "title": {
          "text": "faixas de Idade"
         }
        },
        "yaxis": {
         "anchor": "x",
         "domain": [
          0,
          1
         ],
         "title": {
          "text": "Frequência Absoluta"
         }
        }
       }
      }
     },
     "metadata": {},
     "output_type": "display_data"
    }
   ],
   "source": [
    "# Análise bidimensional entre as variáveis \"Funcionário_deixou_a_empresa\" e \"Idade_5\"\n",
    "\n",
    "# Calcular a frequência absoluta ordenada do maior pro menor valor da coluna \"Sim\"\n",
    "freq_abs = (\n",
    "    df.groupby(\"Funcionário_deixou_a_empresa\")[\"Idade_5\"]\n",
    "    .value_counts()\n",
    "    .unstack(fill_value=0)\n",
    ")\n",
    "\n",
    "display(freq_abs.T)\n",
    "\n",
    "# Calcular a frequência relativa\n",
    "freq_rel = round(freq_abs.div(freq_abs.sum(axis=1), axis=0) * 100)\n",
    "\n",
    "display(freq_rel.T)\n",
    "\n",
    "# Calcular a frequência acumulada em percentual\n",
    "freq_acum_pct = freq_rel.cumsum(axis=1)\n",
    "\n",
    "display(freq_acum_pct.T)\n",
    "\n",
    "# Criando grafico de barras dos intervalos de Idade_5 com os valores de frequencia absoluta da coluna \"Sim\"\n",
    "fig = px.bar(\n",
    "    freq_abs.T,\n",
    "    x=[\"18-25\", \"26-35\", \"36-45\", \"46-55\", \"56-65\"],\n",
    "    y=\"Sim\",\n",
    "    title=\"Funcionários que deixaram a empresa por faixa de Idades\",\n",
    "    labels={\"Sim\": \"Frequência Absoluta\", \"x\": \"faixa de Idades\"},\n",
    "    height=400,\n",
    "    text=\"Sim\",\n",
    ")\n",
    "\n",
    "# Adicionar o gráfico de linha da frequencia acumulada ao gráfico de barras existentes\n",
    "fig.add_trace(\n",
    "    go.Scatter(\n",
    "        x=[\"18-25\", \"26-35\", \"36-45\", \"46-55\", \"56-65\"],\n",
    "        y=freq_acum_pct.T[\"Sim\"],\n",
    "        text=freq_acum_pct.T[\"Sim\"],\n",
    "        mode=\"lines+markers+text\",\n",
    "        name=\"Frequência Acumulada %\",\n",
    "        textposition=\"top center\",\n",
    "    )\n",
    ")\n",
    "\n",
    "# exibir o grafico\n",
    "fig.show()\n"
   ]
  },
  {
   "cell_type": "markdown",
   "metadata": {},
   "source": [
    "### Funcionário_deixou_a_empresa X Tempo de carreira"
   ]
  },
  {
   "cell_type": "code",
   "execution_count": 69,
   "metadata": {},
   "outputs": [
    {
     "data": {
      "text/html": [
       "<div>\n",
       "<style scoped>\n",
       "    .dataframe tbody tr th:only-of-type {\n",
       "        vertical-align: middle;\n",
       "    }\n",
       "\n",
       "    .dataframe tbody tr th {\n",
       "        vertical-align: top;\n",
       "    }\n",
       "\n",
       "    .dataframe thead th {\n",
       "        text-align: right;\n",
       "    }\n",
       "</style>\n",
       "<table border=\"1\" class=\"dataframe\">\n",
       "  <thead>\n",
       "    <tr style=\"text-align: right;\">\n",
       "      <th>Funcionário_deixou_a_empresa</th>\n",
       "      <th>Não</th>\n",
       "      <th>Sim</th>\n",
       "    </tr>\n",
       "    <tr>\n",
       "      <th>Tempo_de_carreira_5</th>\n",
       "      <th></th>\n",
       "      <th></th>\n",
       "    </tr>\n",
       "  </thead>\n",
       "  <tbody>\n",
       "    <tr>\n",
       "      <th>0-5</th>\n",
       "      <td>225</td>\n",
       "      <td>91</td>\n",
       "    </tr>\n",
       "    <tr>\n",
       "      <th>6-10</th>\n",
       "      <td>516</td>\n",
       "      <td>91</td>\n",
       "    </tr>\n",
       "    <tr>\n",
       "      <th>11-15</th>\n",
       "      <td>167</td>\n",
       "      <td>24</td>\n",
       "    </tr>\n",
       "    <tr>\n",
       "      <th>16-20</th>\n",
       "      <td>134</td>\n",
       "      <td>15</td>\n",
       "    </tr>\n",
       "    <tr>\n",
       "      <th>21-25</th>\n",
       "      <td>100</td>\n",
       "      <td>9</td>\n",
       "    </tr>\n",
       "    <tr>\n",
       "      <th>26-30</th>\n",
       "      <td>50</td>\n",
       "      <td>2</td>\n",
       "    </tr>\n",
       "    <tr>\n",
       "      <th>31-35</th>\n",
       "      <td>30</td>\n",
       "      <td>3</td>\n",
       "    </tr>\n",
       "    <tr>\n",
       "      <th>36-40</th>\n",
       "      <td>11</td>\n",
       "      <td>2</td>\n",
       "    </tr>\n",
       "  </tbody>\n",
       "</table>\n",
       "</div>"
      ],
      "text/plain": [
       "Funcionário_deixou_a_empresa  Não  Sim\n",
       "Tempo_de_carreira_5                   \n",
       "0-5                           225   91\n",
       "6-10                          516   91\n",
       "11-15                         167   24\n",
       "16-20                         134   15\n",
       "21-25                         100    9\n",
       "26-30                          50    2\n",
       "31-35                          30    3\n",
       "36-40                          11    2"
      ]
     },
     "metadata": {},
     "output_type": "display_data"
    },
    {
     "data": {
      "text/html": [
       "<div>\n",
       "<style scoped>\n",
       "    .dataframe tbody tr th:only-of-type {\n",
       "        vertical-align: middle;\n",
       "    }\n",
       "\n",
       "    .dataframe tbody tr th {\n",
       "        vertical-align: top;\n",
       "    }\n",
       "\n",
       "    .dataframe thead th {\n",
       "        text-align: right;\n",
       "    }\n",
       "</style>\n",
       "<table border=\"1\" class=\"dataframe\">\n",
       "  <thead>\n",
       "    <tr style=\"text-align: right;\">\n",
       "      <th>Funcionário_deixou_a_empresa</th>\n",
       "      <th>Não</th>\n",
       "      <th>Sim</th>\n",
       "    </tr>\n",
       "    <tr>\n",
       "      <th>Tempo_de_carreira_5</th>\n",
       "      <th></th>\n",
       "      <th></th>\n",
       "    </tr>\n",
       "  </thead>\n",
       "  <tbody>\n",
       "    <tr>\n",
       "      <th>0-5</th>\n",
       "      <td>18.0</td>\n",
       "      <td>38.0</td>\n",
       "    </tr>\n",
       "    <tr>\n",
       "      <th>6-10</th>\n",
       "      <td>42.0</td>\n",
       "      <td>38.0</td>\n",
       "    </tr>\n",
       "    <tr>\n",
       "      <th>11-15</th>\n",
       "      <td>14.0</td>\n",
       "      <td>10.0</td>\n",
       "    </tr>\n",
       "    <tr>\n",
       "      <th>16-20</th>\n",
       "      <td>11.0</td>\n",
       "      <td>6.0</td>\n",
       "    </tr>\n",
       "    <tr>\n",
       "      <th>21-25</th>\n",
       "      <td>8.0</td>\n",
       "      <td>4.0</td>\n",
       "    </tr>\n",
       "    <tr>\n",
       "      <th>26-30</th>\n",
       "      <td>4.0</td>\n",
       "      <td>1.0</td>\n",
       "    </tr>\n",
       "    <tr>\n",
       "      <th>31-35</th>\n",
       "      <td>2.0</td>\n",
       "      <td>1.0</td>\n",
       "    </tr>\n",
       "    <tr>\n",
       "      <th>36-40</th>\n",
       "      <td>1.0</td>\n",
       "      <td>1.0</td>\n",
       "    </tr>\n",
       "  </tbody>\n",
       "</table>\n",
       "</div>"
      ],
      "text/plain": [
       "Funcionário_deixou_a_empresa   Não   Sim\n",
       "Tempo_de_carreira_5                     \n",
       "0-5                           18.0  38.0\n",
       "6-10                          42.0  38.0\n",
       "11-15                         14.0  10.0\n",
       "16-20                         11.0   6.0\n",
       "21-25                          8.0   4.0\n",
       "26-30                          4.0   1.0\n",
       "31-35                          2.0   1.0\n",
       "36-40                          1.0   1.0"
      ]
     },
     "metadata": {},
     "output_type": "display_data"
    },
    {
     "data": {
      "text/html": [
       "<div>\n",
       "<style scoped>\n",
       "    .dataframe tbody tr th:only-of-type {\n",
       "        vertical-align: middle;\n",
       "    }\n",
       "\n",
       "    .dataframe tbody tr th {\n",
       "        vertical-align: top;\n",
       "    }\n",
       "\n",
       "    .dataframe thead th {\n",
       "        text-align: right;\n",
       "    }\n",
       "</style>\n",
       "<table border=\"1\" class=\"dataframe\">\n",
       "  <thead>\n",
       "    <tr style=\"text-align: right;\">\n",
       "      <th>Funcionário_deixou_a_empresa</th>\n",
       "      <th>Não</th>\n",
       "      <th>Sim</th>\n",
       "    </tr>\n",
       "    <tr>\n",
       "      <th>Tempo_de_carreira_5</th>\n",
       "      <th></th>\n",
       "      <th></th>\n",
       "    </tr>\n",
       "  </thead>\n",
       "  <tbody>\n",
       "    <tr>\n",
       "      <th>0-5</th>\n",
       "      <td>18.0</td>\n",
       "      <td>38.0</td>\n",
       "    </tr>\n",
       "    <tr>\n",
       "      <th>6-10</th>\n",
       "      <td>60.0</td>\n",
       "      <td>76.0</td>\n",
       "    </tr>\n",
       "    <tr>\n",
       "      <th>11-15</th>\n",
       "      <td>74.0</td>\n",
       "      <td>86.0</td>\n",
       "    </tr>\n",
       "    <tr>\n",
       "      <th>16-20</th>\n",
       "      <td>85.0</td>\n",
       "      <td>92.0</td>\n",
       "    </tr>\n",
       "    <tr>\n",
       "      <th>21-25</th>\n",
       "      <td>93.0</td>\n",
       "      <td>96.0</td>\n",
       "    </tr>\n",
       "    <tr>\n",
       "      <th>26-30</th>\n",
       "      <td>97.0</td>\n",
       "      <td>97.0</td>\n",
       "    </tr>\n",
       "    <tr>\n",
       "      <th>31-35</th>\n",
       "      <td>99.0</td>\n",
       "      <td>98.0</td>\n",
       "    </tr>\n",
       "    <tr>\n",
       "      <th>36-40</th>\n",
       "      <td>100.0</td>\n",
       "      <td>99.0</td>\n",
       "    </tr>\n",
       "  </tbody>\n",
       "</table>\n",
       "</div>"
      ],
      "text/plain": [
       "Funcionário_deixou_a_empresa    Não   Sim\n",
       "Tempo_de_carreira_5                      \n",
       "0-5                            18.0  38.0\n",
       "6-10                           60.0  76.0\n",
       "11-15                          74.0  86.0\n",
       "16-20                          85.0  92.0\n",
       "21-25                          93.0  96.0\n",
       "26-30                          97.0  97.0\n",
       "31-35                          99.0  98.0\n",
       "36-40                         100.0  99.0"
      ]
     },
     "metadata": {},
     "output_type": "display_data"
    },
    {
     "data": {
      "application/vnd.plotly.v1+json": {
       "config": {
        "plotlyServerURL": "https://plot.ly"
       },
       "data": [
        {
         "alignmentgroup": "True",
         "hovertemplate": "faixa de Tempo de carreira=%{x}<br>Frequência Absoluta=%{text}<extra></extra>",
         "legendgroup": "",
         "marker": {
          "color": "#636efa",
          "pattern": {
           "shape": ""
          }
         },
         "name": "",
         "offsetgroup": "",
         "orientation": "v",
         "showlegend": false,
         "text": [
          91,
          91,
          24,
          15,
          9,
          2,
          3,
          2
         ],
         "textposition": "auto",
         "type": "bar",
         "x": [
          "0-5",
          "6-10",
          "11-15",
          "16-20",
          "21-25",
          "26-30",
          "31-35",
          "36-40"
         ],
         "xaxis": "x",
         "y": [
          91,
          91,
          24,
          15,
          9,
          2,
          3,
          2
         ],
         "yaxis": "y"
        },
        {
         "mode": "lines+markers+text",
         "name": "Frequência Acumulada %",
         "text": [
          38,
          76,
          86,
          92,
          96,
          97,
          98,
          99
         ],
         "textposition": "top center",
         "type": "scatter",
         "x": [
          "0-5",
          "6-10",
          "11-15",
          "16-20",
          "21-25",
          "26-30",
          "31-35",
          "36-40"
         ],
         "y": [
          38,
          76,
          86,
          92,
          96,
          97,
          98,
          99
         ]
        }
       ],
       "layout": {
        "barmode": "relative",
        "height": 400,
        "legend": {
         "tracegroupgap": 0
        },
        "template": {
         "data": {
          "bar": [
           {
            "error_x": {
             "color": "#2a3f5f"
            },
            "error_y": {
             "color": "#2a3f5f"
            },
            "marker": {
             "line": {
              "color": "#E5ECF6",
              "width": 0.5
             },
             "pattern": {
              "fillmode": "overlay",
              "size": 10,
              "solidity": 0.2
             }
            },
            "type": "bar"
           }
          ],
          "barpolar": [
           {
            "marker": {
             "line": {
              "color": "#E5ECF6",
              "width": 0.5
             },
             "pattern": {
              "fillmode": "overlay",
              "size": 10,
              "solidity": 0.2
             }
            },
            "type": "barpolar"
           }
          ],
          "carpet": [
           {
            "aaxis": {
             "endlinecolor": "#2a3f5f",
             "gridcolor": "white",
             "linecolor": "white",
             "minorgridcolor": "white",
             "startlinecolor": "#2a3f5f"
            },
            "baxis": {
             "endlinecolor": "#2a3f5f",
             "gridcolor": "white",
             "linecolor": "white",
             "minorgridcolor": "white",
             "startlinecolor": "#2a3f5f"
            },
            "type": "carpet"
           }
          ],
          "choropleth": [
           {
            "colorbar": {
             "outlinewidth": 0,
             "ticks": ""
            },
            "type": "choropleth"
           }
          ],
          "contour": [
           {
            "colorbar": {
             "outlinewidth": 0,
             "ticks": ""
            },
            "colorscale": [
             [
              0,
              "#0d0887"
             ],
             [
              0.1111111111111111,
              "#46039f"
             ],
             [
              0.2222222222222222,
              "#7201a8"
             ],
             [
              0.3333333333333333,
              "#9c179e"
             ],
             [
              0.4444444444444444,
              "#bd3786"
             ],
             [
              0.5555555555555556,
              "#d8576b"
             ],
             [
              0.6666666666666666,
              "#ed7953"
             ],
             [
              0.7777777777777778,
              "#fb9f3a"
             ],
             [
              0.8888888888888888,
              "#fdca26"
             ],
             [
              1,
              "#f0f921"
             ]
            ],
            "type": "contour"
           }
          ],
          "contourcarpet": [
           {
            "colorbar": {
             "outlinewidth": 0,
             "ticks": ""
            },
            "type": "contourcarpet"
           }
          ],
          "heatmap": [
           {
            "colorbar": {
             "outlinewidth": 0,
             "ticks": ""
            },
            "colorscale": [
             [
              0,
              "#0d0887"
             ],
             [
              0.1111111111111111,
              "#46039f"
             ],
             [
              0.2222222222222222,
              "#7201a8"
             ],
             [
              0.3333333333333333,
              "#9c179e"
             ],
             [
              0.4444444444444444,
              "#bd3786"
             ],
             [
              0.5555555555555556,
              "#d8576b"
             ],
             [
              0.6666666666666666,
              "#ed7953"
             ],
             [
              0.7777777777777778,
              "#fb9f3a"
             ],
             [
              0.8888888888888888,
              "#fdca26"
             ],
             [
              1,
              "#f0f921"
             ]
            ],
            "type": "heatmap"
           }
          ],
          "heatmapgl": [
           {
            "colorbar": {
             "outlinewidth": 0,
             "ticks": ""
            },
            "colorscale": [
             [
              0,
              "#0d0887"
             ],
             [
              0.1111111111111111,
              "#46039f"
             ],
             [
              0.2222222222222222,
              "#7201a8"
             ],
             [
              0.3333333333333333,
              "#9c179e"
             ],
             [
              0.4444444444444444,
              "#bd3786"
             ],
             [
              0.5555555555555556,
              "#d8576b"
             ],
             [
              0.6666666666666666,
              "#ed7953"
             ],
             [
              0.7777777777777778,
              "#fb9f3a"
             ],
             [
              0.8888888888888888,
              "#fdca26"
             ],
             [
              1,
              "#f0f921"
             ]
            ],
            "type": "heatmapgl"
           }
          ],
          "histogram": [
           {
            "marker": {
             "pattern": {
              "fillmode": "overlay",
              "size": 10,
              "solidity": 0.2
             }
            },
            "type": "histogram"
           }
          ],
          "histogram2d": [
           {
            "colorbar": {
             "outlinewidth": 0,
             "ticks": ""
            },
            "colorscale": [
             [
              0,
              "#0d0887"
             ],
             [
              0.1111111111111111,
              "#46039f"
             ],
             [
              0.2222222222222222,
              "#7201a8"
             ],
             [
              0.3333333333333333,
              "#9c179e"
             ],
             [
              0.4444444444444444,
              "#bd3786"
             ],
             [
              0.5555555555555556,
              "#d8576b"
             ],
             [
              0.6666666666666666,
              "#ed7953"
             ],
             [
              0.7777777777777778,
              "#fb9f3a"
             ],
             [
              0.8888888888888888,
              "#fdca26"
             ],
             [
              1,
              "#f0f921"
             ]
            ],
            "type": "histogram2d"
           }
          ],
          "histogram2dcontour": [
           {
            "colorbar": {
             "outlinewidth": 0,
             "ticks": ""
            },
            "colorscale": [
             [
              0,
              "#0d0887"
             ],
             [
              0.1111111111111111,
              "#46039f"
             ],
             [
              0.2222222222222222,
              "#7201a8"
             ],
             [
              0.3333333333333333,
              "#9c179e"
             ],
             [
              0.4444444444444444,
              "#bd3786"
             ],
             [
              0.5555555555555556,
              "#d8576b"
             ],
             [
              0.6666666666666666,
              "#ed7953"
             ],
             [
              0.7777777777777778,
              "#fb9f3a"
             ],
             [
              0.8888888888888888,
              "#fdca26"
             ],
             [
              1,
              "#f0f921"
             ]
            ],
            "type": "histogram2dcontour"
           }
          ],
          "mesh3d": [
           {
            "colorbar": {
             "outlinewidth": 0,
             "ticks": ""
            },
            "type": "mesh3d"
           }
          ],
          "parcoords": [
           {
            "line": {
             "colorbar": {
              "outlinewidth": 0,
              "ticks": ""
             }
            },
            "type": "parcoords"
           }
          ],
          "pie": [
           {
            "automargin": true,
            "type": "pie"
           }
          ],
          "scatter": [
           {
            "fillpattern": {
             "fillmode": "overlay",
             "size": 10,
             "solidity": 0.2
            },
            "type": "scatter"
           }
          ],
          "scatter3d": [
           {
            "line": {
             "colorbar": {
              "outlinewidth": 0,
              "ticks": ""
             }
            },
            "marker": {
             "colorbar": {
              "outlinewidth": 0,
              "ticks": ""
             }
            },
            "type": "scatter3d"
           }
          ],
          "scattercarpet": [
           {
            "marker": {
             "colorbar": {
              "outlinewidth": 0,
              "ticks": ""
             }
            },
            "type": "scattercarpet"
           }
          ],
          "scattergeo": [
           {
            "marker": {
             "colorbar": {
              "outlinewidth": 0,
              "ticks": ""
             }
            },
            "type": "scattergeo"
           }
          ],
          "scattergl": [
           {
            "marker": {
             "colorbar": {
              "outlinewidth": 0,
              "ticks": ""
             }
            },
            "type": "scattergl"
           }
          ],
          "scattermapbox": [
           {
            "marker": {
             "colorbar": {
              "outlinewidth": 0,
              "ticks": ""
             }
            },
            "type": "scattermapbox"
           }
          ],
          "scatterpolar": [
           {
            "marker": {
             "colorbar": {
              "outlinewidth": 0,
              "ticks": ""
             }
            },
            "type": "scatterpolar"
           }
          ],
          "scatterpolargl": [
           {
            "marker": {
             "colorbar": {
              "outlinewidth": 0,
              "ticks": ""
             }
            },
            "type": "scatterpolargl"
           }
          ],
          "scatterternary": [
           {
            "marker": {
             "colorbar": {
              "outlinewidth": 0,
              "ticks": ""
             }
            },
            "type": "scatterternary"
           }
          ],
          "surface": [
           {
            "colorbar": {
             "outlinewidth": 0,
             "ticks": ""
            },
            "colorscale": [
             [
              0,
              "#0d0887"
             ],
             [
              0.1111111111111111,
              "#46039f"
             ],
             [
              0.2222222222222222,
              "#7201a8"
             ],
             [
              0.3333333333333333,
              "#9c179e"
             ],
             [
              0.4444444444444444,
              "#bd3786"
             ],
             [
              0.5555555555555556,
              "#d8576b"
             ],
             [
              0.6666666666666666,
              "#ed7953"
             ],
             [
              0.7777777777777778,
              "#fb9f3a"
             ],
             [
              0.8888888888888888,
              "#fdca26"
             ],
             [
              1,
              "#f0f921"
             ]
            ],
            "type": "surface"
           }
          ],
          "table": [
           {
            "cells": {
             "fill": {
              "color": "#EBF0F8"
             },
             "line": {
              "color": "white"
             }
            },
            "header": {
             "fill": {
              "color": "#C8D4E3"
             },
             "line": {
              "color": "white"
             }
            },
            "type": "table"
           }
          ]
         },
         "layout": {
          "annotationdefaults": {
           "arrowcolor": "#2a3f5f",
           "arrowhead": 0,
           "arrowwidth": 1
          },
          "autotypenumbers": "strict",
          "coloraxis": {
           "colorbar": {
            "outlinewidth": 0,
            "ticks": ""
           }
          },
          "colorscale": {
           "diverging": [
            [
             0,
             "#8e0152"
            ],
            [
             0.1,
             "#c51b7d"
            ],
            [
             0.2,
             "#de77ae"
            ],
            [
             0.3,
             "#f1b6da"
            ],
            [
             0.4,
             "#fde0ef"
            ],
            [
             0.5,
             "#f7f7f7"
            ],
            [
             0.6,
             "#e6f5d0"
            ],
            [
             0.7,
             "#b8e186"
            ],
            [
             0.8,
             "#7fbc41"
            ],
            [
             0.9,
             "#4d9221"
            ],
            [
             1,
             "#276419"
            ]
           ],
           "sequential": [
            [
             0,
             "#0d0887"
            ],
            [
             0.1111111111111111,
             "#46039f"
            ],
            [
             0.2222222222222222,
             "#7201a8"
            ],
            [
             0.3333333333333333,
             "#9c179e"
            ],
            [
             0.4444444444444444,
             "#bd3786"
            ],
            [
             0.5555555555555556,
             "#d8576b"
            ],
            [
             0.6666666666666666,
             "#ed7953"
            ],
            [
             0.7777777777777778,
             "#fb9f3a"
            ],
            [
             0.8888888888888888,
             "#fdca26"
            ],
            [
             1,
             "#f0f921"
            ]
           ],
           "sequentialminus": [
            [
             0,
             "#0d0887"
            ],
            [
             0.1111111111111111,
             "#46039f"
            ],
            [
             0.2222222222222222,
             "#7201a8"
            ],
            [
             0.3333333333333333,
             "#9c179e"
            ],
            [
             0.4444444444444444,
             "#bd3786"
            ],
            [
             0.5555555555555556,
             "#d8576b"
            ],
            [
             0.6666666666666666,
             "#ed7953"
            ],
            [
             0.7777777777777778,
             "#fb9f3a"
            ],
            [
             0.8888888888888888,
             "#fdca26"
            ],
            [
             1,
             "#f0f921"
            ]
           ]
          },
          "colorway": [
           "#636efa",
           "#EF553B",
           "#00cc96",
           "#ab63fa",
           "#FFA15A",
           "#19d3f3",
           "#FF6692",
           "#B6E880",
           "#FF97FF",
           "#FECB52"
          ],
          "font": {
           "color": "#2a3f5f"
          },
          "geo": {
           "bgcolor": "white",
           "lakecolor": "white",
           "landcolor": "#E5ECF6",
           "showlakes": true,
           "showland": true,
           "subunitcolor": "white"
          },
          "hoverlabel": {
           "align": "left"
          },
          "hovermode": "closest",
          "mapbox": {
           "style": "light"
          },
          "paper_bgcolor": "white",
          "plot_bgcolor": "#E5ECF6",
          "polar": {
           "angularaxis": {
            "gridcolor": "white",
            "linecolor": "white",
            "ticks": ""
           },
           "bgcolor": "#E5ECF6",
           "radialaxis": {
            "gridcolor": "white",
            "linecolor": "white",
            "ticks": ""
           }
          },
          "scene": {
           "xaxis": {
            "backgroundcolor": "#E5ECF6",
            "gridcolor": "white",
            "gridwidth": 2,
            "linecolor": "white",
            "showbackground": true,
            "ticks": "",
            "zerolinecolor": "white"
           },
           "yaxis": {
            "backgroundcolor": "#E5ECF6",
            "gridcolor": "white",
            "gridwidth": 2,
            "linecolor": "white",
            "showbackground": true,
            "ticks": "",
            "zerolinecolor": "white"
           },
           "zaxis": {
            "backgroundcolor": "#E5ECF6",
            "gridcolor": "white",
            "gridwidth": 2,
            "linecolor": "white",
            "showbackground": true,
            "ticks": "",
            "zerolinecolor": "white"
           }
          },
          "shapedefaults": {
           "line": {
            "color": "#2a3f5f"
           }
          },
          "ternary": {
           "aaxis": {
            "gridcolor": "white",
            "linecolor": "white",
            "ticks": ""
           },
           "baxis": {
            "gridcolor": "white",
            "linecolor": "white",
            "ticks": ""
           },
           "bgcolor": "#E5ECF6",
           "caxis": {
            "gridcolor": "white",
            "linecolor": "white",
            "ticks": ""
           }
          },
          "title": {
           "x": 0.05
          },
          "xaxis": {
           "automargin": true,
           "gridcolor": "white",
           "linecolor": "white",
           "ticks": "",
           "title": {
            "standoff": 15
           },
           "zerolinecolor": "white",
           "zerolinewidth": 2
          },
          "yaxis": {
           "automargin": true,
           "gridcolor": "white",
           "linecolor": "white",
           "ticks": "",
           "title": {
            "standoff": 15
           },
           "zerolinecolor": "white",
           "zerolinewidth": 2
          }
         }
        },
        "title": {
         "font": {
          "size": 20
         },
         "text": "Funcionários que deixaram a empresa por faixa de Tempo de carreira"
        },
        "xaxis": {
         "anchor": "y",
         "domain": [
          0,
          1
         ],
         "title": {
          "text": "faixa de Tempo de carreira"
         }
        },
        "yaxis": {
         "anchor": "x",
         "domain": [
          0,
          1
         ],
         "title": {
          "text": "Frequência Absoluta"
         }
        }
       }
      }
     },
     "metadata": {},
     "output_type": "display_data"
    }
   ],
   "source": [
    "# Análise bidimensional entre as variáveis \"Funcionário_deixou_a_empresa\" e \"Tempo_de_carreira_5\"\n",
    "\n",
    "# Calcular a frequência absoluta ordenada do maior pro menor valor da coluna \"Sim\"\n",
    "freq_abs = (\n",
    "    df.groupby(\"Funcionário_deixou_a_empresa\")[\"Tempo_de_carreira_5\"]\n",
    "    .value_counts()\n",
    "    .unstack(fill_value=0)\n",
    ")\n",
    "\n",
    "display(freq_abs.T)\n",
    "\n",
    "# Calcular a frequência relativa\n",
    "freq_rel = round(freq_abs.div(freq_abs.sum(axis=1), axis=0) * 100)\n",
    "\n",
    "display(freq_rel.T)\n",
    "\n",
    "# Calcular a frequência acumulada em percentual\n",
    "freq_acum_pct = freq_rel.cumsum(axis=1)\n",
    "\n",
    "display(freq_acum_pct.T)\n",
    "\n",
    "# Criando grafico de barras dos intervalos de Tempo_de_carreira_5 com os valores de frequencia absoluta da coluna \"Sim\"\n",
    "fig = px.bar(\n",
    "    freq_abs.T,\n",
    "    x=[\"0-5\", \"6-10\", \"11-15\", \"16-20\", \"21-25\", \"26-30\", \"31-35\", \"36-40\"],\n",
    "    y=\"Sim\",\n",
    "    title=\"Funcionários que deixaram a empresa por faixa de Tempo de carreira\",\n",
    "    labels={\"Sim\": \"Frequência Absoluta\", \"x\": \"faixa de Tempo de carreira\"},\n",
    "    height=400,\n",
    "    text=\"Sim\",\n",
    ")\n",
    "\n",
    "# alterado o tamanho da fonte do título\n",
    "fig.update_layout(title_font_size=20)\n",
    "\n",
    "# Adicionar o gráfico de linha da frequencia acumulada ao gráfico de barras existentes\n",
    "fig.add_trace(\n",
    "    go.Scatter(\n",
    "        x=[\"0-5\", \"6-10\", \"11-15\", \"16-20\", \"21-25\", \"26-30\", \"31-35\", \"36-40\"],\n",
    "        y=freq_acum_pct.T[\"Sim\"],\n",
    "        text=freq_acum_pct.T[\"Sim\"],\n",
    "        mode=\"lines+markers+text\",\n",
    "        name=\"Frequência Acumulada %\",\n",
    "        textposition=\"top center\",\n",
    "    )\n",
    ")\n",
    "\n",
    "# exibir o grafico\n",
    "fig.show()\n"
   ]
  },
  {
   "cell_type": "markdown",
   "metadata": {},
   "source": [
    "# Construir tabelas de medidas resumo para as variáveis quantitativas"
   ]
  },
  {
   "cell_type": "code",
   "execution_count": 64,
   "metadata": {},
   "outputs": [
    {
     "data": {
      "text/html": [
       "<div>\n",
       "<style scoped>\n",
       "    .dataframe tbody tr th:only-of-type {\n",
       "        vertical-align: middle;\n",
       "    }\n",
       "\n",
       "    .dataframe tbody tr th {\n",
       "        vertical-align: top;\n",
       "    }\n",
       "\n",
       "    .dataframe thead th {\n",
       "        text-align: right;\n",
       "    }\n",
       "</style>\n",
       "<table border=\"1\" class=\"dataframe\">\n",
       "  <thead>\n",
       "    <tr style=\"text-align: right;\">\n",
       "      <th></th>\n",
       "      <th>count</th>\n",
       "      <th>mean</th>\n",
       "      <th>std</th>\n",
       "      <th>min</th>\n",
       "      <th>25%</th>\n",
       "      <th>50%</th>\n",
       "      <th>75%</th>\n",
       "      <th>max</th>\n",
       "    </tr>\n",
       "  </thead>\n",
       "  <tbody>\n",
       "    <tr>\n",
       "      <th>ID</th>\n",
       "      <td>1470.0</td>\n",
       "      <td>735.500000</td>\n",
       "      <td>424.496761</td>\n",
       "      <td>1.0</td>\n",
       "      <td>368.25</td>\n",
       "      <td>735.5</td>\n",
       "      <td>1102.75</td>\n",
       "      <td>1470.0</td>\n",
       "    </tr>\n",
       "    <tr>\n",
       "      <th>Idade</th>\n",
       "      <td>1470.0</td>\n",
       "      <td>36.923810</td>\n",
       "      <td>9.135373</td>\n",
       "      <td>18.0</td>\n",
       "      <td>30.00</td>\n",
       "      <td>36.0</td>\n",
       "      <td>43.00</td>\n",
       "      <td>60.0</td>\n",
       "    </tr>\n",
       "    <tr>\n",
       "      <th>Distância_do_trabalho</th>\n",
       "      <td>1470.0</td>\n",
       "      <td>9.192517</td>\n",
       "      <td>8.106864</td>\n",
       "      <td>1.0</td>\n",
       "      <td>2.00</td>\n",
       "      <td>7.0</td>\n",
       "      <td>14.00</td>\n",
       "      <td>29.0</td>\n",
       "    </tr>\n",
       "    <tr>\n",
       "      <th>Salário</th>\n",
       "      <td>1470.0</td>\n",
       "      <td>6502.931293</td>\n",
       "      <td>4707.956783</td>\n",
       "      <td>1009.0</td>\n",
       "      <td>2911.00</td>\n",
       "      <td>4919.0</td>\n",
       "      <td>8379.00</td>\n",
       "      <td>19999.0</td>\n",
       "    </tr>\n",
       "    <tr>\n",
       "      <th>Qte_Empresas_Trabalhadas</th>\n",
       "      <td>1470.0</td>\n",
       "      <td>2.693197</td>\n",
       "      <td>2.498009</td>\n",
       "      <td>0.0</td>\n",
       "      <td>1.00</td>\n",
       "      <td>2.0</td>\n",
       "      <td>4.00</td>\n",
       "      <td>9.0</td>\n",
       "    </tr>\n",
       "    <tr>\n",
       "      <th>Perc_de_aumento</th>\n",
       "      <td>1470.0</td>\n",
       "      <td>15.209524</td>\n",
       "      <td>3.659938</td>\n",
       "      <td>11.0</td>\n",
       "      <td>12.00</td>\n",
       "      <td>14.0</td>\n",
       "      <td>18.00</td>\n",
       "      <td>25.0</td>\n",
       "    </tr>\n",
       "    <tr>\n",
       "      <th>Qte_ações_da_empresa</th>\n",
       "      <td>1470.0</td>\n",
       "      <td>0.793878</td>\n",
       "      <td>0.852077</td>\n",
       "      <td>0.0</td>\n",
       "      <td>0.00</td>\n",
       "      <td>1.0</td>\n",
       "      <td>1.00</td>\n",
       "      <td>3.0</td>\n",
       "    </tr>\n",
       "    <tr>\n",
       "      <th>Tempo_de_carreira</th>\n",
       "      <td>1470.0</td>\n",
       "      <td>11.279592</td>\n",
       "      <td>7.780782</td>\n",
       "      <td>0.0</td>\n",
       "      <td>6.00</td>\n",
       "      <td>10.0</td>\n",
       "      <td>15.00</td>\n",
       "      <td>40.0</td>\n",
       "    </tr>\n",
       "    <tr>\n",
       "      <th>Horas_de_treinamento</th>\n",
       "      <td>1470.0</td>\n",
       "      <td>2.799320</td>\n",
       "      <td>1.289271</td>\n",
       "      <td>0.0</td>\n",
       "      <td>2.00</td>\n",
       "      <td>3.0</td>\n",
       "      <td>3.00</td>\n",
       "      <td>6.0</td>\n",
       "    </tr>\n",
       "    <tr>\n",
       "      <th>Tempo_de_empresa</th>\n",
       "      <td>1470.0</td>\n",
       "      <td>7.008163</td>\n",
       "      <td>6.126525</td>\n",
       "      <td>0.0</td>\n",
       "      <td>3.00</td>\n",
       "      <td>5.0</td>\n",
       "      <td>9.00</td>\n",
       "      <td>40.0</td>\n",
       "    </tr>\n",
       "    <tr>\n",
       "      <th>Anos_no_mesmo_cargo</th>\n",
       "      <td>1470.0</td>\n",
       "      <td>4.229252</td>\n",
       "      <td>3.623137</td>\n",
       "      <td>0.0</td>\n",
       "      <td>2.00</td>\n",
       "      <td>3.0</td>\n",
       "      <td>7.00</td>\n",
       "      <td>18.0</td>\n",
       "    </tr>\n",
       "    <tr>\n",
       "      <th>Anos_desde_a_ultima_promocao</th>\n",
       "      <td>1470.0</td>\n",
       "      <td>2.187755</td>\n",
       "      <td>3.222430</td>\n",
       "      <td>0.0</td>\n",
       "      <td>0.00</td>\n",
       "      <td>1.0</td>\n",
       "      <td>3.00</td>\n",
       "      <td>15.0</td>\n",
       "    </tr>\n",
       "    <tr>\n",
       "      <th>Anos_com_o_mesmo_chefe</th>\n",
       "      <td>1470.0</td>\n",
       "      <td>4.123129</td>\n",
       "      <td>3.568136</td>\n",
       "      <td>0.0</td>\n",
       "      <td>2.00</td>\n",
       "      <td>3.0</td>\n",
       "      <td>7.00</td>\n",
       "      <td>17.0</td>\n",
       "    </tr>\n",
       "  </tbody>\n",
       "</table>\n",
       "</div>"
      ],
      "text/plain": [
       "                               count         mean          std     min  \\\n",
       "ID                            1470.0   735.500000   424.496761     1.0   \n",
       "Idade                         1470.0    36.923810     9.135373    18.0   \n",
       "Distância_do_trabalho         1470.0     9.192517     8.106864     1.0   \n",
       "Salário                       1470.0  6502.931293  4707.956783  1009.0   \n",
       "Qte_Empresas_Trabalhadas      1470.0     2.693197     2.498009     0.0   \n",
       "Perc_de_aumento               1470.0    15.209524     3.659938    11.0   \n",
       "Qte_ações_da_empresa          1470.0     0.793878     0.852077     0.0   \n",
       "Tempo_de_carreira             1470.0    11.279592     7.780782     0.0   \n",
       "Horas_de_treinamento          1470.0     2.799320     1.289271     0.0   \n",
       "Tempo_de_empresa              1470.0     7.008163     6.126525     0.0   \n",
       "Anos_no_mesmo_cargo           1470.0     4.229252     3.623137     0.0   \n",
       "Anos_desde_a_ultima_promocao  1470.0     2.187755     3.222430     0.0   \n",
       "Anos_com_o_mesmo_chefe        1470.0     4.123129     3.568136     0.0   \n",
       "\n",
       "                                  25%     50%      75%      max  \n",
       "ID                             368.25   735.5  1102.75   1470.0  \n",
       "Idade                           30.00    36.0    43.00     60.0  \n",
       "Distância_do_trabalho            2.00     7.0    14.00     29.0  \n",
       "Salário                       2911.00  4919.0  8379.00  19999.0  \n",
       "Qte_Empresas_Trabalhadas         1.00     2.0     4.00      9.0  \n",
       "Perc_de_aumento                 12.00    14.0    18.00     25.0  \n",
       "Qte_ações_da_empresa             0.00     1.0     1.00      3.0  \n",
       "Tempo_de_carreira                6.00    10.0    15.00     40.0  \n",
       "Horas_de_treinamento             2.00     3.0     3.00      6.0  \n",
       "Tempo_de_empresa                 3.00     5.0     9.00     40.0  \n",
       "Anos_no_mesmo_cargo              2.00     3.0     7.00     18.0  \n",
       "Anos_desde_a_ultima_promocao     0.00     1.0     3.00     15.0  \n",
       "Anos_com_o_mesmo_chefe           2.00     3.0     7.00     17.0  "
      ]
     },
     "execution_count": 64,
     "metadata": {},
     "output_type": "execute_result"
    }
   ],
   "source": [
    "# Resumo das variáveis numéricas\n",
    "\n",
    "df.describe().T"
   ]
  }
 ],
 "metadata": {
  "kernelspec": {
   "display_name": "base",
   "language": "python",
   "name": "python3"
  },
  "language_info": {
   "codemirror_mode": {
    "name": "ipython",
    "version": 3
   },
   "file_extension": ".py",
   "mimetype": "text/x-python",
   "name": "python",
   "nbconvert_exporter": "python",
   "pygments_lexer": "ipython3",
   "version": "3.11.5"
  }
 },
 "nbformat": 4,
 "nbformat_minor": 2
}
